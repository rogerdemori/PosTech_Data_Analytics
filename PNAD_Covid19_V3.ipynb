{
  "nbformat": 4,
  "nbformat_minor": 0,
  "metadata": {
    "colab": {
      "provenance": [],
      "collapsed_sections": [
        "jsXoFA3UPF3i"
      ],
      "include_colab_link": true
    },
    "kernelspec": {
      "name": "python3",
      "display_name": "Python 3"
    },
    "language_info": {
      "name": "python"
    }
  },
  "cells": [
    {
      "cell_type": "markdown",
      "metadata": {
        "id": "view-in-github",
        "colab_type": "text"
      },
      "source": [
        "<a href=\"https://colab.research.google.com/github/rogerdemori/PosTech_Data_Analytics/blob/main/PNAD_Covid19_V3.ipynb\" target=\"_parent\"><img src=\"https://colab.research.google.com/assets/colab-badge.svg\" alt=\"Open In Colab\"/></a>"
      ]
    },
    {
      "cell_type": "code",
      "execution_count": 40,
      "metadata": {
        "id": "FSRssUPDM-32",
        "colab": {
          "base_uri": "https://localhost:8080/"
        },
        "outputId": "7bf82460-f82e-400b-99f3-d9c8d7a2a5fb"
      },
      "outputs": [
        {
          "output_type": "stream",
          "name": "stdout",
          "text": [
            "Requirement already satisfied: pyspark in /usr/local/lib/python3.10/dist-packages (3.5.0)\n",
            "Requirement already satisfied: py4j==0.10.9.7 in /usr/local/lib/python3.10/dist-packages (from pyspark) (0.10.9.7)\n"
          ]
        }
      ],
      "source": [
        "!pip install pyspark"
      ]
    },
    {
      "cell_type": "code",
      "source": [
        "!pip install pandas\n",
        "!pip install numpy\n",
        "!pip install matplotlib\n",
        "!pip install seaborn\n",
        "!pip install basedosdados"
      ],
      "metadata": {
        "id": "s-_8IsTFMovv",
        "colab": {
          "base_uri": "https://localhost:8080/"
        },
        "outputId": "37757cac-e801-4209-df5c-ff7810f79cb5"
      },
      "execution_count": 41,
      "outputs": [
        {
          "output_type": "stream",
          "name": "stdout",
          "text": [
            "Requirement already satisfied: pandas in /usr/local/lib/python3.10/dist-packages (1.5.3)\n",
            "Requirement already satisfied: python-dateutil>=2.8.1 in /usr/local/lib/python3.10/dist-packages (from pandas) (2.8.2)\n",
            "Requirement already satisfied: pytz>=2020.1 in /usr/local/lib/python3.10/dist-packages (from pandas) (2023.3.post1)\n",
            "Requirement already satisfied: numpy>=1.21.0 in /usr/local/lib/python3.10/dist-packages (from pandas) (1.23.5)\n",
            "Requirement already satisfied: six>=1.5 in /usr/local/lib/python3.10/dist-packages (from python-dateutil>=2.8.1->pandas) (1.16.0)\n",
            "Requirement already satisfied: numpy in /usr/local/lib/python3.10/dist-packages (1.23.5)\n",
            "Requirement already satisfied: matplotlib in /usr/local/lib/python3.10/dist-packages (3.7.1)\n",
            "Requirement already satisfied: contourpy>=1.0.1 in /usr/local/lib/python3.10/dist-packages (from matplotlib) (1.2.0)\n",
            "Requirement already satisfied: cycler>=0.10 in /usr/local/lib/python3.10/dist-packages (from matplotlib) (0.12.1)\n",
            "Requirement already satisfied: fonttools>=4.22.0 in /usr/local/lib/python3.10/dist-packages (from matplotlib) (4.44.0)\n",
            "Requirement already satisfied: kiwisolver>=1.0.1 in /usr/local/lib/python3.10/dist-packages (from matplotlib) (1.4.5)\n",
            "Requirement already satisfied: numpy>=1.20 in /usr/local/lib/python3.10/dist-packages (from matplotlib) (1.23.5)\n",
            "Requirement already satisfied: packaging>=20.0 in /usr/local/lib/python3.10/dist-packages (from matplotlib) (23.2)\n",
            "Requirement already satisfied: pillow>=6.2.0 in /usr/local/lib/python3.10/dist-packages (from matplotlib) (9.4.0)\n",
            "Requirement already satisfied: pyparsing>=2.3.1 in /usr/local/lib/python3.10/dist-packages (from matplotlib) (3.1.1)\n",
            "Requirement already satisfied: python-dateutil>=2.7 in /usr/local/lib/python3.10/dist-packages (from matplotlib) (2.8.2)\n",
            "Requirement already satisfied: six>=1.5 in /usr/local/lib/python3.10/dist-packages (from python-dateutil>=2.7->matplotlib) (1.16.0)\n",
            "Requirement already satisfied: seaborn in /usr/local/lib/python3.10/dist-packages (0.12.2)\n",
            "Requirement already satisfied: numpy!=1.24.0,>=1.17 in /usr/local/lib/python3.10/dist-packages (from seaborn) (1.23.5)\n",
            "Requirement already satisfied: pandas>=0.25 in /usr/local/lib/python3.10/dist-packages (from seaborn) (1.5.3)\n",
            "Requirement already satisfied: matplotlib!=3.6.1,>=3.1 in /usr/local/lib/python3.10/dist-packages (from seaborn) (3.7.1)\n",
            "Requirement already satisfied: contourpy>=1.0.1 in /usr/local/lib/python3.10/dist-packages (from matplotlib!=3.6.1,>=3.1->seaborn) (1.2.0)\n",
            "Requirement already satisfied: cycler>=0.10 in /usr/local/lib/python3.10/dist-packages (from matplotlib!=3.6.1,>=3.1->seaborn) (0.12.1)\n",
            "Requirement already satisfied: fonttools>=4.22.0 in /usr/local/lib/python3.10/dist-packages (from matplotlib!=3.6.1,>=3.1->seaborn) (4.44.0)\n",
            "Requirement already satisfied: kiwisolver>=1.0.1 in /usr/local/lib/python3.10/dist-packages (from matplotlib!=3.6.1,>=3.1->seaborn) (1.4.5)\n",
            "Requirement already satisfied: packaging>=20.0 in /usr/local/lib/python3.10/dist-packages (from matplotlib!=3.6.1,>=3.1->seaborn) (23.2)\n",
            "Requirement already satisfied: pillow>=6.2.0 in /usr/local/lib/python3.10/dist-packages (from matplotlib!=3.6.1,>=3.1->seaborn) (9.4.0)\n",
            "Requirement already satisfied: pyparsing>=2.3.1 in /usr/local/lib/python3.10/dist-packages (from matplotlib!=3.6.1,>=3.1->seaborn) (3.1.1)\n",
            "Requirement already satisfied: python-dateutil>=2.7 in /usr/local/lib/python3.10/dist-packages (from matplotlib!=3.6.1,>=3.1->seaborn) (2.8.2)\n",
            "Requirement already satisfied: pytz>=2020.1 in /usr/local/lib/python3.10/dist-packages (from pandas>=0.25->seaborn) (2023.3.post1)\n",
            "Requirement already satisfied: six>=1.5 in /usr/local/lib/python3.10/dist-packages (from python-dateutil>=2.7->matplotlib!=3.6.1,>=3.1->seaborn) (1.16.0)\n",
            "Requirement already satisfied: basedosdados in /usr/local/lib/python3.10/dist-packages (1.6.11)\n",
            "Requirement already satisfied: Jinja2==3.0.3 in /usr/local/lib/python3.10/dist-packages (from basedosdados) (3.0.3)\n",
            "Requirement already satisfied: ckanapi==4.6 in /usr/local/lib/python3.10/dist-packages (from basedosdados) (4.6)\n",
            "Requirement already satisfied: click==8.0.3 in /usr/local/lib/python3.10/dist-packages (from basedosdados) (8.0.3)\n",
            "Requirement already satisfied: google-cloud-bigquery==2.30.1 in /usr/local/lib/python3.10/dist-packages (from basedosdados) (2.30.1)\n",
            "Requirement already satisfied: google-cloud-bigquery-storage==1.1.0 in /usr/local/lib/python3.10/dist-packages (from basedosdados) (1.1.0)\n",
            "Requirement already satisfied: google-cloud-storage==1.42.3 in /usr/local/lib/python3.10/dist-packages (from basedosdados) (1.42.3)\n",
            "Requirement already satisfied: importlib-metadata<5.0.0,>=4.11.3 in /usr/local/lib/python3.10/dist-packages (from basedosdados) (4.13.0)\n",
            "Requirement already satisfied: loguru<0.7.0,>=0.6.0 in /usr/local/lib/python3.10/dist-packages (from basedosdados) (0.6.0)\n",
            "Requirement already satisfied: pandas<2.0.0,>=1.3.5 in /usr/local/lib/python3.10/dist-packages (from basedosdados) (1.5.3)\n",
            "Requirement already satisfied: pandas-gbq<0.18.0,>=0.17.4 in /usr/local/lib/python3.10/dist-packages (from basedosdados) (0.17.9)\n",
            "Requirement already satisfied: pandavro<2.0.0,>=1.6.0 in /usr/local/lib/python3.10/dist-packages (from basedosdados) (1.7.2)\n",
            "Requirement already satisfied: pyaml==20.4.0 in /usr/local/lib/python3.10/dist-packages (from basedosdados) (20.4.0)\n",
            "Requirement already satisfied: pyarrow==6.0.0 in /usr/local/lib/python3.10/dist-packages (from basedosdados) (6.0.0)\n",
            "Requirement already satisfied: ruamel.yaml==0.17.10 in /usr/local/lib/python3.10/dist-packages (from basedosdados) (0.17.10)\n",
            "Requirement already satisfied: shapely<2.0.0,>=1.6.0 in /usr/local/lib/python3.10/dist-packages (from basedosdados) (1.8.5.post1)\n",
            "Requirement already satisfied: toml<0.11.0,>=0.10.2 in /usr/local/lib/python3.10/dist-packages (from basedosdados) (0.10.2)\n",
            "Requirement already satisfied: tomlkit==0.7.0 in /usr/local/lib/python3.10/dist-packages (from basedosdados) (0.7.0)\n",
            "Requirement already satisfied: tqdm==4.50.2 in /usr/local/lib/python3.10/dist-packages (from basedosdados) (4.50.2)\n",
            "Requirement already satisfied: setuptools in /usr/local/lib/python3.10/dist-packages (from ckanapi==4.6->basedosdados) (67.7.2)\n",
            "Requirement already satisfied: docopt in /usr/local/lib/python3.10/dist-packages (from ckanapi==4.6->basedosdados) (0.6.2)\n",
            "Requirement already satisfied: requests in /usr/local/lib/python3.10/dist-packages (from ckanapi==4.6->basedosdados) (2.31.0)\n",
            "Requirement already satisfied: python-slugify>=1.0 in /usr/local/lib/python3.10/dist-packages (from ckanapi==4.6->basedosdados) (8.0.1)\n",
            "Requirement already satisfied: six<2.0,>=1.9 in /usr/local/lib/python3.10/dist-packages (from ckanapi==4.6->basedosdados) (1.16.0)\n",
            "Requirement already satisfied: grpcio<2.0dev,>=1.38.1 in /usr/local/lib/python3.10/dist-packages (from google-cloud-bigquery==2.30.1->basedosdados) (1.59.2)\n",
            "Requirement already satisfied: google-api-core[grpc]<3.0.0dev,>=1.29.0 in /usr/local/lib/python3.10/dist-packages (from google-cloud-bigquery==2.30.1->basedosdados) (1.34.0)\n",
            "Requirement already satisfied: proto-plus>=1.10.0 in /usr/local/lib/python3.10/dist-packages (from google-cloud-bigquery==2.30.1->basedosdados) (1.22.3)\n",
            "Requirement already satisfied: google-cloud-core<3.0.0dev,>=1.4.1 in /usr/local/lib/python3.10/dist-packages (from google-cloud-bigquery==2.30.1->basedosdados) (2.3.3)\n",
            "Requirement already satisfied: google-resumable-media<3.0dev,>=0.6.0 in /usr/local/lib/python3.10/dist-packages (from google-cloud-bigquery==2.30.1->basedosdados) (2.6.0)\n",
            "Requirement already satisfied: packaging>=14.3 in /usr/local/lib/python3.10/dist-packages (from google-cloud-bigquery==2.30.1->basedosdados) (23.2)\n",
            "Requirement already satisfied: protobuf>=3.12.0 in /usr/local/lib/python3.10/dist-packages (from google-cloud-bigquery==2.30.1->basedosdados) (3.20.3)\n",
            "Requirement already satisfied: python-dateutil<3.0dev,>=2.7.2 in /usr/local/lib/python3.10/dist-packages (from google-cloud-bigquery==2.30.1->basedosdados) (2.8.2)\n",
            "Requirement already satisfied: google-auth<3.0dev,>=1.25.0 in /usr/local/lib/python3.10/dist-packages (from google-cloud-storage==1.42.3->basedosdados) (2.17.3)\n",
            "Requirement already satisfied: MarkupSafe>=2.0 in /usr/local/lib/python3.10/dist-packages (from Jinja2==3.0.3->basedosdados) (2.1.3)\n",
            "Requirement already satisfied: PyYAML in /usr/local/lib/python3.10/dist-packages (from pyaml==20.4.0->basedosdados) (6.0.1)\n",
            "Requirement already satisfied: numpy>=1.16.6 in /usr/local/lib/python3.10/dist-packages (from pyarrow==6.0.0->basedosdados) (1.23.5)\n",
            "Requirement already satisfied: zipp>=0.5 in /usr/local/lib/python3.10/dist-packages (from importlib-metadata<5.0.0,>=4.11.3->basedosdados) (3.17.0)\n",
            "Requirement already satisfied: pytz>=2020.1 in /usr/local/lib/python3.10/dist-packages (from pandas<2.0.0,>=1.3.5->basedosdados) (2023.3.post1)\n",
            "Requirement already satisfied: db-dtypes<2.0.0,>=0.3.1 in /usr/local/lib/python3.10/dist-packages (from pandas-gbq<0.18.0,>=0.17.4->basedosdados) (1.1.1)\n",
            "Requirement already satisfied: pydata-google-auth in /usr/local/lib/python3.10/dist-packages (from pandas-gbq<0.18.0,>=0.17.4->basedosdados) (1.8.2)\n",
            "Requirement already satisfied: google-auth-oauthlib>=0.0.1 in /usr/local/lib/python3.10/dist-packages (from pandas-gbq<0.18.0,>=0.17.4->basedosdados) (1.0.0)\n",
            "Requirement already satisfied: fastavro~=1.5.1 in /usr/local/lib/python3.10/dist-packages (from pandavro<2.0.0,>=1.6.0->basedosdados) (1.5.4)\n",
            "Requirement already satisfied: googleapis-common-protos<2.0dev,>=1.56.2 in /usr/local/lib/python3.10/dist-packages (from google-api-core[grpc]<3.0.0dev,>=1.29.0->google-cloud-bigquery==2.30.1->basedosdados) (1.61.0)\n",
            "Requirement already satisfied: grpcio-status<2.0dev,>=1.33.2 in /usr/local/lib/python3.10/dist-packages (from google-api-core[grpc]<3.0.0dev,>=1.29.0->google-cloud-bigquery==2.30.1->basedosdados) (1.48.2)\n",
            "Requirement already satisfied: cachetools<6.0,>=2.0.0 in /usr/local/lib/python3.10/dist-packages (from google-auth<3.0dev,>=1.25.0->google-cloud-storage==1.42.3->basedosdados) (5.3.2)\n",
            "Requirement already satisfied: pyasn1-modules>=0.2.1 in /usr/local/lib/python3.10/dist-packages (from google-auth<3.0dev,>=1.25.0->google-cloud-storage==1.42.3->basedosdados) (0.3.0)\n",
            "Requirement already satisfied: rsa<5,>=3.1.4 in /usr/local/lib/python3.10/dist-packages (from google-auth<3.0dev,>=1.25.0->google-cloud-storage==1.42.3->basedosdados) (4.9)\n",
            "Requirement already satisfied: requests-oauthlib>=0.7.0 in /usr/local/lib/python3.10/dist-packages (from google-auth-oauthlib>=0.0.1->pandas-gbq<0.18.0,>=0.17.4->basedosdados) (1.3.1)\n",
            "Requirement already satisfied: google-crc32c<2.0dev,>=1.0 in /usr/local/lib/python3.10/dist-packages (from google-resumable-media<3.0dev,>=0.6.0->google-cloud-bigquery==2.30.1->basedosdados) (1.5.0)\n",
            "Requirement already satisfied: text-unidecode>=1.3 in /usr/local/lib/python3.10/dist-packages (from python-slugify>=1.0->ckanapi==4.6->basedosdados) (1.3)\n",
            "Requirement already satisfied: charset-normalizer<4,>=2 in /usr/local/lib/python3.10/dist-packages (from requests->ckanapi==4.6->basedosdados) (3.3.2)\n",
            "Requirement already satisfied: idna<4,>=2.5 in /usr/local/lib/python3.10/dist-packages (from requests->ckanapi==4.6->basedosdados) (3.4)\n",
            "Requirement already satisfied: urllib3<3,>=1.21.1 in /usr/local/lib/python3.10/dist-packages (from requests->ckanapi==4.6->basedosdados) (2.0.7)\n",
            "Requirement already satisfied: certifi>=2017.4.17 in /usr/local/lib/python3.10/dist-packages (from requests->ckanapi==4.6->basedosdados) (2023.7.22)\n",
            "Requirement already satisfied: pyasn1<0.6.0,>=0.4.6 in /usr/local/lib/python3.10/dist-packages (from pyasn1-modules>=0.2.1->google-auth<3.0dev,>=1.25.0->google-cloud-storage==1.42.3->basedosdados) (0.5.0)\n",
            "Requirement already satisfied: oauthlib>=3.0.0 in /usr/local/lib/python3.10/dist-packages (from requests-oauthlib>=0.7.0->google-auth-oauthlib>=0.0.1->pandas-gbq<0.18.0,>=0.17.4->basedosdados) (3.2.2)\n"
          ]
        }
      ]
    },
    {
      "cell_type": "code",
      "source": [
        "import pandas as pd\n",
        "import basedosdados as bd ## database management system for Bra# zilian public data\n",
        "import numpy as np\n",
        "import seaborn as sns\n",
        "import os\n",
        "from matplotlib import pyplot\n",
        "from pyspark.sql import SparkSession\n",
        "from pyspark.sql import functions as F\n",
        "from pyspark.sql.types import StructType, StructField, IntegerType, FloatType, StringType\n",
        "from pyspark.sql.functions import col, expr, concat, when, udf\n",
        "\n",
        "spark = SparkSession.builder.appName(\"PNAD_Covic19\").getOrCreate()\n",
        "spark"
      ],
      "metadata": {
        "colab": {
          "base_uri": "https://localhost:8080/",
          "height": 219
        },
        "id": "p29aIjVbNSqn",
        "outputId": "46836e00-19fc-4059-e24b-125aa5198642"
      },
      "execution_count": 42,
      "outputs": [
        {
          "output_type": "execute_result",
          "data": {
            "text/plain": [
              "<pyspark.sql.session.SparkSession at 0x7e5297356530>"
            ],
            "text/html": [
              "\n",
              "            <div>\n",
              "                <p><b>SparkSession - in-memory</b></p>\n",
              "                \n",
              "        <div>\n",
              "            <p><b>SparkContext</b></p>\n",
              "\n",
              "            <p><a href=\"http://7c7e7aa75e18:4040\">Spark UI</a></p>\n",
              "\n",
              "            <dl>\n",
              "              <dt>Version</dt>\n",
              "                <dd><code>v3.5.0</code></dd>\n",
              "              <dt>Master</dt>\n",
              "                <dd><code>local[*]</code></dd>\n",
              "              <dt>AppName</dt>\n",
              "                <dd><code>PNAD_Covic19</code></dd>\n",
              "            </dl>\n",
              "        </div>\n",
              "        \n",
              "            </div>\n",
              "        "
            ]
          },
          "metadata": {},
          "execution_count": 42
        }
      ]
    },
    {
      "cell_type": "code",
      "source": [
        "# dict_basedosdados = bd.read_table(dataset_id='br_ibge_pnad_covid',\n",
        "# table_id='dicionario',\n",
        "# billing_project_id=\"basedosdados-1\")"
      ],
      "metadata": {
        "id": "i4Qd3i39ON6r"
      },
      "execution_count": 43,
      "outputs": []
    },
    {
      "cell_type": "code",
      "source": [
        "# base_df = bd.read_table(dataset_id='br_ibge_pnad_covid',\n",
        "#   table_id='microdados',\n",
        "#   billing_project_id=\"basedosdados-1\") \\\n",
        "#           .fillna(0)"
      ],
      "metadata": {
        "id": "1VlqpvpBHXq5"
      },
      "execution_count": 44,
      "outputs": []
    },
    {
      "cell_type": "code",
      "source": [
        "# base_df_sql = bd.read_sql(query=\"SELECT  * \\\n",
        "#                                   FROM `basedosdados.br_ibge_pnad_covid.microdados` cov_md \\\n",
        "#                                   WHERE cov_md.mes in (9,10,11)\") \\\n",
        "#                                 .fillna(0)\n"
      ],
      "metadata": {
        "id": "ZRp_3BHzTcEZ"
      },
      "execution_count": 45,
      "outputs": []
    },
    {
      "cell_type": "code",
      "source": [
        "# base_df_sql"
      ],
      "metadata": {
        "id": "6tG20cdqS-kB"
      },
      "execution_count": 46,
      "outputs": []
    },
    {
      "cell_type": "code",
      "source": [
        "# Set display options to show all columns and rows\n",
        "pd.set_option('display.max_columns', None)\n",
        "pd.set_option('display.max_rows', 30)"
      ],
      "metadata": {
        "id": "LvD6iBPw2wV9"
      },
      "execution_count": 47,
      "outputs": []
    },
    {
      "cell_type": "code",
      "source": [
        "# covid_df = spark.createDataFrame(data = base_df_sql)"
      ],
      "metadata": {
        "id": "jKCmpMsVg-uI"
      },
      "execution_count": 48,
      "outputs": []
    },
    {
      "cell_type": "code",
      "source": [
        "from google.colab import drive\n",
        "drive.mount('/content/gdrive')"
      ],
      "metadata": {
        "id": "Akopaw03G239",
        "colab": {
          "base_uri": "https://localhost:8080/"
        },
        "outputId": "18f10cac-0d98-43e3-c6f9-48f1ccae1716"
      },
      "execution_count": 49,
      "outputs": [
        {
          "output_type": "stream",
          "name": "stdout",
          "text": [
            "Mounted at /content/gdrive\n"
          ]
        }
      ]
    },
    {
      "cell_type": "code",
      "source": [
        "csv_path = '/content/gdrive/MyDrive/Colab Notebooks/Consolidado_Knime_PNAD_COVID.csv'"
      ],
      "metadata": {
        "id": "yOIlYCGIbcMx"
      },
      "execution_count": 50,
      "outputs": []
    },
    {
      "cell_type": "code",
      "source": [
        "df = spark.read.csv(csv_path, inferSchema = True,header=True)"
      ],
      "metadata": {
        "id": "6TA7Q3YWDLiZ"
      },
      "execution_count": 51,
      "outputs": []
    },
    {
      "cell_type": "code",
      "source": [
        "type(df)"
      ],
      "metadata": {
        "id": "P6AADuu7LU1F",
        "colab": {
          "base_uri": "https://localhost:8080/"
        },
        "outputId": "96be251c-b4c4-4d66-dded-1fe9879a55a0"
      },
      "execution_count": 52,
      "outputs": [
        {
          "output_type": "execute_result",
          "data": {
            "text/plain": [
              "pyspark.sql.dataframe.DataFrame"
            ]
          },
          "metadata": {},
          "execution_count": 52
        }
      ]
    },
    {
      "cell_type": "markdown",
      "source": [
        "Selecting specific columns from data dictionary"
      ],
      "metadata": {
        "id": "Fq8qJYeBLj5g"
      }
    },
    {
      "cell_type": "code",
      "source": [
        "df = df.select(['UF','Ano','V1013','V1022','A002','A003','B0011','B0012','B0013','B0014','B0015','B0018',\n",
        "                'B0019','B00111','B002','B005','B006','B007','C001','C007D','C007E','C01011','C013','D0051'\n",
        "           ])"
      ],
      "metadata": {
        "id": "L4UgxQNuEXiG"
      },
      "execution_count": 53,
      "outputs": []
    },
    {
      "cell_type": "code",
      "source": [
        "df.show()"
      ],
      "metadata": {
        "id": "SLP_RbuWFaT7",
        "colab": {
          "base_uri": "https://localhost:8080/"
        },
        "outputId": "1f2c04ff-5dac-436b-b316-9e33597145f5"
      },
      "execution_count": 54,
      "outputs": [
        {
          "output_type": "stream",
          "name": "stdout",
          "text": [
            "+---+----+-----+-----+----+----+-----+-----+-----+-----+-----+-----+-----+------+----+----+----+----+----+-----+-----+------+----+-----+\n",
            "| UF| Ano|V1013|V1022|A002|A003|B0011|B0012|B0013|B0014|B0015|B0018|B0019|B00111|B002|B005|B006|B007|C001|C007D|C007E|C01011|C013|D0051|\n",
            "+---+----+-----+-----+----+----+-----+-----+-----+-----+-----+-----+-----+------+----+----+----+----+----+-----+-----+------+----+-----+\n",
            "| 11|2020|    9|    1|  36|   1|    2|    2|    2|    2|    2|    2|    2|     2|NULL|NULL|NULL|   1|   1|    6| NULL|     4|NULL|    1|\n",
            "| 11|2020|    9|    1|  30|   2|    2|    2|    2|    2|    2|    2|    2|     2|NULL|NULL|NULL|   2|   1|   20| NULL|     4|NULL|    1|\n",
            "| 11|2020|    9|    1|  13|   1|    2|    2|    2|    2|    2|    2|    2|     2|NULL|NULL|NULL|   1|NULL| NULL| NULL|  NULL|NULL|    1|\n",
            "| 11|2020|    9|    1|  11|   1|    2|    2|    2|    2|    2|    2|    2|     2|NULL|NULL|NULL|   1|NULL| NULL| NULL|  NULL|NULL|    1|\n",
            "| 11|2020|    9|    1|  57|   2|    2|    2|    2|    2|    2|    2|    2|     2|NULL|NULL|NULL|   2|   2| NULL| NULL|  NULL|NULL|    2|\n",
            "| 11|2020|    9|    1|  58|   2|    2|    2|    2|    2|    2|    2|    2|     2|NULL|NULL|NULL|   2|   1|   25| NULL|     0|NULL|    2|\n",
            "| 11|2020|    9|    1|  47|   1|    2|    2|    2|    2|    2|    2|    2|     2|NULL|NULL|NULL|   2|   1|    5| NULL|     4|NULL|    1|\n",
            "| 11|2020|    9|    1|  18|   2|    2|    2|    2|    2|    2|    2|    2|     2|NULL|NULL|NULL|   2|   2| NULL| NULL|  NULL|NULL|    1|\n",
            "| 11|2020|    9|    1|  11|   1|    2|    2|    2|    2|    2|    2|    2|     2|NULL|NULL|NULL|   2|NULL| NULL| NULL|  NULL|NULL|    1|\n",
            "| 11|2020|    9|    1|   9|   2|    2|    2|    2|    2|    2|    2|    2|     2|NULL|NULL|NULL|   2|NULL| NULL| NULL|  NULL|NULL|    1|\n",
            "| 11|2020|    9|    1|  10|   1|    2|    2|    2|    2|    2|    2|    2|     2|NULL|NULL|NULL|   2|NULL| NULL| NULL|  NULL|NULL|    1|\n",
            "| 11|2020|    9|    1|  26|   1|    2|    2|    2|    2|    2|    2|    2|     2|NULL|NULL|NULL|   2|   1|    1| NULL|     4|NULL|    1|\n",
            "| 11|2020|    9|    1|  14|   1|    2|    2|    2|    2|    2|    2|    2|     2|NULL|NULL|NULL|   2|   2| NULL| NULL|  NULL|NULL|    1|\n",
            "| 11|2020|    9|    1|  15|   2|    2|    2|    2|    2|    2|    2|    2|     2|NULL|NULL|NULL|   2|   2| NULL| NULL|  NULL|NULL|    1|\n",
            "| 11|2020|    9|    1|  33|   2|    2|    2|    2|    2|    2|    2|    2|     2|NULL|NULL|NULL|   2|   2| NULL| NULL|  NULL|NULL|    1|\n",
            "| 11|2020|    9|    1|  62|   1|    2|    2|    2|    2|    2|    2|    2|     2|NULL|NULL|NULL|   2|   1|    7| NULL|     4|NULL|    1|\n",
            "| 11|2020|    9|    1|  62|   2|    2|    2|    2|    2|    2|    2|    2|     2|NULL|NULL|NULL|   2|   2| NULL| NULL|  NULL|NULL|    1|\n",
            "| 11|2020|    9|    1|  56|   2|    2|    2|    2|    2|    2|    2|    2|     2|NULL|NULL|NULL|   2|   2| NULL| NULL|  NULL|NULL|    1|\n",
            "| 11|2020|    9|    1|  53|   1|    2|    2|    2|    2|    2|    2|    2|     2|NULL|NULL|NULL|   2|   1|    5| NULL|     4|NULL|    1|\n",
            "| 11|2020|    9|    1|  17|   2|    2|    2|    2|    2|    2|    2|    2|     2|NULL|NULL|NULL|   2|   2| NULL| NULL|  NULL|NULL|    1|\n",
            "+---+----+-----+-----+----+----+-----+-----+-----+-----+-----+-----+-----+------+----+----+----+----+----+-----+-----+------+----+-----+\n",
            "only showing top 20 rows\n",
            "\n"
          ]
        }
      ]
    },
    {
      "cell_type": "markdown",
      "source": [
        "## Altering data and column names"
      ],
      "metadata": {
        "id": "e-csHJRNNJRo"
      }
    },
    {
      "cell_type": "code",
      "source": [
        "df"
      ],
      "metadata": {
        "id": "yc5l9m38L8Mw",
        "colab": {
          "base_uri": "https://localhost:8080/"
        },
        "outputId": "e6498077-49f6-4eec-f1ea-9a9389770aca"
      },
      "execution_count": 55,
      "outputs": [
        {
          "output_type": "execute_result",
          "data": {
            "text/plain": [
              "DataFrame[UF: int, Ano: int, V1013: int, V1022: int, A002: int, A003: int, B0011: int, B0012: int, B0013: int, B0014: int, B0015: int, B0018: int, B0019: int, B00111: int, B002: int, B005: int, B006: int, B007: int, C001: int, C007D: int, C007E: int, C01011: int, C013: int, D0051: int]"
            ]
          },
          "metadata": {},
          "execution_count": 55
        }
      ]
    },
    {
      "cell_type": "code",
      "source": [
        "new_column_name_dict = {\n",
        "    \"UF\": 'state_code',\n",
        "    'Ano': 'year',\n",
        "    'V1013': 'month',\n",
        "    \"V1022\": \"housing_status\",\n",
        "    \"A002\": \"age\",\n",
        "    \"A003\": \"sex\",\n",
        "    \"B0011\": \"had_fever_last_week\",\n",
        "    \"B0012\": \"had_cough_last_week\",\n",
        "    \"B0013\": \"had_sore_throat_last_week\",\n",
        "    'B0014': \"had_trouble_breathing_last_week\",\n",
        "    \"B0015\": \"had_headache_last_week\",\n",
        "    \"B0018\": \"had_runny_nose_last_week\",\n",
        "    \"B0019\": \"had_lethargy_last_week\",\n",
        "    \"B00111\": \"had_loss_of_smell_last_week\",\n",
        "    \"B002\": \"went_to_healthcare_facility\",\n",
        "    \"B005\": \"was_hospitalized\",\n",
        "    \"B006\": \"used_ventilator\",\n",
        "    \"B007\": \"has_health_insurance\",\n",
        "    \"C001\": \"worked_last_week\",\n",
        "    \"C007D\": \"main_job_activity\",\n",
        "    \"C007E\": \"how_many_employees\",\n",
        "    \"C01011\": \"income_range\",\n",
        "    \"C013\": \"has_worked_remote\",\n",
        "    'D0051': \"coronavirus_related_aid\"\n",
        "}"
      ],
      "metadata": {
        "id": "UptZbKHpNyyp"
      },
      "execution_count": 56,
      "outputs": []
    },
    {
      "cell_type": "code",
      "source": [
        "for old_col, new_col in new_column_name_dict.items():\n",
        "    df = df.withColumnRenamed(old_col, new_col)"
      ],
      "metadata": {
        "id": "O8OBn5AxN4iw"
      },
      "execution_count": 57,
      "outputs": []
    },
    {
      "cell_type": "code",
      "source": [
        "df.show()"
      ],
      "metadata": {
        "id": "cEzt_aEmPqPA",
        "colab": {
          "base_uri": "https://localhost:8080/"
        },
        "outputId": "6dce7290-ec54-4936-d0cd-808aff2ce5a3"
      },
      "execution_count": 58,
      "outputs": [
        {
          "output_type": "stream",
          "name": "stdout",
          "text": [
            "+----------+----+-----+--------------+---+---+-------------------+-------------------+-------------------------+-------------------------------+----------------------+------------------------+----------------------+---------------------------+---------------------------+----------------+---------------+--------------------+----------------+-----------------+------------------+------------+-----------------+-----------------------+\n",
            "|state_code|year|month|housing_status|age|sex|had_fever_last_week|had_cough_last_week|had_sore_throat_last_week|had_trouble_breathing_last_week|had_headache_last_week|had_runny_nose_last_week|had_lethargy_last_week|had_loss_of_smell_last_week|went_to_healthcare_facility|was_hospitalized|used_ventilator|has_health_insurance|worked_last_week|main_job_activity|how_many_employees|income_range|has_worked_remote|coronavirus_related_aid|\n",
            "+----------+----+-----+--------------+---+---+-------------------+-------------------+-------------------------+-------------------------------+----------------------+------------------------+----------------------+---------------------------+---------------------------+----------------+---------------+--------------------+----------------+-----------------+------------------+------------+-----------------+-----------------------+\n",
            "|        11|2020|    9|             1| 36|  1|                  2|                  2|                        2|                              2|                     2|                       2|                     2|                          2|                       NULL|            NULL|           NULL|                   1|               1|                6|              NULL|           4|             NULL|                      1|\n",
            "|        11|2020|    9|             1| 30|  2|                  2|                  2|                        2|                              2|                     2|                       2|                     2|                          2|                       NULL|            NULL|           NULL|                   2|               1|               20|              NULL|           4|             NULL|                      1|\n",
            "|        11|2020|    9|             1| 13|  1|                  2|                  2|                        2|                              2|                     2|                       2|                     2|                          2|                       NULL|            NULL|           NULL|                   1|            NULL|             NULL|              NULL|        NULL|             NULL|                      1|\n",
            "|        11|2020|    9|             1| 11|  1|                  2|                  2|                        2|                              2|                     2|                       2|                     2|                          2|                       NULL|            NULL|           NULL|                   1|            NULL|             NULL|              NULL|        NULL|             NULL|                      1|\n",
            "|        11|2020|    9|             1| 57|  2|                  2|                  2|                        2|                              2|                     2|                       2|                     2|                          2|                       NULL|            NULL|           NULL|                   2|               2|             NULL|              NULL|        NULL|             NULL|                      2|\n",
            "|        11|2020|    9|             1| 58|  2|                  2|                  2|                        2|                              2|                     2|                       2|                     2|                          2|                       NULL|            NULL|           NULL|                   2|               1|               25|              NULL|           0|             NULL|                      2|\n",
            "|        11|2020|    9|             1| 47|  1|                  2|                  2|                        2|                              2|                     2|                       2|                     2|                          2|                       NULL|            NULL|           NULL|                   2|               1|                5|              NULL|           4|             NULL|                      1|\n",
            "|        11|2020|    9|             1| 18|  2|                  2|                  2|                        2|                              2|                     2|                       2|                     2|                          2|                       NULL|            NULL|           NULL|                   2|               2|             NULL|              NULL|        NULL|             NULL|                      1|\n",
            "|        11|2020|    9|             1| 11|  1|                  2|                  2|                        2|                              2|                     2|                       2|                     2|                          2|                       NULL|            NULL|           NULL|                   2|            NULL|             NULL|              NULL|        NULL|             NULL|                      1|\n",
            "|        11|2020|    9|             1|  9|  2|                  2|                  2|                        2|                              2|                     2|                       2|                     2|                          2|                       NULL|            NULL|           NULL|                   2|            NULL|             NULL|              NULL|        NULL|             NULL|                      1|\n",
            "|        11|2020|    9|             1| 10|  1|                  2|                  2|                        2|                              2|                     2|                       2|                     2|                          2|                       NULL|            NULL|           NULL|                   2|            NULL|             NULL|              NULL|        NULL|             NULL|                      1|\n",
            "|        11|2020|    9|             1| 26|  1|                  2|                  2|                        2|                              2|                     2|                       2|                     2|                          2|                       NULL|            NULL|           NULL|                   2|               1|                1|              NULL|           4|             NULL|                      1|\n",
            "|        11|2020|    9|             1| 14|  1|                  2|                  2|                        2|                              2|                     2|                       2|                     2|                          2|                       NULL|            NULL|           NULL|                   2|               2|             NULL|              NULL|        NULL|             NULL|                      1|\n",
            "|        11|2020|    9|             1| 15|  2|                  2|                  2|                        2|                              2|                     2|                       2|                     2|                          2|                       NULL|            NULL|           NULL|                   2|               2|             NULL|              NULL|        NULL|             NULL|                      1|\n",
            "|        11|2020|    9|             1| 33|  2|                  2|                  2|                        2|                              2|                     2|                       2|                     2|                          2|                       NULL|            NULL|           NULL|                   2|               2|             NULL|              NULL|        NULL|             NULL|                      1|\n",
            "|        11|2020|    9|             1| 62|  1|                  2|                  2|                        2|                              2|                     2|                       2|                     2|                          2|                       NULL|            NULL|           NULL|                   2|               1|                7|              NULL|           4|             NULL|                      1|\n",
            "|        11|2020|    9|             1| 62|  2|                  2|                  2|                        2|                              2|                     2|                       2|                     2|                          2|                       NULL|            NULL|           NULL|                   2|               2|             NULL|              NULL|        NULL|             NULL|                      1|\n",
            "|        11|2020|    9|             1| 56|  2|                  2|                  2|                        2|                              2|                     2|                       2|                     2|                          2|                       NULL|            NULL|           NULL|                   2|               2|             NULL|              NULL|        NULL|             NULL|                      1|\n",
            "|        11|2020|    9|             1| 53|  1|                  2|                  2|                        2|                              2|                     2|                       2|                     2|                          2|                       NULL|            NULL|           NULL|                   2|               1|                5|              NULL|           4|             NULL|                      1|\n",
            "|        11|2020|    9|             1| 17|  2|                  2|                  2|                        2|                              2|                     2|                       2|                     2|                          2|                       NULL|            NULL|           NULL|                   2|               2|             NULL|              NULL|        NULL|             NULL|                      1|\n",
            "+----------+----+-----+--------------+---+---+-------------------+-------------------+-------------------------+-------------------------------+----------------------+------------------------+----------------------+---------------------------+---------------------------+----------------+---------------+--------------------+----------------+-----------------+------------------+------------+-----------------+-----------------------+\n",
            "only showing top 20 rows\n",
            "\n"
          ]
        }
      ]
    },
    {
      "cell_type": "code",
      "source": [
        "symptoms_dict = {\n",
        "    1: \"yes\",\n",
        "    2: \"no\",\n",
        "    3: \"dont_know\",\n",
        "    9: \"ignored\",\n",
        "    0: \"not_applicable\"\n",
        "}"
      ],
      "metadata": {
        "id": "jqx3oVwic_bO"
      },
      "execution_count": 59,
      "outputs": []
    },
    {
      "cell_type": "code",
      "source": [
        "# Columns to translate\n",
        "symptoms_cols = ['had_fever_last_week','had_cough_last_week',\n",
        "                 'had_sore_throat_last_week','had_headache_last_week','had_runny_nose_last_week',\n",
        "                 'had_lethargy_last_week','had_loss_of_smell_last_week','went_to_healthcare_facility','was_hospitalized','has_health_insurance',\n",
        "                 'worked_last_week','has_worked_remote','coronavirus_related_aid','used_ventilator','had_trouble_breathing_last_week']\n",
        "\n",
        "work_cols = ['main_job_activity','how_many_employees','income_range']"
      ],
      "metadata": {
        "id": "hiaFSn-6dSsp"
      },
      "execution_count": 60,
      "outputs": []
    },
    {
      "cell_type": "code",
      "source": [
        "brazil_states = {\n",
        "    11: \"RO\",\n",
        "    12: \"AC\",\n",
        "    13: \"AM\",\n",
        "    14: \"RR\",\n",
        "    15: \"PA\",\n",
        "    16: \"AP\",\n",
        "    17: \"TO\",\n",
        "    21: \"MA\",\n",
        "    22: \"PI\",\n",
        "    23: \"CE\",\n",
        "    24: \"RN\",\n",
        "    25: \"PB\",\n",
        "    26: \"PE\",\n",
        "    27: \"AL\",\n",
        "    28: \"SE\",\n",
        "    29: \"BA\",\n",
        "    31: \"MG\",\n",
        "    32: \"ES\",\n",
        "    33: \"RJ\",\n",
        "    35: \"SP\",\n",
        "    41: \"PR\",\n",
        "    42: \"SC\",\n",
        "    43: \"RS\",\n",
        "    50: \"MS\",\n",
        "    51: \"MT\",\n",
        "    52: \"GO\",\n",
        "    53: \"DF\"\n",
        "}"
      ],
      "metadata": {
        "id": "Uy7T1udnNOjV"
      },
      "execution_count": 61,
      "outputs": []
    },
    {
      "cell_type": "code",
      "source": [
        "\n",
        "sector_translation = {\n",
        "    1: \"agriculture_livestock_forestry_and_fishing\",\n",
        "    2: \"extraction_of_petroleum_coal_metallic_minerals_stone_sand_salt_etc\",\n",
        "    3: \"manufacturing_industry_including_clothing_and_homemade_manufacturing\",\n",
        "    4: \"supply_of_electricity_and_gas_water_sewerage_and_garbage_collection\",\n",
        "    5: \"construction\",\n",
        "    6: \"wholesale_and_retail_trade\",\n",
        "    7: \"repair_of_motor_vehicles_and_motorcycles\",\n",
        "    8: \"passenger_transport\",\n",
        "    9: \"freight_transport\",\n",
        "    10: \"storage_post_and_delivery_services\",\n",
        "    11: \"accommodation_hotels_inns_etc\",\n",
        "    12: \"food_service_bars_restaurants_food_vendors\",\n",
        "    13: \"information_and_communication_newspapers_radio_and_television_telecommunications_and_it\",\n",
        "    14: \"banks_financial_and_insurance_activities\",\n",
        "    15: \"real_estate_activities\",\n",
        "    16: \"law_firms_engineering_advertising_and_veterinary_services_professional_scientific_and_technical_activities\",\n",
        "    17: \"labor_leasing_security_cleaning_landscaping_and_call_center_activities\",\n",
        "    18: \"public_administration_federal_state_and_municipal_government\",\n",
        "    19: \"education\",\n",
        "    20: \"human_health_and_social_assistance\",\n",
        "    21: \"religious_organizations_unions_and_associations\",\n",
        "    22: \"artistic_sports_and_recreational_activities\",\n",
        "    23: \"hairdressing_beauty_treatment_and_personal_services\",\n",
        "    24: \"paid_domestic_service_to_be_reported_under_occupation\",\n",
        "    25: \"other\",\n",
        "    0: \"not_applicable\"\n",
        "}"
      ],
      "metadata": {
        "id": "GZLuMsz7AKng"
      },
      "execution_count": 62,
      "outputs": []
    },
    {
      "cell_type": "code",
      "source": [
        "employee_translation = {\n",
        "    1: \"1_to_5\",\n",
        "    2: \"6_to_10\",\n",
        "    3: \"11+\",\n",
        "    0: \"not_applicable\"\n",
        "}"
      ],
      "metadata": {
        "id": "gVTseXIADjho"
      },
      "execution_count": 63,
      "outputs": []
    },
    {
      "cell_type": "code",
      "source": [
        "income_range = {\n",
        "    0: \"0-100\",\n",
        "    1: \"101-300\",\n",
        "    2: \"301-600\",\n",
        "    3: \"601-800\",\n",
        "    4: \"801-1,600\",\n",
        "    5: \"1,601-3,000\",\n",
        "    6: \"3,001-10,000\",\n",
        "    7: \"10,001-50,000\",\n",
        "    8: \"50,001-100,000\",\n",
        "    9: \"100,000+\",\n",
        "    0: \"not_applicable\"\n",
        "}"
      ],
      "metadata": {
        "id": "vv2BOsEIEGl0"
      },
      "execution_count": 64,
      "outputs": []
    },
    {
      "cell_type": "code",
      "source": [
        "df.schema"
      ],
      "metadata": {
        "id": "YgcaLrirNpJP",
        "colab": {
          "base_uri": "https://localhost:8080/"
        },
        "outputId": "7507ecc0-cb05-4553-dcdc-80db2ab348f9"
      },
      "execution_count": 65,
      "outputs": [
        {
          "output_type": "execute_result",
          "data": {
            "text/plain": [
              "StructType([StructField('state_code', IntegerType(), True), StructField('year', IntegerType(), True), StructField('month', IntegerType(), True), StructField('housing_status', IntegerType(), True), StructField('age', IntegerType(), True), StructField('sex', IntegerType(), True), StructField('had_fever_last_week', IntegerType(), True), StructField('had_cough_last_week', IntegerType(), True), StructField('had_sore_throat_last_week', IntegerType(), True), StructField('had_trouble_breathing_last_week', IntegerType(), True), StructField('had_headache_last_week', IntegerType(), True), StructField('had_runny_nose_last_week', IntegerType(), True), StructField('had_lethargy_last_week', IntegerType(), True), StructField('had_loss_of_smell_last_week', IntegerType(), True), StructField('went_to_healthcare_facility', IntegerType(), True), StructField('was_hospitalized', IntegerType(), True), StructField('used_ventilator', IntegerType(), True), StructField('has_health_insurance', IntegerType(), True), StructField('worked_last_week', IntegerType(), True), StructField('main_job_activity', IntegerType(), True), StructField('how_many_employees', IntegerType(), True), StructField('income_range', IntegerType(), True), StructField('has_worked_remote', IntegerType(), True), StructField('coronavirus_related_aid', IntegerType(), True)])"
            ]
          },
          "metadata": {},
          "execution_count": 65
        }
      ]
    },
    {
      "cell_type": "code",
      "source": [
        "df.show(5)"
      ],
      "metadata": {
        "id": "bwkh4eInemqj",
        "colab": {
          "base_uri": "https://localhost:8080/"
        },
        "outputId": "e75d8c0c-8807-4ee9-de67-07bef495ee71"
      },
      "execution_count": 66,
      "outputs": [
        {
          "output_type": "stream",
          "name": "stdout",
          "text": [
            "+----------+----+-----+--------------+---+---+-------------------+-------------------+-------------------------+-------------------------------+----------------------+------------------------+----------------------+---------------------------+---------------------------+----------------+---------------+--------------------+----------------+-----------------+------------------+------------+-----------------+-----------------------+\n",
            "|state_code|year|month|housing_status|age|sex|had_fever_last_week|had_cough_last_week|had_sore_throat_last_week|had_trouble_breathing_last_week|had_headache_last_week|had_runny_nose_last_week|had_lethargy_last_week|had_loss_of_smell_last_week|went_to_healthcare_facility|was_hospitalized|used_ventilator|has_health_insurance|worked_last_week|main_job_activity|how_many_employees|income_range|has_worked_remote|coronavirus_related_aid|\n",
            "+----------+----+-----+--------------+---+---+-------------------+-------------------+-------------------------+-------------------------------+----------------------+------------------------+----------------------+---------------------------+---------------------------+----------------+---------------+--------------------+----------------+-----------------+------------------+------------+-----------------+-----------------------+\n",
            "|        11|2020|    9|             1| 36|  1|                  2|                  2|                        2|                              2|                     2|                       2|                     2|                          2|                       NULL|            NULL|           NULL|                   1|               1|                6|              NULL|           4|             NULL|                      1|\n",
            "|        11|2020|    9|             1| 30|  2|                  2|                  2|                        2|                              2|                     2|                       2|                     2|                          2|                       NULL|            NULL|           NULL|                   2|               1|               20|              NULL|           4|             NULL|                      1|\n",
            "|        11|2020|    9|             1| 13|  1|                  2|                  2|                        2|                              2|                     2|                       2|                     2|                          2|                       NULL|            NULL|           NULL|                   1|            NULL|             NULL|              NULL|        NULL|             NULL|                      1|\n",
            "|        11|2020|    9|             1| 11|  1|                  2|                  2|                        2|                              2|                     2|                       2|                     2|                          2|                       NULL|            NULL|           NULL|                   1|            NULL|             NULL|              NULL|        NULL|             NULL|                      1|\n",
            "|        11|2020|    9|             1| 57|  2|                  2|                  2|                        2|                              2|                     2|                       2|                     2|                          2|                       NULL|            NULL|           NULL|                   2|               2|             NULL|              NULL|        NULL|             NULL|                      2|\n",
            "+----------+----+-----+--------------+---+---+-------------------+-------------------+-------------------------+-------------------------------+----------------------+------------------------+----------------------+---------------------------+---------------------------+----------------+---------------+--------------------+----------------+-----------------+------------------+------------+-----------------+-----------------------+\n",
            "only showing top 5 rows\n",
            "\n"
          ]
        }
      ]
    },
    {
      "cell_type": "code",
      "source": [
        "#Viewing the dataframe schema\n",
        "df.printSchema()"
      ],
      "metadata": {
        "colab": {
          "base_uri": "https://localhost:8080/"
        },
        "id": "ibOiHOLXfEPw",
        "outputId": "6b84894f-c062-45d6-f0dc-4195853d7b41"
      },
      "execution_count": 67,
      "outputs": [
        {
          "output_type": "stream",
          "name": "stdout",
          "text": [
            "root\n",
            " |-- state_code: integer (nullable = true)\n",
            " |-- year: integer (nullable = true)\n",
            " |-- month: integer (nullable = true)\n",
            " |-- housing_status: integer (nullable = true)\n",
            " |-- age: integer (nullable = true)\n",
            " |-- sex: integer (nullable = true)\n",
            " |-- had_fever_last_week: integer (nullable = true)\n",
            " |-- had_cough_last_week: integer (nullable = true)\n",
            " |-- had_sore_throat_last_week: integer (nullable = true)\n",
            " |-- had_trouble_breathing_last_week: integer (nullable = true)\n",
            " |-- had_headache_last_week: integer (nullable = true)\n",
            " |-- had_runny_nose_last_week: integer (nullable = true)\n",
            " |-- had_lethargy_last_week: integer (nullable = true)\n",
            " |-- had_loss_of_smell_last_week: integer (nullable = true)\n",
            " |-- went_to_healthcare_facility: integer (nullable = true)\n",
            " |-- was_hospitalized: integer (nullable = true)\n",
            " |-- used_ventilator: integer (nullable = true)\n",
            " |-- has_health_insurance: integer (nullable = true)\n",
            " |-- worked_last_week: integer (nullable = true)\n",
            " |-- main_job_activity: integer (nullable = true)\n",
            " |-- how_many_employees: integer (nullable = true)\n",
            " |-- income_range: integer (nullable = true)\n",
            " |-- has_worked_remote: integer (nullable = true)\n",
            " |-- coronavirus_related_aid: integer (nullable = true)\n",
            "\n"
          ]
        }
      ]
    },
    {
      "cell_type": "code",
      "source": [
        "def translate_and_cast(value):\n",
        "    return symptoms_dict.get(value, None)\n",
        "\n",
        "translate_udf = udf(translate_and_cast, StringType())\n",
        "\n",
        "# Apply the UDF to the selected columns\n",
        "for column in symptoms_cols:\n",
        "    df = df.withColumn(column, translate_udf(col(column)))"
      ],
      "metadata": {
        "id": "h-bYwcsPe9BJ"
      },
      "execution_count": 68,
      "outputs": []
    },
    {
      "cell_type": "code",
      "source": [
        "df.show()"
      ],
      "metadata": {
        "colab": {
          "base_uri": "https://localhost:8080/"
        },
        "id": "Ct-852dhwalx",
        "outputId": "3501360f-d069-420e-881e-8fd0b6cf58d3"
      },
      "execution_count": 69,
      "outputs": [
        {
          "output_type": "stream",
          "name": "stdout",
          "text": [
            "+----------+----+-----+--------------+---+---+-------------------+-------------------+-------------------------+-------------------------------+----------------------+------------------------+----------------------+---------------------------+---------------------------+----------------+---------------+--------------------+----------------+-----------------+------------------+------------+-----------------+-----------------------+\n",
            "|state_code|year|month|housing_status|age|sex|had_fever_last_week|had_cough_last_week|had_sore_throat_last_week|had_trouble_breathing_last_week|had_headache_last_week|had_runny_nose_last_week|had_lethargy_last_week|had_loss_of_smell_last_week|went_to_healthcare_facility|was_hospitalized|used_ventilator|has_health_insurance|worked_last_week|main_job_activity|how_many_employees|income_range|has_worked_remote|coronavirus_related_aid|\n",
            "+----------+----+-----+--------------+---+---+-------------------+-------------------+-------------------------+-------------------------------+----------------------+------------------------+----------------------+---------------------------+---------------------------+----------------+---------------+--------------------+----------------+-----------------+------------------+------------+-----------------+-----------------------+\n",
            "|        11|2020|    9|             1| 36|  1|                 no|                 no|                       no|                             no|                    no|                      no|                    no|                         no|                       NULL|            NULL|           NULL|                 yes|             yes|                6|              NULL|           4|             NULL|                    yes|\n",
            "|        11|2020|    9|             1| 30|  2|                 no|                 no|                       no|                             no|                    no|                      no|                    no|                         no|                       NULL|            NULL|           NULL|                  no|             yes|               20|              NULL|           4|             NULL|                    yes|\n",
            "|        11|2020|    9|             1| 13|  1|                 no|                 no|                       no|                             no|                    no|                      no|                    no|                         no|                       NULL|            NULL|           NULL|                 yes|            NULL|             NULL|              NULL|        NULL|             NULL|                    yes|\n",
            "|        11|2020|    9|             1| 11|  1|                 no|                 no|                       no|                             no|                    no|                      no|                    no|                         no|                       NULL|            NULL|           NULL|                 yes|            NULL|             NULL|              NULL|        NULL|             NULL|                    yes|\n",
            "|        11|2020|    9|             1| 57|  2|                 no|                 no|                       no|                             no|                    no|                      no|                    no|                         no|                       NULL|            NULL|           NULL|                  no|              no|             NULL|              NULL|        NULL|             NULL|                     no|\n",
            "|        11|2020|    9|             1| 58|  2|                 no|                 no|                       no|                             no|                    no|                      no|                    no|                         no|                       NULL|            NULL|           NULL|                  no|             yes|               25|              NULL|           0|             NULL|                     no|\n",
            "|        11|2020|    9|             1| 47|  1|                 no|                 no|                       no|                             no|                    no|                      no|                    no|                         no|                       NULL|            NULL|           NULL|                  no|             yes|                5|              NULL|           4|             NULL|                    yes|\n",
            "|        11|2020|    9|             1| 18|  2|                 no|                 no|                       no|                             no|                    no|                      no|                    no|                         no|                       NULL|            NULL|           NULL|                  no|              no|             NULL|              NULL|        NULL|             NULL|                    yes|\n",
            "|        11|2020|    9|             1| 11|  1|                 no|                 no|                       no|                             no|                    no|                      no|                    no|                         no|                       NULL|            NULL|           NULL|                  no|            NULL|             NULL|              NULL|        NULL|             NULL|                    yes|\n",
            "|        11|2020|    9|             1|  9|  2|                 no|                 no|                       no|                             no|                    no|                      no|                    no|                         no|                       NULL|            NULL|           NULL|                  no|            NULL|             NULL|              NULL|        NULL|             NULL|                    yes|\n",
            "|        11|2020|    9|             1| 10|  1|                 no|                 no|                       no|                             no|                    no|                      no|                    no|                         no|                       NULL|            NULL|           NULL|                  no|            NULL|             NULL|              NULL|        NULL|             NULL|                    yes|\n",
            "|        11|2020|    9|             1| 26|  1|                 no|                 no|                       no|                             no|                    no|                      no|                    no|                         no|                       NULL|            NULL|           NULL|                  no|             yes|                1|              NULL|           4|             NULL|                    yes|\n",
            "|        11|2020|    9|             1| 14|  1|                 no|                 no|                       no|                             no|                    no|                      no|                    no|                         no|                       NULL|            NULL|           NULL|                  no|              no|             NULL|              NULL|        NULL|             NULL|                    yes|\n",
            "|        11|2020|    9|             1| 15|  2|                 no|                 no|                       no|                             no|                    no|                      no|                    no|                         no|                       NULL|            NULL|           NULL|                  no|              no|             NULL|              NULL|        NULL|             NULL|                    yes|\n",
            "|        11|2020|    9|             1| 33|  2|                 no|                 no|                       no|                             no|                    no|                      no|                    no|                         no|                       NULL|            NULL|           NULL|                  no|              no|             NULL|              NULL|        NULL|             NULL|                    yes|\n",
            "|        11|2020|    9|             1| 62|  1|                 no|                 no|                       no|                             no|                    no|                      no|                    no|                         no|                       NULL|            NULL|           NULL|                  no|             yes|                7|              NULL|           4|             NULL|                    yes|\n",
            "|        11|2020|    9|             1| 62|  2|                 no|                 no|                       no|                             no|                    no|                      no|                    no|                         no|                       NULL|            NULL|           NULL|                  no|              no|             NULL|              NULL|        NULL|             NULL|                    yes|\n",
            "|        11|2020|    9|             1| 56|  2|                 no|                 no|                       no|                             no|                    no|                      no|                    no|                         no|                       NULL|            NULL|           NULL|                  no|              no|             NULL|              NULL|        NULL|             NULL|                    yes|\n",
            "|        11|2020|    9|             1| 53|  1|                 no|                 no|                       no|                             no|                    no|                      no|                    no|                         no|                       NULL|            NULL|           NULL|                  no|             yes|                5|              NULL|           4|             NULL|                    yes|\n",
            "|        11|2020|    9|             1| 17|  2|                 no|                 no|                       no|                             no|                    no|                      no|                    no|                         no|                       NULL|            NULL|           NULL|                  no|              no|             NULL|              NULL|        NULL|             NULL|                    yes|\n",
            "+----------+----+-----+--------------+---+---+-------------------+-------------------+-------------------------+-------------------------------+----------------------+------------------------+----------------------+---------------------------+---------------------------+----------------+---------------+--------------------+----------------+-----------------+------------------+------------+-----------------+-----------------------+\n",
            "only showing top 20 rows\n",
            "\n"
          ]
        }
      ]
    },
    {
      "cell_type": "code",
      "source": [
        "def translate_and_cast_state(value):\n",
        "    return brazil_states.get(value, None)\n",
        "\n",
        "translate_udf = udf(translate_and_cast_state, StringType())\n",
        "\n",
        "# Apply the UDF to the selected columns\n",
        "df = df.withColumn(\"state_code\", col(\"state_code\").cast(IntegerType()))\n",
        "df = df.withColumn('state_code', translate_udf(col('state_code')))"
      ],
      "metadata": {
        "id": "WX2fu84S-l4p"
      },
      "execution_count": 70,
      "outputs": []
    },
    {
      "cell_type": "code",
      "source": [
        "df.show()"
      ],
      "metadata": {
        "id": "TiqrDDa7_Tnv",
        "colab": {
          "base_uri": "https://localhost:8080/"
        },
        "outputId": "151f1eec-21c0-4dce-f7cb-a697729e8e6b"
      },
      "execution_count": 71,
      "outputs": [
        {
          "output_type": "stream",
          "name": "stdout",
          "text": [
            "+----------+----+-----+--------------+---+---+-------------------+-------------------+-------------------------+-------------------------------+----------------------+------------------------+----------------------+---------------------------+---------------------------+----------------+---------------+--------------------+----------------+-----------------+------------------+------------+-----------------+-----------------------+\n",
            "|state_code|year|month|housing_status|age|sex|had_fever_last_week|had_cough_last_week|had_sore_throat_last_week|had_trouble_breathing_last_week|had_headache_last_week|had_runny_nose_last_week|had_lethargy_last_week|had_loss_of_smell_last_week|went_to_healthcare_facility|was_hospitalized|used_ventilator|has_health_insurance|worked_last_week|main_job_activity|how_many_employees|income_range|has_worked_remote|coronavirus_related_aid|\n",
            "+----------+----+-----+--------------+---+---+-------------------+-------------------+-------------------------+-------------------------------+----------------------+------------------------+----------------------+---------------------------+---------------------------+----------------+---------------+--------------------+----------------+-----------------+------------------+------------+-----------------+-----------------------+\n",
            "|        RO|2020|    9|             1| 36|  1|                 no|                 no|                       no|                             no|                    no|                      no|                    no|                         no|                       NULL|            NULL|           NULL|                 yes|             yes|                6|              NULL|           4|             NULL|                    yes|\n",
            "|        RO|2020|    9|             1| 30|  2|                 no|                 no|                       no|                             no|                    no|                      no|                    no|                         no|                       NULL|            NULL|           NULL|                  no|             yes|               20|              NULL|           4|             NULL|                    yes|\n",
            "|        RO|2020|    9|             1| 13|  1|                 no|                 no|                       no|                             no|                    no|                      no|                    no|                         no|                       NULL|            NULL|           NULL|                 yes|            NULL|             NULL|              NULL|        NULL|             NULL|                    yes|\n",
            "|        RO|2020|    9|             1| 11|  1|                 no|                 no|                       no|                             no|                    no|                      no|                    no|                         no|                       NULL|            NULL|           NULL|                 yes|            NULL|             NULL|              NULL|        NULL|             NULL|                    yes|\n",
            "|        RO|2020|    9|             1| 57|  2|                 no|                 no|                       no|                             no|                    no|                      no|                    no|                         no|                       NULL|            NULL|           NULL|                  no|              no|             NULL|              NULL|        NULL|             NULL|                     no|\n",
            "|        RO|2020|    9|             1| 58|  2|                 no|                 no|                       no|                             no|                    no|                      no|                    no|                         no|                       NULL|            NULL|           NULL|                  no|             yes|               25|              NULL|           0|             NULL|                     no|\n",
            "|        RO|2020|    9|             1| 47|  1|                 no|                 no|                       no|                             no|                    no|                      no|                    no|                         no|                       NULL|            NULL|           NULL|                  no|             yes|                5|              NULL|           4|             NULL|                    yes|\n",
            "|        RO|2020|    9|             1| 18|  2|                 no|                 no|                       no|                             no|                    no|                      no|                    no|                         no|                       NULL|            NULL|           NULL|                  no|              no|             NULL|              NULL|        NULL|             NULL|                    yes|\n",
            "|        RO|2020|    9|             1| 11|  1|                 no|                 no|                       no|                             no|                    no|                      no|                    no|                         no|                       NULL|            NULL|           NULL|                  no|            NULL|             NULL|              NULL|        NULL|             NULL|                    yes|\n",
            "|        RO|2020|    9|             1|  9|  2|                 no|                 no|                       no|                             no|                    no|                      no|                    no|                         no|                       NULL|            NULL|           NULL|                  no|            NULL|             NULL|              NULL|        NULL|             NULL|                    yes|\n",
            "|        RO|2020|    9|             1| 10|  1|                 no|                 no|                       no|                             no|                    no|                      no|                    no|                         no|                       NULL|            NULL|           NULL|                  no|            NULL|             NULL|              NULL|        NULL|             NULL|                    yes|\n",
            "|        RO|2020|    9|             1| 26|  1|                 no|                 no|                       no|                             no|                    no|                      no|                    no|                         no|                       NULL|            NULL|           NULL|                  no|             yes|                1|              NULL|           4|             NULL|                    yes|\n",
            "|        RO|2020|    9|             1| 14|  1|                 no|                 no|                       no|                             no|                    no|                      no|                    no|                         no|                       NULL|            NULL|           NULL|                  no|              no|             NULL|              NULL|        NULL|             NULL|                    yes|\n",
            "|        RO|2020|    9|             1| 15|  2|                 no|                 no|                       no|                             no|                    no|                      no|                    no|                         no|                       NULL|            NULL|           NULL|                  no|              no|             NULL|              NULL|        NULL|             NULL|                    yes|\n",
            "|        RO|2020|    9|             1| 33|  2|                 no|                 no|                       no|                             no|                    no|                      no|                    no|                         no|                       NULL|            NULL|           NULL|                  no|              no|             NULL|              NULL|        NULL|             NULL|                    yes|\n",
            "|        RO|2020|    9|             1| 62|  1|                 no|                 no|                       no|                             no|                    no|                      no|                    no|                         no|                       NULL|            NULL|           NULL|                  no|             yes|                7|              NULL|           4|             NULL|                    yes|\n",
            "|        RO|2020|    9|             1| 62|  2|                 no|                 no|                       no|                             no|                    no|                      no|                    no|                         no|                       NULL|            NULL|           NULL|                  no|              no|             NULL|              NULL|        NULL|             NULL|                    yes|\n",
            "|        RO|2020|    9|             1| 56|  2|                 no|                 no|                       no|                             no|                    no|                      no|                    no|                         no|                       NULL|            NULL|           NULL|                  no|              no|             NULL|              NULL|        NULL|             NULL|                    yes|\n",
            "|        RO|2020|    9|             1| 53|  1|                 no|                 no|                       no|                             no|                    no|                      no|                    no|                         no|                       NULL|            NULL|           NULL|                  no|             yes|                5|              NULL|           4|             NULL|                    yes|\n",
            "|        RO|2020|    9|             1| 17|  2|                 no|                 no|                       no|                             no|                    no|                      no|                    no|                         no|                       NULL|            NULL|           NULL|                  no|              no|             NULL|              NULL|        NULL|             NULL|                    yes|\n",
            "+----------+----+-----+--------------+---+---+-------------------+-------------------+-------------------------+-------------------------------+----------------------+------------------------+----------------------+---------------------------+---------------------------+----------------+---------------+--------------------+----------------+-----------------+------------------+------------+-----------------+-----------------------+\n",
            "only showing top 20 rows\n",
            "\n"
          ]
        }
      ]
    },
    {
      "cell_type": "code",
      "source": [
        "def translate_and_cast_sector(value):\n",
        "    return sector_translation.get(value, None)\n",
        "\n",
        "translate_udf = udf(translate_and_cast_sector, StringType())\n",
        "\n",
        "# Apply the UDF to the selected columns\n",
        "\n",
        "df = df.withColumn('main_job_activity', translate_udf(col('main_job_activity')))"
      ],
      "metadata": {
        "id": "LbuBrpUOBnab"
      },
      "execution_count": 72,
      "outputs": []
    },
    {
      "cell_type": "code",
      "source": [
        "df.show()"
      ],
      "metadata": {
        "id": "SwgElwWlBqLB",
        "colab": {
          "base_uri": "https://localhost:8080/"
        },
        "outputId": "c049865c-fe45-4713-e74c-fc96d17970ef"
      },
      "execution_count": 73,
      "outputs": [
        {
          "output_type": "stream",
          "name": "stdout",
          "text": [
            "+----------+----+-----+--------------+---+---+-------------------+-------------------+-------------------------+-------------------------------+----------------------+------------------------+----------------------+---------------------------+---------------------------+----------------+---------------+--------------------+----------------+--------------------+------------------+------------+-----------------+-----------------------+\n",
            "|state_code|year|month|housing_status|age|sex|had_fever_last_week|had_cough_last_week|had_sore_throat_last_week|had_trouble_breathing_last_week|had_headache_last_week|had_runny_nose_last_week|had_lethargy_last_week|had_loss_of_smell_last_week|went_to_healthcare_facility|was_hospitalized|used_ventilator|has_health_insurance|worked_last_week|   main_job_activity|how_many_employees|income_range|has_worked_remote|coronavirus_related_aid|\n",
            "+----------+----+-----+--------------+---+---+-------------------+-------------------+-------------------------+-------------------------------+----------------------+------------------------+----------------------+---------------------------+---------------------------+----------------+---------------+--------------------+----------------+--------------------+------------------+------------+-----------------+-----------------------+\n",
            "|        RO|2020|    9|             1| 36|  1|                 no|                 no|                       no|                             no|                    no|                      no|                    no|                         no|                       NULL|            NULL|           NULL|                 yes|             yes|wholesale_and_ret...|              NULL|           4|             NULL|                    yes|\n",
            "|        RO|2020|    9|             1| 30|  2|                 no|                 no|                       no|                             no|                    no|                      no|                    no|                         no|                       NULL|            NULL|           NULL|                  no|             yes|human_health_and_...|              NULL|           4|             NULL|                    yes|\n",
            "|        RO|2020|    9|             1| 13|  1|                 no|                 no|                       no|                             no|                    no|                      no|                    no|                         no|                       NULL|            NULL|           NULL|                 yes|            NULL|                NULL|              NULL|        NULL|             NULL|                    yes|\n",
            "|        RO|2020|    9|             1| 11|  1|                 no|                 no|                       no|                             no|                    no|                      no|                    no|                         no|                       NULL|            NULL|           NULL|                 yes|            NULL|                NULL|              NULL|        NULL|             NULL|                    yes|\n",
            "|        RO|2020|    9|             1| 57|  2|                 no|                 no|                       no|                             no|                    no|                      no|                    no|                         no|                       NULL|            NULL|           NULL|                  no|              no|                NULL|              NULL|        NULL|             NULL|                     no|\n",
            "|        RO|2020|    9|             1| 58|  2|                 no|                 no|                       no|                             no|                    no|                      no|                    no|                         no|                       NULL|            NULL|           NULL|                  no|             yes|               other|              NULL|           0|             NULL|                     no|\n",
            "|        RO|2020|    9|             1| 47|  1|                 no|                 no|                       no|                             no|                    no|                      no|                    no|                         no|                       NULL|            NULL|           NULL|                  no|             yes|        construction|              NULL|           4|             NULL|                    yes|\n",
            "|        RO|2020|    9|             1| 18|  2|                 no|                 no|                       no|                             no|                    no|                      no|                    no|                         no|                       NULL|            NULL|           NULL|                  no|              no|                NULL|              NULL|        NULL|             NULL|                    yes|\n",
            "|        RO|2020|    9|             1| 11|  1|                 no|                 no|                       no|                             no|                    no|                      no|                    no|                         no|                       NULL|            NULL|           NULL|                  no|            NULL|                NULL|              NULL|        NULL|             NULL|                    yes|\n",
            "|        RO|2020|    9|             1|  9|  2|                 no|                 no|                       no|                             no|                    no|                      no|                    no|                         no|                       NULL|            NULL|           NULL|                  no|            NULL|                NULL|              NULL|        NULL|             NULL|                    yes|\n",
            "|        RO|2020|    9|             1| 10|  1|                 no|                 no|                       no|                             no|                    no|                      no|                    no|                         no|                       NULL|            NULL|           NULL|                  no|            NULL|                NULL|              NULL|        NULL|             NULL|                    yes|\n",
            "|        RO|2020|    9|             1| 26|  1|                 no|                 no|                       no|                             no|                    no|                      no|                    no|                         no|                       NULL|            NULL|           NULL|                  no|             yes|agriculture_lives...|              NULL|           4|             NULL|                    yes|\n",
            "|        RO|2020|    9|             1| 14|  1|                 no|                 no|                       no|                             no|                    no|                      no|                    no|                         no|                       NULL|            NULL|           NULL|                  no|              no|                NULL|              NULL|        NULL|             NULL|                    yes|\n",
            "|        RO|2020|    9|             1| 15|  2|                 no|                 no|                       no|                             no|                    no|                      no|                    no|                         no|                       NULL|            NULL|           NULL|                  no|              no|                NULL|              NULL|        NULL|             NULL|                    yes|\n",
            "|        RO|2020|    9|             1| 33|  2|                 no|                 no|                       no|                             no|                    no|                      no|                    no|                         no|                       NULL|            NULL|           NULL|                  no|              no|                NULL|              NULL|        NULL|             NULL|                    yes|\n",
            "|        RO|2020|    9|             1| 62|  1|                 no|                 no|                       no|                             no|                    no|                      no|                    no|                         no|                       NULL|            NULL|           NULL|                  no|             yes|repair_of_motor_v...|              NULL|           4|             NULL|                    yes|\n",
            "|        RO|2020|    9|             1| 62|  2|                 no|                 no|                       no|                             no|                    no|                      no|                    no|                         no|                       NULL|            NULL|           NULL|                  no|              no|                NULL|              NULL|        NULL|             NULL|                    yes|\n",
            "|        RO|2020|    9|             1| 56|  2|                 no|                 no|                       no|                             no|                    no|                      no|                    no|                         no|                       NULL|            NULL|           NULL|                  no|              no|                NULL|              NULL|        NULL|             NULL|                    yes|\n",
            "|        RO|2020|    9|             1| 53|  1|                 no|                 no|                       no|                             no|                    no|                      no|                    no|                         no|                       NULL|            NULL|           NULL|                  no|             yes|        construction|              NULL|           4|             NULL|                    yes|\n",
            "|        RO|2020|    9|             1| 17|  2|                 no|                 no|                       no|                             no|                    no|                      no|                    no|                         no|                       NULL|            NULL|           NULL|                  no|              no|                NULL|              NULL|        NULL|             NULL|                    yes|\n",
            "+----------+----+-----+--------------+---+---+-------------------+-------------------+-------------------------+-------------------------------+----------------------+------------------------+----------------------+---------------------------+---------------------------+----------------+---------------+--------------------+----------------+--------------------+------------------+------------+-----------------+-----------------------+\n",
            "only showing top 20 rows\n",
            "\n"
          ]
        }
      ]
    },
    {
      "cell_type": "code",
      "source": [
        "def translate_and_cast_n_of_employees(value):\n",
        "    return employee_translation.get(value, None)\n",
        "\n",
        "translate_udf = udf(translate_and_cast_sector, StringType())\n",
        "\n",
        "# Apply the UDF to the selected columns\n",
        "\n",
        "df = df.withColumn('how_many_employees', translate_udf(col('how_many_employees')))"
      ],
      "metadata": {
        "id": "x1_7D6fYDsPH"
      },
      "execution_count": 74,
      "outputs": []
    },
    {
      "cell_type": "code",
      "source": [
        "df.show()"
      ],
      "metadata": {
        "id": "hd0maUJdDzKB",
        "colab": {
          "base_uri": "https://localhost:8080/"
        },
        "outputId": "ce616fb5-05b3-4a7c-ef43-1b22840dd571"
      },
      "execution_count": 75,
      "outputs": [
        {
          "output_type": "stream",
          "name": "stdout",
          "text": [
            "+----------+----+-----+--------------+---+---+-------------------+-------------------+-------------------------+-------------------------------+----------------------+------------------------+----------------------+---------------------------+---------------------------+----------------+---------------+--------------------+----------------+--------------------+------------------+------------+-----------------+-----------------------+\n",
            "|state_code|year|month|housing_status|age|sex|had_fever_last_week|had_cough_last_week|had_sore_throat_last_week|had_trouble_breathing_last_week|had_headache_last_week|had_runny_nose_last_week|had_lethargy_last_week|had_loss_of_smell_last_week|went_to_healthcare_facility|was_hospitalized|used_ventilator|has_health_insurance|worked_last_week|   main_job_activity|how_many_employees|income_range|has_worked_remote|coronavirus_related_aid|\n",
            "+----------+----+-----+--------------+---+---+-------------------+-------------------+-------------------------+-------------------------------+----------------------+------------------------+----------------------+---------------------------+---------------------------+----------------+---------------+--------------------+----------------+--------------------+------------------+------------+-----------------+-----------------------+\n",
            "|        RO|2020|    9|             1| 36|  1|                 no|                 no|                       no|                             no|                    no|                      no|                    no|                         no|                       NULL|            NULL|           NULL|                 yes|             yes|wholesale_and_ret...|              NULL|           4|             NULL|                    yes|\n",
            "|        RO|2020|    9|             1| 30|  2|                 no|                 no|                       no|                             no|                    no|                      no|                    no|                         no|                       NULL|            NULL|           NULL|                  no|             yes|human_health_and_...|              NULL|           4|             NULL|                    yes|\n",
            "|        RO|2020|    9|             1| 13|  1|                 no|                 no|                       no|                             no|                    no|                      no|                    no|                         no|                       NULL|            NULL|           NULL|                 yes|            NULL|                NULL|              NULL|        NULL|             NULL|                    yes|\n",
            "|        RO|2020|    9|             1| 11|  1|                 no|                 no|                       no|                             no|                    no|                      no|                    no|                         no|                       NULL|            NULL|           NULL|                 yes|            NULL|                NULL|              NULL|        NULL|             NULL|                    yes|\n",
            "|        RO|2020|    9|             1| 57|  2|                 no|                 no|                       no|                             no|                    no|                      no|                    no|                         no|                       NULL|            NULL|           NULL|                  no|              no|                NULL|              NULL|        NULL|             NULL|                     no|\n",
            "|        RO|2020|    9|             1| 58|  2|                 no|                 no|                       no|                             no|                    no|                      no|                    no|                         no|                       NULL|            NULL|           NULL|                  no|             yes|               other|              NULL|           0|             NULL|                     no|\n",
            "|        RO|2020|    9|             1| 47|  1|                 no|                 no|                       no|                             no|                    no|                      no|                    no|                         no|                       NULL|            NULL|           NULL|                  no|             yes|        construction|              NULL|           4|             NULL|                    yes|\n",
            "|        RO|2020|    9|             1| 18|  2|                 no|                 no|                       no|                             no|                    no|                      no|                    no|                         no|                       NULL|            NULL|           NULL|                  no|              no|                NULL|              NULL|        NULL|             NULL|                    yes|\n",
            "|        RO|2020|    9|             1| 11|  1|                 no|                 no|                       no|                             no|                    no|                      no|                    no|                         no|                       NULL|            NULL|           NULL|                  no|            NULL|                NULL|              NULL|        NULL|             NULL|                    yes|\n",
            "|        RO|2020|    9|             1|  9|  2|                 no|                 no|                       no|                             no|                    no|                      no|                    no|                         no|                       NULL|            NULL|           NULL|                  no|            NULL|                NULL|              NULL|        NULL|             NULL|                    yes|\n",
            "|        RO|2020|    9|             1| 10|  1|                 no|                 no|                       no|                             no|                    no|                      no|                    no|                         no|                       NULL|            NULL|           NULL|                  no|            NULL|                NULL|              NULL|        NULL|             NULL|                    yes|\n",
            "|        RO|2020|    9|             1| 26|  1|                 no|                 no|                       no|                             no|                    no|                      no|                    no|                         no|                       NULL|            NULL|           NULL|                  no|             yes|agriculture_lives...|              NULL|           4|             NULL|                    yes|\n",
            "|        RO|2020|    9|             1| 14|  1|                 no|                 no|                       no|                             no|                    no|                      no|                    no|                         no|                       NULL|            NULL|           NULL|                  no|              no|                NULL|              NULL|        NULL|             NULL|                    yes|\n",
            "|        RO|2020|    9|             1| 15|  2|                 no|                 no|                       no|                             no|                    no|                      no|                    no|                         no|                       NULL|            NULL|           NULL|                  no|              no|                NULL|              NULL|        NULL|             NULL|                    yes|\n",
            "|        RO|2020|    9|             1| 33|  2|                 no|                 no|                       no|                             no|                    no|                      no|                    no|                         no|                       NULL|            NULL|           NULL|                  no|              no|                NULL|              NULL|        NULL|             NULL|                    yes|\n",
            "|        RO|2020|    9|             1| 62|  1|                 no|                 no|                       no|                             no|                    no|                      no|                    no|                         no|                       NULL|            NULL|           NULL|                  no|             yes|repair_of_motor_v...|              NULL|           4|             NULL|                    yes|\n",
            "|        RO|2020|    9|             1| 62|  2|                 no|                 no|                       no|                             no|                    no|                      no|                    no|                         no|                       NULL|            NULL|           NULL|                  no|              no|                NULL|              NULL|        NULL|             NULL|                    yes|\n",
            "|        RO|2020|    9|             1| 56|  2|                 no|                 no|                       no|                             no|                    no|                      no|                    no|                         no|                       NULL|            NULL|           NULL|                  no|              no|                NULL|              NULL|        NULL|             NULL|                    yes|\n",
            "|        RO|2020|    9|             1| 53|  1|                 no|                 no|                       no|                             no|                    no|                      no|                    no|                         no|                       NULL|            NULL|           NULL|                  no|             yes|        construction|              NULL|           4|             NULL|                    yes|\n",
            "|        RO|2020|    9|             1| 17|  2|                 no|                 no|                       no|                             no|                    no|                      no|                    no|                         no|                       NULL|            NULL|           NULL|                  no|              no|                NULL|              NULL|        NULL|             NULL|                    yes|\n",
            "+----------+----+-----+--------------+---+---+-------------------+-------------------+-------------------------+-------------------------------+----------------------+------------------------+----------------------+---------------------------+---------------------------+----------------+---------------+--------------------+----------------+--------------------+------------------+------------+-----------------+-----------------------+\n",
            "only showing top 20 rows\n",
            "\n"
          ]
        }
      ]
    },
    {
      "cell_type": "code",
      "source": [
        "def translate_and_cast_income(value):\n",
        "    return income_range.get(value, None)\n",
        "\n",
        "translate_udf = udf(translate_and_cast_income, StringType())\n",
        "\n",
        "# Apply the UDF to the selected columns\n",
        "\n",
        "df = df.withColumn('income_range', translate_udf(col('income_range')))"
      ],
      "metadata": {
        "id": "6Dw_Bp0oEyoP"
      },
      "execution_count": 76,
      "outputs": []
    },
    {
      "cell_type": "code",
      "source": [
        "df = df.withColumn(\"sex\", F.expr(\"CASE WHEN sex == 1 THEN 'male' ELSE 'female' END\"))\n",
        "df = df.withColumn(\"housing_status\", F.expr(\"CASE WHEN housing_status == 1 THEN 'urban' ELSE 'rural' END\"))"
      ],
      "metadata": {
        "id": "ifsDQy-pJINy"
      },
      "execution_count": 77,
      "outputs": []
    },
    {
      "cell_type": "code",
      "source": [
        "df.show()"
      ],
      "metadata": {
        "id": "pGk5WD6PFeWx",
        "colab": {
          "base_uri": "https://localhost:8080/"
        },
        "outputId": "df597fe9-4e42-4309-b3c5-b7342b639b21"
      },
      "execution_count": 78,
      "outputs": [
        {
          "output_type": "stream",
          "name": "stdout",
          "text": [
            "+----------+----+-----+--------------+---+------+-------------------+-------------------+-------------------------+-------------------------------+----------------------+------------------------+----------------------+---------------------------+---------------------------+----------------+---------------+--------------------+----------------+--------------------+------------------+--------------+-----------------+-----------------------+\n",
            "|state_code|year|month|housing_status|age|   sex|had_fever_last_week|had_cough_last_week|had_sore_throat_last_week|had_trouble_breathing_last_week|had_headache_last_week|had_runny_nose_last_week|had_lethargy_last_week|had_loss_of_smell_last_week|went_to_healthcare_facility|was_hospitalized|used_ventilator|has_health_insurance|worked_last_week|   main_job_activity|how_many_employees|  income_range|has_worked_remote|coronavirus_related_aid|\n",
            "+----------+----+-----+--------------+---+------+-------------------+-------------------+-------------------------+-------------------------------+----------------------+------------------------+----------------------+---------------------------+---------------------------+----------------+---------------+--------------------+----------------+--------------------+------------------+--------------+-----------------+-----------------------+\n",
            "|        RO|2020|    9|         urban| 36|  male|                 no|                 no|                       no|                             no|                    no|                      no|                    no|                         no|                       NULL|            NULL|           NULL|                 yes|             yes|wholesale_and_ret...|              NULL|     801-1,600|             NULL|                    yes|\n",
            "|        RO|2020|    9|         urban| 30|female|                 no|                 no|                       no|                             no|                    no|                      no|                    no|                         no|                       NULL|            NULL|           NULL|                  no|             yes|human_health_and_...|              NULL|     801-1,600|             NULL|                    yes|\n",
            "|        RO|2020|    9|         urban| 13|  male|                 no|                 no|                       no|                             no|                    no|                      no|                    no|                         no|                       NULL|            NULL|           NULL|                 yes|            NULL|                NULL|              NULL|          NULL|             NULL|                    yes|\n",
            "|        RO|2020|    9|         urban| 11|  male|                 no|                 no|                       no|                             no|                    no|                      no|                    no|                         no|                       NULL|            NULL|           NULL|                 yes|            NULL|                NULL|              NULL|          NULL|             NULL|                    yes|\n",
            "|        RO|2020|    9|         urban| 57|female|                 no|                 no|                       no|                             no|                    no|                      no|                    no|                         no|                       NULL|            NULL|           NULL|                  no|              no|                NULL|              NULL|          NULL|             NULL|                     no|\n",
            "|        RO|2020|    9|         urban| 58|female|                 no|                 no|                       no|                             no|                    no|                      no|                    no|                         no|                       NULL|            NULL|           NULL|                  no|             yes|               other|              NULL|not_applicable|             NULL|                     no|\n",
            "|        RO|2020|    9|         urban| 47|  male|                 no|                 no|                       no|                             no|                    no|                      no|                    no|                         no|                       NULL|            NULL|           NULL|                  no|             yes|        construction|              NULL|     801-1,600|             NULL|                    yes|\n",
            "|        RO|2020|    9|         urban| 18|female|                 no|                 no|                       no|                             no|                    no|                      no|                    no|                         no|                       NULL|            NULL|           NULL|                  no|              no|                NULL|              NULL|          NULL|             NULL|                    yes|\n",
            "|        RO|2020|    9|         urban| 11|  male|                 no|                 no|                       no|                             no|                    no|                      no|                    no|                         no|                       NULL|            NULL|           NULL|                  no|            NULL|                NULL|              NULL|          NULL|             NULL|                    yes|\n",
            "|        RO|2020|    9|         urban|  9|female|                 no|                 no|                       no|                             no|                    no|                      no|                    no|                         no|                       NULL|            NULL|           NULL|                  no|            NULL|                NULL|              NULL|          NULL|             NULL|                    yes|\n",
            "|        RO|2020|    9|         urban| 10|  male|                 no|                 no|                       no|                             no|                    no|                      no|                    no|                         no|                       NULL|            NULL|           NULL|                  no|            NULL|                NULL|              NULL|          NULL|             NULL|                    yes|\n",
            "|        RO|2020|    9|         urban| 26|  male|                 no|                 no|                       no|                             no|                    no|                      no|                    no|                         no|                       NULL|            NULL|           NULL|                  no|             yes|agriculture_lives...|              NULL|     801-1,600|             NULL|                    yes|\n",
            "|        RO|2020|    9|         urban| 14|  male|                 no|                 no|                       no|                             no|                    no|                      no|                    no|                         no|                       NULL|            NULL|           NULL|                  no|              no|                NULL|              NULL|          NULL|             NULL|                    yes|\n",
            "|        RO|2020|    9|         urban| 15|female|                 no|                 no|                       no|                             no|                    no|                      no|                    no|                         no|                       NULL|            NULL|           NULL|                  no|              no|                NULL|              NULL|          NULL|             NULL|                    yes|\n",
            "|        RO|2020|    9|         urban| 33|female|                 no|                 no|                       no|                             no|                    no|                      no|                    no|                         no|                       NULL|            NULL|           NULL|                  no|              no|                NULL|              NULL|          NULL|             NULL|                    yes|\n",
            "|        RO|2020|    9|         urban| 62|  male|                 no|                 no|                       no|                             no|                    no|                      no|                    no|                         no|                       NULL|            NULL|           NULL|                  no|             yes|repair_of_motor_v...|              NULL|     801-1,600|             NULL|                    yes|\n",
            "|        RO|2020|    9|         urban| 62|female|                 no|                 no|                       no|                             no|                    no|                      no|                    no|                         no|                       NULL|            NULL|           NULL|                  no|              no|                NULL|              NULL|          NULL|             NULL|                    yes|\n",
            "|        RO|2020|    9|         urban| 56|female|                 no|                 no|                       no|                             no|                    no|                      no|                    no|                         no|                       NULL|            NULL|           NULL|                  no|              no|                NULL|              NULL|          NULL|             NULL|                    yes|\n",
            "|        RO|2020|    9|         urban| 53|  male|                 no|                 no|                       no|                             no|                    no|                      no|                    no|                         no|                       NULL|            NULL|           NULL|                  no|             yes|        construction|              NULL|     801-1,600|             NULL|                    yes|\n",
            "|        RO|2020|    9|         urban| 17|female|                 no|                 no|                       no|                             no|                    no|                      no|                    no|                         no|                       NULL|            NULL|           NULL|                  no|              no|                NULL|              NULL|          NULL|             NULL|                    yes|\n",
            "+----------+----+-----+--------------+---+------+-------------------+-------------------+-------------------------+-------------------------------+----------------------+------------------------+----------------------+---------------------------+---------------------------+----------------+---------------+--------------------+----------------+--------------------+------------------+--------------+-----------------+-----------------------+\n",
            "only showing top 20 rows\n",
            "\n"
          ]
        }
      ]
    },
    {
      "cell_type": "code",
      "source": [
        "df.count()"
      ],
      "metadata": {
        "id": "Z8k3siOXPl2L",
        "outputId": "c49ad457-f5de-4e7b-d9ae-128d1e514ce0",
        "colab": {
          "base_uri": "https://localhost:8080/"
        }
      },
      "execution_count": 79,
      "outputs": [
        {
          "output_type": "execute_result",
          "data": {
            "text/plain": [
              "1149197"
            ]
          },
          "metadata": {},
          "execution_count": 79
        }
      ]
    },
    {
      "cell_type": "markdown",
      "source": [
        "3.1 | Número de sintomas (1 ou mais sintomas, até 5 no máximo)"
      ],
      "metadata": {
        "id": "Dy_TMyAgOJFn"
      }
    },
    {
      "cell_type": "code",
      "source": [
        "# creating has_covid column based on the symptoms column\n",
        "\n",
        "symptom_col = ['had_fever_last_week','had_cough_last_week',\n",
        "                 'had_sore_throat_last_week','had_headache_last_week','had_runny_nose_last_week',\n",
        "                 'had_lethargy_last_week','had_loss_of_smell_last_week']\n",
        "\n",
        "## if a row has a count of symptoms equal or greater than 1, we identify this research as positive for Covid\n",
        "yes_count = sum(when(col(c) == \"yes\", 1).otherwise(0) for c in symptom_col)"
      ],
      "metadata": {
        "id": "4A4ddD2mMfVa"
      },
      "execution_count": 80,
      "outputs": []
    },
    {
      "cell_type": "code",
      "source": [
        "# Use withColumn to create the has_covid column\n",
        "df = df.withColumn(\"has_covid\", yes_count >= 1)\n"
      ],
      "metadata": {
        "id": "qtwe-IAbOXdX"
      },
      "execution_count": 81,
      "outputs": []
    },
    {
      "cell_type": "code",
      "source": [
        "probably_covid = df.filter(df.has_covid==True)"
      ],
      "metadata": {
        "id": "ZfvSyRX6P5L8"
      },
      "execution_count": 82,
      "outputs": []
    },
    {
      "cell_type": "code",
      "source": [
        "not_probably_covid = df.filter(df.has_covid==False)"
      ],
      "metadata": {
        "id": "Zr_NNx5xXlUq"
      },
      "execution_count": 83,
      "outputs": []
    },
    {
      "cell_type": "code",
      "source": [
        "not_probably_covid.show()"
      ],
      "metadata": {
        "id": "fuUumP_fXpOG",
        "outputId": "defdc512-22f1-4cfc-f8c1-db48d26c9e56",
        "colab": {
          "base_uri": "https://localhost:8080/"
        }
      },
      "execution_count": 84,
      "outputs": [
        {
          "output_type": "stream",
          "name": "stdout",
          "text": [
            "+----------+----+-----+--------------+---+------+-------------------+-------------------+-------------------------+-------------------------------+----------------------+------------------------+----------------------+---------------------------+---------------------------+----------------+---------------+--------------------+----------------+--------------------+------------------+--------------+-----------------+-----------------------+---------+\n",
            "|state_code|year|month|housing_status|age|   sex|had_fever_last_week|had_cough_last_week|had_sore_throat_last_week|had_trouble_breathing_last_week|had_headache_last_week|had_runny_nose_last_week|had_lethargy_last_week|had_loss_of_smell_last_week|went_to_healthcare_facility|was_hospitalized|used_ventilator|has_health_insurance|worked_last_week|   main_job_activity|how_many_employees|  income_range|has_worked_remote|coronavirus_related_aid|has_covid|\n",
            "+----------+----+-----+--------------+---+------+-------------------+-------------------+-------------------------+-------------------------------+----------------------+------------------------+----------------------+---------------------------+---------------------------+----------------+---------------+--------------------+----------------+--------------------+------------------+--------------+-----------------+-----------------------+---------+\n",
            "|        RO|2020|    9|         urban| 36|  male|                 no|                 no|                       no|                             no|                    no|                      no|                    no|                         no|                       NULL|            NULL|           NULL|                 yes|             yes|wholesale_and_ret...|              NULL|     801-1,600|             NULL|                    yes|    false|\n",
            "|        RO|2020|    9|         urban| 30|female|                 no|                 no|                       no|                             no|                    no|                      no|                    no|                         no|                       NULL|            NULL|           NULL|                  no|             yes|human_health_and_...|              NULL|     801-1,600|             NULL|                    yes|    false|\n",
            "|        RO|2020|    9|         urban| 13|  male|                 no|                 no|                       no|                             no|                    no|                      no|                    no|                         no|                       NULL|            NULL|           NULL|                 yes|            NULL|                NULL|              NULL|          NULL|             NULL|                    yes|    false|\n",
            "|        RO|2020|    9|         urban| 11|  male|                 no|                 no|                       no|                             no|                    no|                      no|                    no|                         no|                       NULL|            NULL|           NULL|                 yes|            NULL|                NULL|              NULL|          NULL|             NULL|                    yes|    false|\n",
            "|        RO|2020|    9|         urban| 57|female|                 no|                 no|                       no|                             no|                    no|                      no|                    no|                         no|                       NULL|            NULL|           NULL|                  no|              no|                NULL|              NULL|          NULL|             NULL|                     no|    false|\n",
            "|        RO|2020|    9|         urban| 58|female|                 no|                 no|                       no|                             no|                    no|                      no|                    no|                         no|                       NULL|            NULL|           NULL|                  no|             yes|               other|              NULL|not_applicable|             NULL|                     no|    false|\n",
            "|        RO|2020|    9|         urban| 47|  male|                 no|                 no|                       no|                             no|                    no|                      no|                    no|                         no|                       NULL|            NULL|           NULL|                  no|             yes|        construction|              NULL|     801-1,600|             NULL|                    yes|    false|\n",
            "|        RO|2020|    9|         urban| 18|female|                 no|                 no|                       no|                             no|                    no|                      no|                    no|                         no|                       NULL|            NULL|           NULL|                  no|              no|                NULL|              NULL|          NULL|             NULL|                    yes|    false|\n",
            "|        RO|2020|    9|         urban| 11|  male|                 no|                 no|                       no|                             no|                    no|                      no|                    no|                         no|                       NULL|            NULL|           NULL|                  no|            NULL|                NULL|              NULL|          NULL|             NULL|                    yes|    false|\n",
            "|        RO|2020|    9|         urban|  9|female|                 no|                 no|                       no|                             no|                    no|                      no|                    no|                         no|                       NULL|            NULL|           NULL|                  no|            NULL|                NULL|              NULL|          NULL|             NULL|                    yes|    false|\n",
            "|        RO|2020|    9|         urban| 10|  male|                 no|                 no|                       no|                             no|                    no|                      no|                    no|                         no|                       NULL|            NULL|           NULL|                  no|            NULL|                NULL|              NULL|          NULL|             NULL|                    yes|    false|\n",
            "|        RO|2020|    9|         urban| 26|  male|                 no|                 no|                       no|                             no|                    no|                      no|                    no|                         no|                       NULL|            NULL|           NULL|                  no|             yes|agriculture_lives...|              NULL|     801-1,600|             NULL|                    yes|    false|\n",
            "|        RO|2020|    9|         urban| 14|  male|                 no|                 no|                       no|                             no|                    no|                      no|                    no|                         no|                       NULL|            NULL|           NULL|                  no|              no|                NULL|              NULL|          NULL|             NULL|                    yes|    false|\n",
            "|        RO|2020|    9|         urban| 15|female|                 no|                 no|                       no|                             no|                    no|                      no|                    no|                         no|                       NULL|            NULL|           NULL|                  no|              no|                NULL|              NULL|          NULL|             NULL|                    yes|    false|\n",
            "|        RO|2020|    9|         urban| 33|female|                 no|                 no|                       no|                             no|                    no|                      no|                    no|                         no|                       NULL|            NULL|           NULL|                  no|              no|                NULL|              NULL|          NULL|             NULL|                    yes|    false|\n",
            "|        RO|2020|    9|         urban| 62|  male|                 no|                 no|                       no|                             no|                    no|                      no|                    no|                         no|                       NULL|            NULL|           NULL|                  no|             yes|repair_of_motor_v...|              NULL|     801-1,600|             NULL|                    yes|    false|\n",
            "|        RO|2020|    9|         urban| 62|female|                 no|                 no|                       no|                             no|                    no|                      no|                    no|                         no|                       NULL|            NULL|           NULL|                  no|              no|                NULL|              NULL|          NULL|             NULL|                    yes|    false|\n",
            "|        RO|2020|    9|         urban| 56|female|                 no|                 no|                       no|                             no|                    no|                      no|                    no|                         no|                       NULL|            NULL|           NULL|                  no|              no|                NULL|              NULL|          NULL|             NULL|                    yes|    false|\n",
            "|        RO|2020|    9|         urban| 53|  male|                 no|                 no|                       no|                             no|                    no|                      no|                    no|                         no|                       NULL|            NULL|           NULL|                  no|             yes|        construction|              NULL|     801-1,600|             NULL|                    yes|    false|\n",
            "|        RO|2020|    9|         urban| 17|female|                 no|                 no|                       no|                             no|                    no|                      no|                    no|                         no|                       NULL|            NULL|           NULL|                  no|              no|                NULL|              NULL|          NULL|             NULL|                    yes|    false|\n",
            "+----------+----+-----+--------------+---+------+-------------------+-------------------+-------------------------+-------------------------------+----------------------+------------------------+----------------------+---------------------------+---------------------------+----------------+---------------+--------------------+----------------+--------------------+------------------+--------------+-----------------+-----------------------+---------+\n",
            "only showing top 20 rows\n",
            "\n"
          ]
        }
      ]
    },
    {
      "cell_type": "code",
      "source": [
        "probably_covid.show()"
      ],
      "metadata": {
        "id": "9OkyKEptOa7t",
        "outputId": "c989c565-17d1-49c3-8e77-59ebe0de4dad",
        "colab": {
          "base_uri": "https://localhost:8080/"
        }
      },
      "execution_count": 85,
      "outputs": [
        {
          "output_type": "stream",
          "name": "stdout",
          "text": [
            "+----------+----+-----+--------------+---+------+-------------------+-------------------+-------------------------+-------------------------------+----------------------+------------------------+----------------------+---------------------------+---------------------------+----------------+---------------+--------------------+----------------+--------------------+------------------+------------+-----------------+-----------------------+---------+\n",
            "|state_code|year|month|housing_status|age|   sex|had_fever_last_week|had_cough_last_week|had_sore_throat_last_week|had_trouble_breathing_last_week|had_headache_last_week|had_runny_nose_last_week|had_lethargy_last_week|had_loss_of_smell_last_week|went_to_healthcare_facility|was_hospitalized|used_ventilator|has_health_insurance|worked_last_week|   main_job_activity|how_many_employees|income_range|has_worked_remote|coronavirus_related_aid|has_covid|\n",
            "+----------+----+-----+--------------+---+------+-------------------+-------------------+-------------------------+-------------------------------+----------------------+------------------------+----------------------+---------------------------+---------------------------+----------------+---------------+--------------------+----------------+--------------------+------------------+------------+-----------------+-----------------------+---------+\n",
            "|        RO|2020|    9|         urban|  8|  male|                yes|                yes|                      yes|                            yes|                   yes|                     yes|                   yes|                         no|                         no|            NULL|           NULL|                  no|            NULL|                NULL|              NULL|        NULL|             NULL|                     no|     true|\n",
            "|        RO|2020|    9|         urban| 25|  male|                 no|                yes|                       no|                             no|                    no|                      no|                    no|                         no|                         no|            NULL|           NULL|                  no|             yes|food_service_bars...|              NULL|     601-800|             NULL|                    yes|     true|\n",
            "|        RO|2020|    9|         urban| 21|female|                 no|                yes|                       no|                             no|                    no|                      no|                    no|                         no|                         no|            NULL|           NULL|                  no|              no|                NULL|              NULL|        NULL|             NULL|                    yes|     true|\n",
            "|        RO|2020|    9|         urban| 31|female|                yes|                 no|                      yes|                             no|                    no|                      no|                    no|                         no|                        yes|              no|           NULL|                  no|              no|                NULL|              NULL|        NULL|             NULL|                    yes|     true|\n",
            "|        RO|2020|    9|         urban| 87|female|                 no|                yes|                       no|                            yes|                    no|                     yes|                   yes|                         no|                        yes|            NULL|           NULL|                 yes|              no|                NULL|              NULL|        NULL|             NULL|                     no|     true|\n",
            "|        RO|2020|    9|         urban| 39|female|                yes|                yes|                      yes|                            yes|                   yes|                     yes|                   yes|                         no|                         no|            NULL|           NULL|                 yes|             yes|               other|              NULL|   801-1,600|             NULL|                     no|     true|\n",
            "|        RO|2020|    9|         urban| 38|  male|                 no|                yes|                      yes|                            yes|                   yes|                     yes|                   yes|                         no|                        yes|              no|           NULL|                  no|             yes|               other|              NULL|   801-1,600|             NULL|                     no|     true|\n",
            "|        RO|2020|    9|         urban| 64|female|                 no|                 no|                      yes|                             no|                   yes|                      no|                    no|                         no|                         no|            NULL|           NULL|                  no|              no|public_administra...|              NULL| 1,601-3,000|             NULL|                    yes|     true|\n",
            "|        RO|2020|    9|         urban| 18|female|                yes|                yes|                      yes|                            yes|                   yes|                     yes|                   yes|                        yes|                         no|            NULL|           NULL|                  no|              no|                NULL|              NULL|        NULL|             NULL|                    yes|     true|\n",
            "|        RO|2020|    9|         urban| 62|female|                yes|                yes|                      yes|                            yes|                   yes|                     yes|                   yes|                        yes|                        yes|              no|           NULL|                 yes|              no|public_administra...|              NULL|3,001-10,000|             NULL|                    yes|     true|\n",
            "|        RO|2020|    9|         urban| 36|female|                yes|                yes|                      yes|                            yes|                   yes|                     yes|                   yes|                        yes|                        yes|              no|           NULL|                 yes|             yes|                NULL|              NULL|3,001-10,000|             NULL|                    yes|     true|\n",
            "|        RO|2020|    9|         urban| 56|female|                 no|                 no|                       no|                             no|                   yes|                      no|                   yes|                         no|                         no|            NULL|           NULL|                  no|              no|                NULL|              NULL|        NULL|             NULL|                    yes|     true|\n",
            "|        RO|2020|    9|         urban| 17|  male|                 no|                yes|                      yes|                             no|                    no|                     yes|                    no|                         no|                         no|            NULL|           NULL|                  no|             yes|food_service_bars...|              NULL|     301-600|             NULL|                     no|     true|\n",
            "|        RO|2020|    9|         urban| 65|  male|                 no|                 no|                       no|                             no|                    no|                     yes|                    no|                         no|                         no|            NULL|           NULL|                  no|              no|                NULL|              NULL|        NULL|             NULL|                     no|     true|\n",
            "|        RO|2020|    9|         urban| 40|female|                 no|                yes|                      yes|                             no|                    no|                      no|                    no|                         no|                         no|            NULL|           NULL|                  no|             yes| passenger_transport|              NULL|   801-1,600|             NULL|                     no|     true|\n",
            "|        RO|2020|    9|         urban| 38|female|                 no|                yes|                       no|                             no|                   yes|                      no|                    no|                         no|                         no|            NULL|           NULL|                  no|             yes|hairdressing_beau...|              NULL|   801-1,600|             NULL|                    yes|     true|\n",
            "|        RO|2020|    9|         urban| 24|  male|                yes|                 no|                       no|                            yes|                    no|                      no|                    no|                         no|                        yes|            NULL|           NULL|                  no|             yes|wholesale_and_ret...|              NULL|   801-1,600|             NULL|                     no|     true|\n",
            "|        RO|2020|    9|         urban| 67|female|                 no|                 no|                       no|                             no|                   yes|                      no|                    no|                         no|                         no|            NULL|           NULL|                  no|              no|                NULL|              NULL|        NULL|             NULL|                    yes|     true|\n",
            "|        RO|2020|    9|         urban| 40|female|                 no|                 no|                       no|                             no|                    no|                      no|                    no|                        yes|                        yes|            NULL|           NULL|                  no|             yes|paid_domestic_ser...|              NULL|   801-1,600|             NULL|                     no|     true|\n",
            "|        RO|2020|    9|         urban| 63|female|                yes|                 no|                       no|                             no|                   yes|                      no|                    no|                         no|                         no|            NULL|           NULL|                  no|              no|                NULL|              NULL|        NULL|             NULL|                    yes|     true|\n",
            "+----------+----+-----+--------------+---+------+-------------------+-------------------+-------------------------+-------------------------------+----------------------+------------------------+----------------------+---------------------------+---------------------------+----------------+---------------+--------------------+----------------+--------------------+------------------+------------+-----------------+-----------------------+---------+\n",
            "only showing top 20 rows\n",
            "\n"
          ]
        }
      ]
    },
    {
      "cell_type": "markdown",
      "source": [
        "3.2.1 | Teve sintoma -> idade da pessoa? (0->21, 21->60, 60->mais)\n"
      ],
      "metadata": {
        "id": "58FhkXQ6ajDd"
      }
    },
    {
      "cell_type": "code",
      "source": [
        "probably_covid = probably_covid.withColumn(\"covid_per_age\", when(probably_covid[\"age\"] < 21, \"young\")\n",
        "                                  .when((probably_covid[\"age\"] >= 21) & (probably_covid[\"age\"] <= 60), \"adult\")\n",
        "                                  .when(probably_covid[\"age\"] > 60, \"elderly\")\n",
        "                                  .otherwise(\"other\"))"
      ],
      "metadata": {
        "id": "QAPKqWWmRWWJ"
      },
      "execution_count": 86,
      "outputs": []
    },
    {
      "cell_type": "code",
      "source": [
        "probably_covid.show()"
      ],
      "metadata": {
        "id": "K0nv71ARW7-1",
        "colab": {
          "base_uri": "https://localhost:8080/"
        },
        "outputId": "13f179b0-c01f-4015-c238-0d8b9657d0f7"
      },
      "execution_count": 87,
      "outputs": [
        {
          "output_type": "stream",
          "name": "stdout",
          "text": [
            "+----------+----+-----+--------------+---+------+-------------------+-------------------+-------------------------+-------------------------------+----------------------+------------------------+----------------------+---------------------------+---------------------------+----------------+---------------+--------------------+----------------+--------------------+------------------+------------+-----------------+-----------------------+---------+-------------+\n",
            "|state_code|year|month|housing_status|age|   sex|had_fever_last_week|had_cough_last_week|had_sore_throat_last_week|had_trouble_breathing_last_week|had_headache_last_week|had_runny_nose_last_week|had_lethargy_last_week|had_loss_of_smell_last_week|went_to_healthcare_facility|was_hospitalized|used_ventilator|has_health_insurance|worked_last_week|   main_job_activity|how_many_employees|income_range|has_worked_remote|coronavirus_related_aid|has_covid|covid_per_age|\n",
            "+----------+----+-----+--------------+---+------+-------------------+-------------------+-------------------------+-------------------------------+----------------------+------------------------+----------------------+---------------------------+---------------------------+----------------+---------------+--------------------+----------------+--------------------+------------------+------------+-----------------+-----------------------+---------+-------------+\n",
            "|        RO|2020|    9|         urban|  8|  male|                yes|                yes|                      yes|                            yes|                   yes|                     yes|                   yes|                         no|                         no|            NULL|           NULL|                  no|            NULL|                NULL|              NULL|        NULL|             NULL|                     no|     true|        young|\n",
            "|        RO|2020|    9|         urban| 25|  male|                 no|                yes|                       no|                             no|                    no|                      no|                    no|                         no|                         no|            NULL|           NULL|                  no|             yes|food_service_bars...|              NULL|     601-800|             NULL|                    yes|     true|        adult|\n",
            "|        RO|2020|    9|         urban| 21|female|                 no|                yes|                       no|                             no|                    no|                      no|                    no|                         no|                         no|            NULL|           NULL|                  no|              no|                NULL|              NULL|        NULL|             NULL|                    yes|     true|        adult|\n",
            "|        RO|2020|    9|         urban| 31|female|                yes|                 no|                      yes|                             no|                    no|                      no|                    no|                         no|                        yes|              no|           NULL|                  no|              no|                NULL|              NULL|        NULL|             NULL|                    yes|     true|        adult|\n",
            "|        RO|2020|    9|         urban| 87|female|                 no|                yes|                       no|                            yes|                    no|                     yes|                   yes|                         no|                        yes|            NULL|           NULL|                 yes|              no|                NULL|              NULL|        NULL|             NULL|                     no|     true|      elderly|\n",
            "|        RO|2020|    9|         urban| 39|female|                yes|                yes|                      yes|                            yes|                   yes|                     yes|                   yes|                         no|                         no|            NULL|           NULL|                 yes|             yes|               other|              NULL|   801-1,600|             NULL|                     no|     true|        adult|\n",
            "|        RO|2020|    9|         urban| 38|  male|                 no|                yes|                      yes|                            yes|                   yes|                     yes|                   yes|                         no|                        yes|              no|           NULL|                  no|             yes|               other|              NULL|   801-1,600|             NULL|                     no|     true|        adult|\n",
            "|        RO|2020|    9|         urban| 64|female|                 no|                 no|                      yes|                             no|                   yes|                      no|                    no|                         no|                         no|            NULL|           NULL|                  no|              no|public_administra...|              NULL| 1,601-3,000|             NULL|                    yes|     true|      elderly|\n",
            "|        RO|2020|    9|         urban| 18|female|                yes|                yes|                      yes|                            yes|                   yes|                     yes|                   yes|                        yes|                         no|            NULL|           NULL|                  no|              no|                NULL|              NULL|        NULL|             NULL|                    yes|     true|        young|\n",
            "|        RO|2020|    9|         urban| 62|female|                yes|                yes|                      yes|                            yes|                   yes|                     yes|                   yes|                        yes|                        yes|              no|           NULL|                 yes|              no|public_administra...|              NULL|3,001-10,000|             NULL|                    yes|     true|      elderly|\n",
            "|        RO|2020|    9|         urban| 36|female|                yes|                yes|                      yes|                            yes|                   yes|                     yes|                   yes|                        yes|                        yes|              no|           NULL|                 yes|             yes|                NULL|              NULL|3,001-10,000|             NULL|                    yes|     true|        adult|\n",
            "|        RO|2020|    9|         urban| 56|female|                 no|                 no|                       no|                             no|                   yes|                      no|                   yes|                         no|                         no|            NULL|           NULL|                  no|              no|                NULL|              NULL|        NULL|             NULL|                    yes|     true|        adult|\n",
            "|        RO|2020|    9|         urban| 17|  male|                 no|                yes|                      yes|                             no|                    no|                     yes|                    no|                         no|                         no|            NULL|           NULL|                  no|             yes|food_service_bars...|              NULL|     301-600|             NULL|                     no|     true|        young|\n",
            "|        RO|2020|    9|         urban| 65|  male|                 no|                 no|                       no|                             no|                    no|                     yes|                    no|                         no|                         no|            NULL|           NULL|                  no|              no|                NULL|              NULL|        NULL|             NULL|                     no|     true|      elderly|\n",
            "|        RO|2020|    9|         urban| 40|female|                 no|                yes|                      yes|                             no|                    no|                      no|                    no|                         no|                         no|            NULL|           NULL|                  no|             yes| passenger_transport|              NULL|   801-1,600|             NULL|                     no|     true|        adult|\n",
            "|        RO|2020|    9|         urban| 38|female|                 no|                yes|                       no|                             no|                   yes|                      no|                    no|                         no|                         no|            NULL|           NULL|                  no|             yes|hairdressing_beau...|              NULL|   801-1,600|             NULL|                    yes|     true|        adult|\n",
            "|        RO|2020|    9|         urban| 24|  male|                yes|                 no|                       no|                            yes|                    no|                      no|                    no|                         no|                        yes|            NULL|           NULL|                  no|             yes|wholesale_and_ret...|              NULL|   801-1,600|             NULL|                     no|     true|        adult|\n",
            "|        RO|2020|    9|         urban| 67|female|                 no|                 no|                       no|                             no|                   yes|                      no|                    no|                         no|                         no|            NULL|           NULL|                  no|              no|                NULL|              NULL|        NULL|             NULL|                    yes|     true|      elderly|\n",
            "|        RO|2020|    9|         urban| 40|female|                 no|                 no|                       no|                             no|                    no|                      no|                    no|                        yes|                        yes|            NULL|           NULL|                  no|             yes|paid_domestic_ser...|              NULL|   801-1,600|             NULL|                     no|     true|        adult|\n",
            "|        RO|2020|    9|         urban| 63|female|                yes|                 no|                       no|                             no|                   yes|                      no|                    no|                         no|                         no|            NULL|           NULL|                  no|              no|                NULL|              NULL|        NULL|             NULL|                    yes|     true|      elderly|\n",
            "+----------+----+-----+--------------+---+------+-------------------+-------------------+-------------------------+-------------------------------+----------------------+------------------------+----------------------+---------------------------+---------------------------+----------------+---------------+--------------------+----------------+--------------------+------------------+------------+-----------------+-----------------------+---------+-------------+\n",
            "only showing top 20 rows\n",
            "\n"
          ]
        }
      ]
    },
    {
      "cell_type": "code",
      "source": [
        "covid_per_age = probably_covid.groupby('covid_per_age').count()"
      ],
      "metadata": {
        "id": "IEg_VFPdWYgQ"
      },
      "execution_count": 194,
      "outputs": []
    },
    {
      "cell_type": "code",
      "source": [
        "probably_covid.printSchema()"
      ],
      "metadata": {
        "id": "LOru2fVDVlTD",
        "outputId": "a9642ccd-21c8-4ade-e065-015b3f453e4d",
        "colab": {
          "base_uri": "https://localhost:8080/"
        }
      },
      "execution_count": 88,
      "outputs": [
        {
          "output_type": "stream",
          "name": "stdout",
          "text": [
            "root\n",
            " |-- state_code: string (nullable = true)\n",
            " |-- year: integer (nullable = true)\n",
            " |-- month: integer (nullable = true)\n",
            " |-- housing_status: string (nullable = false)\n",
            " |-- age: integer (nullable = true)\n",
            " |-- sex: string (nullable = false)\n",
            " |-- had_fever_last_week: string (nullable = true)\n",
            " |-- had_cough_last_week: string (nullable = true)\n",
            " |-- had_sore_throat_last_week: string (nullable = true)\n",
            " |-- had_trouble_breathing_last_week: string (nullable = true)\n",
            " |-- had_headache_last_week: string (nullable = true)\n",
            " |-- had_runny_nose_last_week: string (nullable = true)\n",
            " |-- had_lethargy_last_week: string (nullable = true)\n",
            " |-- had_loss_of_smell_last_week: string (nullable = true)\n",
            " |-- went_to_healthcare_facility: string (nullable = true)\n",
            " |-- was_hospitalized: string (nullable = true)\n",
            " |-- used_ventilator: string (nullable = true)\n",
            " |-- has_health_insurance: string (nullable = true)\n",
            " |-- worked_last_week: string (nullable = true)\n",
            " |-- main_job_activity: string (nullable = true)\n",
            " |-- how_many_employees: string (nullable = true)\n",
            " |-- income_range: string (nullable = true)\n",
            " |-- has_worked_remote: string (nullable = true)\n",
            " |-- coronavirus_related_aid: string (nullable = true)\n",
            " |-- has_covid: boolean (nullable = false)\n",
            " |-- covid_per_age: string (nullable = false)\n",
            "\n"
          ]
        }
      ]
    },
    {
      "cell_type": "code",
      "source": [
        "probably_covid.count()"
      ],
      "metadata": {
        "id": "FlN7DHpjVwfl",
        "outputId": "2b2fb558-88d1-4c68-d5c5-b56e3e5e6c4b",
        "colab": {
          "base_uri": "https://localhost:8080/"
        }
      },
      "execution_count": 89,
      "outputs": [
        {
          "output_type": "execute_result",
          "data": {
            "text/plain": [
              "40511"
            ]
          },
          "metadata": {},
          "execution_count": 89
        }
      ]
    },
    {
      "cell_type": "code",
      "source": [
        "df.groupby('sex').count().show()"
      ],
      "metadata": {
        "id": "JMjhnL09XLvj",
        "outputId": "bb8d6ee2-4455-473e-e9e8-8e4e61809c35",
        "colab": {
          "base_uri": "https://localhost:8080/"
        }
      },
      "execution_count": 90,
      "outputs": [
        {
          "output_type": "stream",
          "name": "stdout",
          "text": [
            "+------+------+\n",
            "|   sex| count|\n",
            "+------+------+\n",
            "|female|598541|\n",
            "|  male|550656|\n",
            "+------+------+\n",
            "\n"
          ]
        }
      ]
    },
    {
      "cell_type": "markdown",
      "source": [
        "3.2.2 | Teve sintoma -> sexo -> homem ou mulher\n"
      ],
      "metadata": {
        "id": "cf8UeXgyacL5"
      }
    },
    {
      "cell_type": "code",
      "source": [
        "probably_covid.groupby('sex').count().show()"
      ],
      "metadata": {
        "id": "XAu75uDk4u2u",
        "outputId": "dbc3059f-821f-4f2c-f328-bf24f8b2ab10",
        "colab": {
          "base_uri": "https://localhost:8080/"
        }
      },
      "execution_count": 91,
      "outputs": [
        {
          "output_type": "stream",
          "name": "stdout",
          "text": [
            "+------+-----+\n",
            "|   sex|count|\n",
            "+------+-----+\n",
            "|female|23520|\n",
            "|  male|16991|\n",
            "+------+-----+\n",
            "\n"
          ]
        }
      ]
    },
    {
      "cell_type": "code",
      "source": [
        "probably_covid.groupby('went_to_healthcare_facility').count().show()"
      ],
      "metadata": {
        "id": "O-ggA9_Z4us5",
        "outputId": "79bd8d59-81b8-4535-8f38-cf64d3d08c66",
        "colab": {
          "base_uri": "https://localhost:8080/"
        }
      },
      "execution_count": 92,
      "outputs": [
        {
          "output_type": "stream",
          "name": "stdout",
          "text": [
            "+---------------------------+-----+\n",
            "|went_to_healthcare_facility|count|\n",
            "+---------------------------+-----+\n",
            "|                    ignored|   12|\n",
            "|                         no|29703|\n",
            "|                        yes|10796|\n",
            "+---------------------------+-----+\n",
            "\n"
          ]
        }
      ]
    },
    {
      "cell_type": "markdown",
      "source": [
        "3.2.3 | Teve sintoma -> foi no médico?\n"
      ],
      "metadata": {
        "id": "NXMhfAfFaYyZ"
      }
    },
    {
      "cell_type": "code",
      "source": [
        "to_healthcare = probably_covid.filter(probably_covid['went_to_healthcare_facility'] == 'yes')"
      ],
      "metadata": {
        "id": "k-g7X5dC4uky"
      },
      "execution_count": 93,
      "outputs": []
    },
    {
      "cell_type": "code",
      "source": [
        "to_healthcare.show()"
      ],
      "metadata": {
        "id": "8HRhI6e_ZdQE",
        "outputId": "317759fd-b5bd-47d4-a6ab-1d5e0c4eb1e4",
        "colab": {
          "base_uri": "https://localhost:8080/"
        }
      },
      "execution_count": 94,
      "outputs": [
        {
          "output_type": "stream",
          "name": "stdout",
          "text": [
            "+----------+----+-----+--------------+---+------+-------------------+-------------------+-------------------------+-------------------------------+----------------------+------------------------+----------------------+---------------------------+---------------------------+----------------+---------------+--------------------+----------------+--------------------+------------------+------------+-----------------+-----------------------+---------+-------------+\n",
            "|state_code|year|month|housing_status|age|   sex|had_fever_last_week|had_cough_last_week|had_sore_throat_last_week|had_trouble_breathing_last_week|had_headache_last_week|had_runny_nose_last_week|had_lethargy_last_week|had_loss_of_smell_last_week|went_to_healthcare_facility|was_hospitalized|used_ventilator|has_health_insurance|worked_last_week|   main_job_activity|how_many_employees|income_range|has_worked_remote|coronavirus_related_aid|has_covid|covid_per_age|\n",
            "+----------+----+-----+--------------+---+------+-------------------+-------------------+-------------------------+-------------------------------+----------------------+------------------------+----------------------+---------------------------+---------------------------+----------------+---------------+--------------------+----------------+--------------------+------------------+------------+-----------------+-----------------------+---------+-------------+\n",
            "|        RO|2020|    9|         urban| 31|female|                yes|                 no|                      yes|                             no|                    no|                      no|                    no|                         no|                        yes|              no|           NULL|                  no|              no|                NULL|              NULL|        NULL|             NULL|                    yes|     true|        adult|\n",
            "|        RO|2020|    9|         urban| 87|female|                 no|                yes|                       no|                            yes|                    no|                     yes|                   yes|                         no|                        yes|            NULL|           NULL|                 yes|              no|                NULL|              NULL|        NULL|             NULL|                     no|     true|      elderly|\n",
            "|        RO|2020|    9|         urban| 38|  male|                 no|                yes|                      yes|                            yes|                   yes|                     yes|                   yes|                         no|                        yes|              no|           NULL|                  no|             yes|               other|              NULL|   801-1,600|             NULL|                     no|     true|        adult|\n",
            "|        RO|2020|    9|         urban| 62|female|                yes|                yes|                      yes|                            yes|                   yes|                     yes|                   yes|                        yes|                        yes|              no|           NULL|                 yes|              no|public_administra...|              NULL|3,001-10,000|             NULL|                    yes|     true|      elderly|\n",
            "|        RO|2020|    9|         urban| 36|female|                yes|                yes|                      yes|                            yes|                   yes|                     yes|                   yes|                        yes|                        yes|              no|           NULL|                 yes|             yes|                NULL|              NULL|3,001-10,000|             NULL|                    yes|     true|        adult|\n",
            "|        RO|2020|    9|         urban| 24|  male|                yes|                 no|                       no|                            yes|                    no|                      no|                    no|                         no|                        yes|            NULL|           NULL|                  no|             yes|wholesale_and_ret...|              NULL|   801-1,600|             NULL|                     no|     true|        adult|\n",
            "|        RO|2020|    9|         urban| 40|female|                 no|                 no|                       no|                             no|                    no|                      no|                    no|                        yes|                        yes|            NULL|           NULL|                  no|             yes|paid_domestic_ser...|              NULL|   801-1,600|             NULL|                     no|     true|        adult|\n",
            "|        RO|2020|    9|         urban| 36|female|                 no|                 no|                       no|                            yes|                   yes|                      no|                    no|                         no|                        yes|            NULL|           NULL|                 yes|             yes|human_health_and_...|              NULL|3,001-10,000|             NULL|                     no|     true|        adult|\n",
            "|        RO|2020|    9|         urban| 32|  male|                yes|                 no|                       no|                             no|                    no|                      no|                    no|                    ignored|                        yes|              no|           NULL|                 yes|             yes|public_administra...|              NULL| 1,601-3,000|             NULL|                    yes|     true|        adult|\n",
            "|        RO|2020|    9|         urban| 50|female|                 no|                 no|                      yes|                             no|                   yes|                      no|                    no|                    ignored|                        yes|            NULL|           NULL|                 yes|             yes|           education|              NULL|   801-1,600|              yes|                     no|     true|        adult|\n",
            "|        RO|2020|    9|         urban| 19|  male|                yes|                yes|                      yes|                             no|                    no|                      no|                    no|                        yes|                        yes|              no|           NULL|                  no|             yes|repair_of_motor_v...|              NULL|   801-1,600|             NULL|                    yes|     true|        young|\n",
            "|        RO|2020|    9|         urban| 44|female|                yes|                yes|                      yes|                            yes|                   yes|                     yes|                   yes|                        yes|                        yes|              no|           NULL|                 yes|             yes|wholesale_and_ret...|              NULL|   801-1,600|               no|                    yes|     true|        adult|\n",
            "|        RO|2020|    9|         urban| 24|  male|                yes|                yes|                      yes|                            yes|                   yes|                     yes|                    no|                         no|                        yes|            NULL|           NULL|                  no|             yes|wholesale_and_ret...|              NULL|   801-1,600|             NULL|                    yes|     true|        adult|\n",
            "|        RO|2020|    9|         urban|  0|  male|                yes|                yes|                      yes|                            yes|                   yes|                     yes|                   yes|                         no|                        yes|              no|           NULL|                  no|            NULL|                NULL|              NULL|        NULL|             NULL|                    yes|     true|        young|\n",
            "|        RO|2020|    9|         urban| 59|  male|                 no|                yes|                      yes|                             no|                    no|                      no|                    no|                         no|                        yes|            NULL|           NULL|                  no|              no|                NULL|              NULL|        NULL|             NULL|                    yes|     true|        adult|\n",
            "|        RO|2020|    9|         urban| 56|female|                 no|                yes|                       no|                             no|                    no|                      no|                    no|                         no|                        yes|            NULL|           NULL|                  no|              no|                NULL|              NULL|        NULL|             NULL|                    yes|     true|        adult|\n",
            "|        RO|2020|    9|         urban| 22|  male|                yes|                yes|                       no|                            yes|                   yes|                      no|                    no|                        yes|                        yes|             yes|             no|                  no|              no|                NULL|              NULL|        NULL|             NULL|                    yes|     true|        adult|\n",
            "|        RO|2020|    9|         urban| 24|  male|                yes|                 no|                       no|                             no|                    no|                      no|                    no|                         no|                        yes|            NULL|           NULL|                  no|             yes|hairdressing_beau...|              NULL| 1,601-3,000|             NULL|                    yes|     true|        adult|\n",
            "|        RO|2020|    9|         rural| 18|  male|                yes|                yes|                       no|                             no|                    no|                      no|                    no|                    ignored|                        yes|            NULL|           NULL|                  no|              no|                NULL|              NULL|        NULL|             NULL|                    yes|     true|        young|\n",
            "|        RO|2020|    9|         urban| 90|  male|                 no|                yes|                       no|                             no|                    no|                      no|                    no|                         no|                        yes|            NULL|           NULL|                 yes|              no|                NULL|              NULL|        NULL|             NULL|                     no|     true|      elderly|\n",
            "+----------+----+-----+--------------+---+------+-------------------+-------------------+-------------------------+-------------------------------+----------------------+------------------------+----------------------+---------------------------+---------------------------+----------------+---------------+--------------------+----------------+--------------------+------------------+------------+-----------------+-----------------------+---------+-------------+\n",
            "only showing top 20 rows\n",
            "\n"
          ]
        }
      ]
    },
    {
      "cell_type": "code",
      "source": [
        "private_health = to_healthcare.filter(to_healthcare['has_health_insurance'] == 'yes')"
      ],
      "metadata": {
        "id": "VkmEeDqZZ_d5"
      },
      "execution_count": 95,
      "outputs": []
    },
    {
      "cell_type": "code",
      "source": [
        "public_health = to_healthcare.filter(to_healthcare['has_health_insurance'] == 'no')"
      ],
      "metadata": {
        "id": "k5eODu2sZklT"
      },
      "execution_count": 96,
      "outputs": []
    },
    {
      "cell_type": "markdown",
      "source": [
        "Teve sintoma -> foi no médico -> SUS ou privado"
      ],
      "metadata": {
        "id": "SKEvmjUXaU15"
      }
    },
    {
      "cell_type": "code",
      "source": [
        "private_health.count()\n"
      ],
      "metadata": {
        "id": "4wOO_XIOaM9g",
        "outputId": "60f12171-bdf8-4217-f494-aa479300931a",
        "colab": {
          "base_uri": "https://localhost:8080/"
        }
      },
      "execution_count": 97,
      "outputs": [
        {
          "output_type": "execute_result",
          "data": {
            "text/plain": [
              "3132"
            ]
          },
          "metadata": {},
          "execution_count": 97
        }
      ]
    },
    {
      "cell_type": "code",
      "source": [
        "public_health.count()"
      ],
      "metadata": {
        "id": "KYTjBWCdaqVr",
        "outputId": "f2655ae3-f67e-42bb-f9c8-25816ff5eeec",
        "colab": {
          "base_uri": "https://localhost:8080/"
        }
      },
      "execution_count": 98,
      "outputs": [
        {
          "output_type": "execute_result",
          "data": {
            "text/plain": [
              "7660"
            ]
          },
          "metadata": {},
          "execution_count": 98
        }
      ]
    },
    {
      "cell_type": "markdown",
      "source": [
        "3.2.3.2 | Teve sintoma -> foi no médico -> rentabilidade?\n"
      ],
      "metadata": {
        "id": "_d6pPed_bLKR"
      }
    },
    {
      "cell_type": "code",
      "source": [
        "to_healthcare.orderBy('income_range').show()"
      ],
      "metadata": {
        "id": "fW-JlnFeatGN",
        "outputId": "5c50facc-2607-44ba-9eb3-5b4ebc840c9a",
        "colab": {
          "base_uri": "https://localhost:8080/"
        }
      },
      "execution_count": 99,
      "outputs": [
        {
          "output_type": "stream",
          "name": "stdout",
          "text": [
            "+----------+----+-----+--------------+---+------+-------------------+-------------------+-------------------------+-------------------------------+----------------------+------------------------+----------------------+---------------------------+---------------------------+----------------+---------------+--------------------+----------------+--------------------+------------------+------------+-----------------+-----------------------+---------+-------------+\n",
            "|state_code|year|month|housing_status|age|   sex|had_fever_last_week|had_cough_last_week|had_sore_throat_last_week|had_trouble_breathing_last_week|had_headache_last_week|had_runny_nose_last_week|had_lethargy_last_week|had_loss_of_smell_last_week|went_to_healthcare_facility|was_hospitalized|used_ventilator|has_health_insurance|worked_last_week|   main_job_activity|how_many_employees|income_range|has_worked_remote|coronavirus_related_aid|has_covid|covid_per_age|\n",
            "+----------+----+-----+--------------+---+------+-------------------+-------------------+-------------------------+-------------------------------+----------------------+------------------------+----------------------+---------------------------+---------------------------+----------------+---------------+--------------------+----------------+--------------------+------------------+------------+-----------------+-----------------------+---------+-------------+\n",
            "|        CE|2020|   10|         urban|  5|female|                 no|                yes|                      yes|                             no|                    no|                     yes|                    no|                        yes|                        yes|              no|           NULL|                  no|            NULL|                NULL|              NULL|        NULL|             NULL|                    yes|     true|        young|\n",
            "|        MG|2020|   11|         rural|  1|female|                yes|                 no|                       no|                             no|                    no|                      no|                    no|                         no|                        yes|              no|           NULL|                 yes|            NULL|                NULL|              NULL|        NULL|             NULL|                     no|     true|        young|\n",
            "|        RO|2020|    9|         urban| 69|female|                yes|                 no|                       no|                             no|                    no|                      no|                    no|                        yes|                        yes|             yes|             no|                  no|              no|                NULL|              NULL|        NULL|             NULL|                     no|     true|      elderly|\n",
            "|        MG|2020|   11|         urban| 58|  male|                 no|                yes|                      yes|                             no|                    no|                      no|                    no|                         no|                        yes|            NULL|           NULL|                  no|              no|                NULL|              NULL|        NULL|             NULL|                    yes|     true|        adult|\n",
            "|        RN|2020|   10|         urban| 23|  male|                yes|                yes|                      yes|                             no|                   yes|                     yes|                   yes|                         no|                        yes|            NULL|           NULL|                 yes|              no|                NULL|              NULL|        NULL|             NULL|                     no|     true|        adult|\n",
            "|        MG|2020|   11|         urban| 87|female|                yes|                 no|                       no|                             no|                    no|                      no|                    no|                         no|                        yes|              no|           NULL|                 yes|              no|wholesale_and_ret...|              NULL|        NULL|             NULL|                     no|     true|      elderly|\n",
            "|        AC|2020|    9|         urban| 15|  male|                 no|                 no|                       no|                             no|                    no|                     yes|                    no|                         no|                        yes|              no|           NULL|                  no|              no|                NULL|              NULL|        NULL|             NULL|                    yes|     true|        young|\n",
            "|        MG|2020|   11|         urban| 74|female|                yes|                 no|                       no|                             no|                    no|                     yes|                   yes|                    ignored|                        yes|            NULL|           NULL|                  no|              no|                NULL|              NULL|        NULL|             NULL|                    yes|     true|      elderly|\n",
            "|        CE|2020|   10|         rural| 42|female|                yes|                 no|                       no|                             no|                    no|                     yes|                    no|                        yes|                        yes|            NULL|           NULL|                  no|              no|                NULL|              NULL|        NULL|             NULL|                    yes|     true|        adult|\n",
            "|        MG|2020|   11|         urban|  0|  male|                 no|                yes|                       no|                             no|                    no|                     yes|                    no|                         no|                        yes|            NULL|           NULL|                  no|            NULL|                NULL|              NULL|        NULL|             NULL|                     no|     true|        young|\n",
            "|        RO|2020|    9|         urban| 23|female|                yes|                yes|                      yes|                             no|                   yes|                     yes|                    no|                        yes|                        yes|            NULL|           NULL|                  no|              no|                NULL|              NULL|        NULL|             NULL|                    yes|     true|        adult|\n",
            "|        MG|2020|   11|         urban| 52|female|                 no|                yes|                       no|                             no|                    no|                     yes|                    no|                         no|                        yes|            NULL|           NULL|                  no|              no|                NULL|              NULL|        NULL|             NULL|                    yes|     true|        adult|\n",
            "|        CE|2020|   10|         urban| 10|female|                 no|                 no|                       no|                             no|                   yes|                     yes|                    no|                        yes|                        yes|            NULL|           NULL|                  no|            NULL|                NULL|              NULL|        NULL|             NULL|                    yes|     true|        young|\n",
            "|        MG|2020|   11|         urban| 81|  male|                 no|                yes|                       no|                             no|                    no|                      no|                    no|                         no|                        yes|            NULL|           NULL|                  no|              no|                NULL|              NULL|        NULL|             NULL|                    yes|     true|      elderly|\n",
            "|        RO|2020|    9|         urban| 87|female|                 no|                yes|                       no|                            yes|                    no|                     yes|                   yes|                         no|                        yes|            NULL|           NULL|                 yes|              no|                NULL|              NULL|        NULL|             NULL|                     no|     true|      elderly|\n",
            "|        MG|2020|   11|         urban| 17|  male|                 no|                yes|                       no|                             no|                    no|                      no|                    no|                         no|                        yes|            NULL|           NULL|                  no|              no|                NULL|              NULL|        NULL|             NULL|                    yes|     true|        young|\n",
            "|        CE|2020|   10|         rural| 72|female|                yes|                 no|                       no|                             no|                    no|                      no|                   yes|                         no|                        yes|             yes|            yes|                  no|              no|                NULL|              NULL|        NULL|             NULL|                     no|     true|      elderly|\n",
            "|        MG|2020|   11|         urban| 57|female|                 no|                 no|                       no|                            yes|                    no|                     yes|                    no|                        yes|                        yes|              no|           NULL|                 yes|              no|                NULL|              NULL|        NULL|             NULL|                     no|     true|        adult|\n",
            "|        RO|2020|    9|         urban| 44|female|                 no|                 no|                      yes|                             no|                    no|                      no|                    no|                         no|                        yes|              no|           NULL|                  no|              no|                NULL|              NULL|        NULL|             NULL|                    yes|     true|        adult|\n",
            "|        MG|2020|   11|         urban| 11|  male|                 no|                 no|                      yes|                             no|                    no|                      no|                    no|                         no|                        yes|            NULL|           NULL|                  no|            NULL|                NULL|              NULL|        NULL|             NULL|                    yes|     true|        young|\n",
            "+----------+----+-----+--------------+---+------+-------------------+-------------------+-------------------------+-------------------------------+----------------------+------------------------+----------------------+---------------------------+---------------------------+----------------+---------------+--------------------+----------------+--------------------+------------------+------------+-----------------+-----------------------+---------+-------------+\n",
            "only showing top 20 rows\n",
            "\n"
          ]
        }
      ]
    },
    {
      "cell_type": "code",
      "source": [
        "to_healthcare.groupBy('income_range').count().show()"
      ],
      "metadata": {
        "id": "9tDe8aGrbMWS",
        "outputId": "6f6af6d3-1b52-4c48-d894-3b12106fffc9",
        "colab": {
          "base_uri": "https://localhost:8080/"
        }
      },
      "execution_count": 100,
      "outputs": [
        {
          "output_type": "stream",
          "name": "stdout",
          "text": [
            "+--------------+-----+\n",
            "|  income_range|count|\n",
            "+--------------+-----+\n",
            "|          NULL| 5951|\n",
            "|       601-800|  153|\n",
            "|     801-1,600| 2142|\n",
            "|50,001-100,000|    1|\n",
            "|not_applicable|   29|\n",
            "|       301-600|  281|\n",
            "| 10,001-50,000|  130|\n",
            "|       101-300|  129|\n",
            "|   1,601-3,000| 1260|\n",
            "|  3,001-10,000|  720|\n",
            "+--------------+-----+\n",
            "\n"
          ]
        }
      ]
    },
    {
      "cell_type": "markdown",
      "source": [
        "3.2.3.3 | Teve sintoma -> foi no médico -> ficou internado?\n"
      ],
      "metadata": {
        "id": "yjE74p9db9YZ"
      }
    },
    {
      "cell_type": "code",
      "source": [
        "to_healthcare.groupBy('was_hospitalized').count().show()"
      ],
      "metadata": {
        "id": "QiPiqlcKcGV-",
        "outputId": "40ca0ac9-02d3-4c7c-8a27-1c62389db656",
        "colab": {
          "base_uri": "https://localhost:8080/"
        }
      },
      "execution_count": 102,
      "outputs": [
        {
          "output_type": "stream",
          "name": "stdout",
          "text": [
            "+----------------+-----+\n",
            "|was_hospitalized|count|\n",
            "+----------------+-----+\n",
            "|            NULL| 5456|\n",
            "|       dont_know|   56|\n",
            "|              no| 4776|\n",
            "|             yes|  505|\n",
            "|         ignored|    3|\n",
            "+----------------+-----+\n",
            "\n"
          ]
        }
      ]
    },
    {
      "cell_type": "markdown",
      "source": [
        "3.2.4 | Teve sintoma -> ficou em casa? 3.2.4.1 | Teve sintoma -> ficou em casa ou fez office?\n",
        "\n"
      ],
      "metadata": {
        "id": "QiSOI8PGcTSr"
      }
    },
    {
      "cell_type": "code",
      "source": [
        "df.groupBy('has_worked_remote').count().show()"
      ],
      "metadata": {
        "id": "-8B6UuRbc7RR",
        "outputId": "87aad1fe-4331-40d8-e21b-3000aad0098e",
        "colab": {
          "base_uri": "https://localhost:8080/"
        }
      },
      "execution_count": 103,
      "outputs": [
        {
          "output_type": "stream",
          "name": "stdout",
          "text": [
            "+-----------------+-------+\n",
            "|has_worked_remote|  count|\n",
            "+-----------------+-------+\n",
            "|             NULL|1100419|\n",
            "|               no|  14757|\n",
            "|              yes|  34021|\n",
            "+-----------------+-------+\n",
            "\n"
          ]
        }
      ]
    },
    {
      "cell_type": "code",
      "source": [
        "to_healthcare.groupBy('has_worked_remote').count().show()"
      ],
      "metadata": {
        "id": "IG4r0gxWcPz3",
        "outputId": "9886bae3-ad29-4f8a-ecdf-fd8b96712ee0",
        "colab": {
          "base_uri": "https://localhost:8080/"
        }
      },
      "execution_count": 104,
      "outputs": [
        {
          "output_type": "stream",
          "name": "stdout",
          "text": [
            "+-----------------+-----+\n",
            "|has_worked_remote|count|\n",
            "+-----------------+-----+\n",
            "|             NULL|10266|\n",
            "|               no|  127|\n",
            "|              yes|  403|\n",
            "+-----------------+-----+\n",
            "\n"
          ]
        }
      ]
    },
    {
      "cell_type": "markdown",
      "source": [
        "Teve auxílio?\n",
        "\n"
      ],
      "metadata": {
        "id": "tsSc41a4dnW3"
      }
    },
    {
      "cell_type": "code",
      "source": [
        "df.groupBy('coronavirus_related_aid').count().show()"
      ],
      "metadata": {
        "id": "Qckx7tvFdeVD",
        "outputId": "3007b55c-09ba-42e9-ab7d-5ff67d1ff228",
        "colab": {
          "base_uri": "https://localhost:8080/"
        }
      },
      "execution_count": 105,
      "outputs": [
        {
          "output_type": "stream",
          "name": "stdout",
          "text": [
            "+-----------------------+------+\n",
            "|coronavirus_related_aid| count|\n",
            "+-----------------------+------+\n",
            "|                     no|574880|\n",
            "|                    yes|574317|\n",
            "+-----------------------+------+\n",
            "\n"
          ]
        }
      ]
    },
    {
      "cell_type": "markdown",
      "source": [
        "3.2.5 | Teve sintoma -> qual a atividade de trabalho da pessoa?\n"
      ],
      "metadata": {
        "id": "T0rdfgI1d3hL"
      }
    },
    {
      "cell_type": "code",
      "source": [
        "to_healthcare.groupBy('main_job_activity').count().show()"
      ],
      "metadata": {
        "id": "Ts7OTRUmd46x",
        "outputId": "ef6ca87a-85db-4465-f663-7c768e95973f",
        "colab": {
          "base_uri": "https://localhost:8080/"
        }
      },
      "execution_count": 106,
      "outputs": [
        {
          "output_type": "stream",
          "name": "stdout",
          "text": [
            "+--------------------+-----+\n",
            "|   main_job_activity|count|\n",
            "+--------------------+-----+\n",
            "|real_estate_activ...|   27|\n",
            "|banks_financial_a...|   84|\n",
            "|repair_of_motor_v...|   71|\n",
            "|law_firms_enginee...|  168|\n",
            "|           education|  408|\n",
            "|food_service_bars...|  226|\n",
            "|                NULL| 5934|\n",
            "|accommodation_hot...|   23|\n",
            "|supply_of_electri...|   47|\n",
            "|human_health_and_...|  546|\n",
            "|               other|  293|\n",
            "|artistic_sports_a...|   42|\n",
            "|information_and_c...|   98|\n",
            "| passenger_transport|   75|\n",
            "|extraction_of_pet...|   22|\n",
            "|religious_organiz...|   26|\n",
            "|paid_domestic_ser...|  305|\n",
            "|wholesale_and_ret...|  686|\n",
            "|        construction|  221|\n",
            "|agriculture_lives...|  323|\n",
            "+--------------------+-----+\n",
            "only showing top 20 rows\n",
            "\n"
          ]
        }
      ]
    },
    {
      "cell_type": "markdown",
      "source": [
        "## Graficos"
      ],
      "metadata": {
        "id": "wb52Bj5aLAA1"
      }
    },
    {
      "cell_type": "code",
      "source": [
        "import matplotlib.pyplot as plt"
      ],
      "metadata": {
        "id": "C-mRVLgePlaE"
      },
      "execution_count": 143,
      "outputs": []
    },
    {
      "cell_type": "code",
      "source": [
        "from pyspark.sql.functions import col, sum as spark_sum, when"
      ],
      "metadata": {
        "id": "7PKtZFQMNYn_"
      },
      "execution_count": 127,
      "outputs": []
    },
    {
      "cell_type": "code",
      "source": [
        "symptoms = [\n",
        "    'had_fever_last_week', 'had_cough_last_week',\n",
        "    'had_sore_throat_last_week', 'had_headache_last_week', 'had_runny_nose_last_week',\n",
        "    'had_lethargy_last_week', 'had_loss_of_smell_last_week']"
      ],
      "metadata": {
        "id": "QbijAd9BNlQV"
      },
      "execution_count": 135,
      "outputs": []
    },
    {
      "cell_type": "code",
      "source": [
        "yes_count_columns = [spark_sum(when(col(c) == 'yes', 1).otherwise(0)).alias(c) for c in symptoms]"
      ],
      "metadata": {
        "id": "z0Naq9WRLGWb"
      },
      "execution_count": 137,
      "outputs": []
    },
    {
      "cell_type": "code",
      "source": [
        "yes_counts = df.select(yes_count_columns)"
      ],
      "metadata": {
        "id": "ZdOyJJH3LGSR"
      },
      "execution_count": 138,
      "outputs": []
    },
    {
      "cell_type": "code",
      "source": [
        "yes_counts.show()"
      ],
      "metadata": {
        "id": "dkuNBKmDLGPK",
        "outputId": "b8eae1d2-1990-40ed-9509-6bb3c1446070",
        "colab": {
          "base_uri": "https://localhost:8080/"
        }
      },
      "execution_count": 139,
      "outputs": [
        {
          "output_type": "stream",
          "name": "stdout",
          "text": [
            "+-------------------+-------------------+-------------------------+----------------------+------------------------+----------------------+---------------------------+\n",
            "|had_fever_last_week|had_cough_last_week|had_sore_throat_last_week|had_headache_last_week|had_runny_nose_last_week|had_lethargy_last_week|had_loss_of_smell_last_week|\n",
            "+-------------------+-------------------+-------------------------+----------------------+------------------------+----------------------+---------------------------+\n",
            "|               9020|              15373|                    12557|                 18960|                   16140|                  8208|                       4413|\n",
            "+-------------------+-------------------+-------------------------+----------------------+------------------------+----------------------+---------------------------+\n",
            "\n"
          ]
        }
      ]
    },
    {
      "cell_type": "code",
      "source": [
        "yes_counts_pd = yes_counts.toPandas()"
      ],
      "metadata": {
        "id": "Zw6p8_OdPtI4"
      },
      "execution_count": 147,
      "outputs": []
    },
    {
      "cell_type": "code",
      "source": [
        "yes_counts_pd.head()"
      ],
      "metadata": {
        "id": "250WxcFkQqyy",
        "outputId": "a0855499-abb5-4122-99d8-b6173c853bd8",
        "colab": {
          "base_uri": "https://localhost:8080/",
          "height": 100
        }
      },
      "execution_count": 151,
      "outputs": [
        {
          "output_type": "execute_result",
          "data": {
            "text/plain": [
              "   had_fever_last_week  had_cough_last_week  had_sore_throat_last_week  \\\n",
              "0                 9020                15373                      12557   \n",
              "\n",
              "   had_headache_last_week  had_runny_nose_last_week  had_lethargy_last_week  \\\n",
              "0                   18960                     16140                    8208   \n",
              "\n",
              "   had_loss_of_smell_last_week  \n",
              "0                         4413  "
            ],
            "text/html": [
              "\n",
              "  <div id=\"df-6efb8c4f-ec5e-4a31-b9fc-23eae95b6ecf\" class=\"colab-df-container\">\n",
              "    <div>\n",
              "<style scoped>\n",
              "    .dataframe tbody tr th:only-of-type {\n",
              "        vertical-align: middle;\n",
              "    }\n",
              "\n",
              "    .dataframe tbody tr th {\n",
              "        vertical-align: top;\n",
              "    }\n",
              "\n",
              "    .dataframe thead th {\n",
              "        text-align: right;\n",
              "    }\n",
              "</style>\n",
              "<table border=\"1\" class=\"dataframe\">\n",
              "  <thead>\n",
              "    <tr style=\"text-align: right;\">\n",
              "      <th></th>\n",
              "      <th>had_fever_last_week</th>\n",
              "      <th>had_cough_last_week</th>\n",
              "      <th>had_sore_throat_last_week</th>\n",
              "      <th>had_headache_last_week</th>\n",
              "      <th>had_runny_nose_last_week</th>\n",
              "      <th>had_lethargy_last_week</th>\n",
              "      <th>had_loss_of_smell_last_week</th>\n",
              "    </tr>\n",
              "  </thead>\n",
              "  <tbody>\n",
              "    <tr>\n",
              "      <th>0</th>\n",
              "      <td>9020</td>\n",
              "      <td>15373</td>\n",
              "      <td>12557</td>\n",
              "      <td>18960</td>\n",
              "      <td>16140</td>\n",
              "      <td>8208</td>\n",
              "      <td>4413</td>\n",
              "    </tr>\n",
              "  </tbody>\n",
              "</table>\n",
              "</div>\n",
              "    <div class=\"colab-df-buttons\">\n",
              "\n",
              "  <div class=\"colab-df-container\">\n",
              "    <button class=\"colab-df-convert\" onclick=\"convertToInteractive('df-6efb8c4f-ec5e-4a31-b9fc-23eae95b6ecf')\"\n",
              "            title=\"Convert this dataframe to an interactive table.\"\n",
              "            style=\"display:none;\">\n",
              "\n",
              "  <svg xmlns=\"http://www.w3.org/2000/svg\" height=\"24px\" viewBox=\"0 -960 960 960\">\n",
              "    <path d=\"M120-120v-720h720v720H120Zm60-500h600v-160H180v160Zm220 220h160v-160H400v160Zm0 220h160v-160H400v160ZM180-400h160v-160H180v160Zm440 0h160v-160H620v160ZM180-180h160v-160H180v160Zm440 0h160v-160H620v160Z\"/>\n",
              "  </svg>\n",
              "    </button>\n",
              "\n",
              "  <style>\n",
              "    .colab-df-container {\n",
              "      display:flex;\n",
              "      gap: 12px;\n",
              "    }\n",
              "\n",
              "    .colab-df-convert {\n",
              "      background-color: #E8F0FE;\n",
              "      border: none;\n",
              "      border-radius: 50%;\n",
              "      cursor: pointer;\n",
              "      display: none;\n",
              "      fill: #1967D2;\n",
              "      height: 32px;\n",
              "      padding: 0 0 0 0;\n",
              "      width: 32px;\n",
              "    }\n",
              "\n",
              "    .colab-df-convert:hover {\n",
              "      background-color: #E2EBFA;\n",
              "      box-shadow: 0px 1px 2px rgba(60, 64, 67, 0.3), 0px 1px 3px 1px rgba(60, 64, 67, 0.15);\n",
              "      fill: #174EA6;\n",
              "    }\n",
              "\n",
              "    .colab-df-buttons div {\n",
              "      margin-bottom: 4px;\n",
              "    }\n",
              "\n",
              "    [theme=dark] .colab-df-convert {\n",
              "      background-color: #3B4455;\n",
              "      fill: #D2E3FC;\n",
              "    }\n",
              "\n",
              "    [theme=dark] .colab-df-convert:hover {\n",
              "      background-color: #434B5C;\n",
              "      box-shadow: 0px 1px 3px 1px rgba(0, 0, 0, 0.15);\n",
              "      filter: drop-shadow(0px 1px 2px rgba(0, 0, 0, 0.3));\n",
              "      fill: #FFFFFF;\n",
              "    }\n",
              "  </style>\n",
              "\n",
              "    <script>\n",
              "      const buttonEl =\n",
              "        document.querySelector('#df-6efb8c4f-ec5e-4a31-b9fc-23eae95b6ecf button.colab-df-convert');\n",
              "      buttonEl.style.display =\n",
              "        google.colab.kernel.accessAllowed ? 'block' : 'none';\n",
              "\n",
              "      async function convertToInteractive(key) {\n",
              "        const element = document.querySelector('#df-6efb8c4f-ec5e-4a31-b9fc-23eae95b6ecf');\n",
              "        const dataTable =\n",
              "          await google.colab.kernel.invokeFunction('convertToInteractive',\n",
              "                                                    [key], {});\n",
              "        if (!dataTable) return;\n",
              "\n",
              "        const docLinkHtml = 'Like what you see? Visit the ' +\n",
              "          '<a target=\"_blank\" href=https://colab.research.google.com/notebooks/data_table.ipynb>data table notebook</a>'\n",
              "          + ' to learn more about interactive tables.';\n",
              "        element.innerHTML = '';\n",
              "        dataTable['output_type'] = 'display_data';\n",
              "        await google.colab.output.renderOutput(dataTable, element);\n",
              "        const docLink = document.createElement('div');\n",
              "        docLink.innerHTML = docLinkHtml;\n",
              "        element.appendChild(docLink);\n",
              "      }\n",
              "    </script>\n",
              "  </div>\n",
              "\n",
              "    </div>\n",
              "  </div>\n"
            ]
          },
          "metadata": {},
          "execution_count": 151
        }
      ]
    },
    {
      "cell_type": "code",
      "source": [
        "yes_counts_pd.info()"
      ],
      "metadata": {
        "id": "pIx5oDLARUSV",
        "outputId": "bc6df1be-800a-41f8-bf7a-fb5abbb172a6",
        "colab": {
          "base_uri": "https://localhost:8080/"
        }
      },
      "execution_count": 157,
      "outputs": [
        {
          "output_type": "stream",
          "name": "stdout",
          "text": [
            "<class 'pandas.core.frame.DataFrame'>\n",
            "RangeIndex: 1 entries, 0 to 0\n",
            "Data columns (total 7 columns):\n",
            " #   Column                       Non-Null Count  Dtype\n",
            "---  ------                       --------------  -----\n",
            " 0   had_fever_last_week          1 non-null      int64\n",
            " 1   had_cough_last_week          1 non-null      int64\n",
            " 2   had_sore_throat_last_week    1 non-null      int64\n",
            " 3   had_headache_last_week       1 non-null      int64\n",
            " 4   had_runny_nose_last_week     1 non-null      int64\n",
            " 5   had_lethargy_last_week       1 non-null      int64\n",
            " 6   had_loss_of_smell_last_week  1 non-null      int64\n",
            "dtypes: int64(7)\n",
            "memory usage: 184.0 bytes\n"
          ]
        }
      ]
    },
    {
      "cell_type": "code",
      "source": [
        "labels = yes_counts_pd.columns.tolist()\n",
        "sizes = yes_counts_pd.iloc[0].tolist()"
      ],
      "metadata": {
        "id": "NIXNHoARRvRS"
      },
      "execution_count": 158,
      "outputs": []
    },
    {
      "cell_type": "code",
      "source": [
        "fig, ax = plt.subplots(figsize=(10, 6), dpi=100)\n",
        "wedges, texts, autotexts = ax.pie(sizes, labels=labels, autopct='%1.1f%%',\n",
        "                                  startangle=90, colors=colors,\n",
        "                                  textprops=dict(color=\"w\"))\n",
        "plt.gca().add_artist(plt.Circle((0,0),0.35,fc='white'))\n",
        "colors = plt.cm.Paired(range(len(labels)))\n",
        "plt.setp(autotexts, size=8, weight=\"bold\")\n",
        "plt.title('Distribuição de Sintomas do COVID-19 entre os Entrevistados', pad=20)\n",
        "legend_labels = ['Febre: {0}'.format(sizes[0]),\n",
        "                 'Tosse: {0}'.format(sizes[1]),\n",
        "                 'Dor de Garganta: {0}'.format(sizes[2]),\n",
        "                 'Dor de Cabeça: {0}'.format(sizes[3]),\n",
        "                 'Nariz Escorrendo/Entupido: {0}'.format(sizes[4]),\n",
        "                 'Fadiga: {0}'.format(sizes[5]),\n",
        "                 'Perda de Oufato/Paladar: {0}'.format(sizes[6])]\n",
        "\n",
        "ax.legend(wedges, legend_labels, title=\"Symptoms\", loc=\"center left\", bbox_to_anchor=(1, 0, 0.5, 1))"
      ],
      "metadata": {
        "id": "EEmhhB6PRw-B",
        "outputId": "087527c7-3ac6-4c6c-c2c8-350db3e3d5b5",
        "colab": {
          "base_uri": "https://localhost:8080/",
          "height": 557
        }
      },
      "execution_count": 261,
      "outputs": [
        {
          "output_type": "execute_result",
          "data": {
            "text/plain": [
              "<matplotlib.legend.Legend at 0x7e52940aa3e0>"
            ]
          },
          "metadata": {},
          "execution_count": 261
        },
        {
          "output_type": "display_data",
          "data": {
            "text/plain": [
              "<Figure size 1000x600 with 1 Axes>"
            ],
            "image/png": "[encoded data removed]"
          },
          "metadata": {}
        }
      ]
    },
    {
      "cell_type": "code",
      "source": [
        "covid_per_age.show()"
      ],
      "metadata": {
        "id": "Kb4gpM7dYaNE",
        "outputId": "15d7c040-21e4-4457-c8de-bb32eba7b513",
        "colab": {
          "base_uri": "https://localhost:8080/"
        }
      },
      "execution_count": 204,
      "outputs": [
        {
          "output_type": "stream",
          "name": "stdout",
          "text": [
            "+-------------+-----+\n",
            "|covid_per_age|count|\n",
            "+-------------+-----+\n",
            "|      elderly| 7467|\n",
            "|        adult|24738|\n",
            "|        young| 8306|\n",
            "+-------------+-----+\n",
            "\n"
          ]
        }
      ]
    },
    {
      "cell_type": "code",
      "source": [
        "covid_per_age_pd = covid_per_age.toPandas()"
      ],
      "metadata": {
        "id": "YKwe3WzVYx1U"
      },
      "execution_count": 209,
      "outputs": []
    },
    {
      "cell_type": "code",
      "source": [
        "plt.figure(figsize=(6, 6))\n",
        "age_labels = ['Adolescente', 'Adulto', 'Idoso']\n",
        "plt.bar(age_labels, covid_per_age_pd['count'], color='#7FFFE1')\n",
        "plt.xlabel('Grupo de Idade')\n",
        "plt.ylabel('Numero de Casos Possiveis de COVID')\n",
        "plt.title('Numero de Casos Possiveis de COVID por Grupo de Idade', )\n",
        "plt.xticks(rotation=45)\n",
        "plt.tight_layout()\n",
        "plt.show()"
      ],
      "metadata": {
        "id": "6IRRJiu4Sjg9",
        "outputId": "efcc05a3-24b4-4158-ac6b-65876a037269",
        "colab": {
          "base_uri": "https://localhost:8080/",
          "height": 607
        }
      },
      "execution_count": 238,
      "outputs": [
        {
          "output_type": "display_data",
          "data": {
            "text/plain": [
              "<Figure size 600x600 with 1 Axes>"
            ],
            "image/png": "[encoded data removed]"
          },
          "metadata": {}
        }
      ]
    },
    {
      "cell_type": "code",
      "source": [],
      "metadata": {
        "id": "BEWoZ-ADcnKC"
      },
      "execution_count": 239,
      "outputs": []
    },
    {
      "cell_type": "code",
      "source": [
        "covid_per_sex_pd = covid_per_sex.toPandas"
      ],
      "metadata": {
        "id": "qP0H1JSra8Fa"
      },
      "execution_count": 227,
      "outputs": []
    },
    {
      "cell_type": "code",
      "source": [
        "covid_per_sex_pd.head()"
      ],
      "metadata": {
        "id": "4tnbsBl6bG1G",
        "outputId": "61b04b69-1f49-4b35-9f25-212429ec8b17",
        "colab": {
          "base_uri": "https://localhost:8080/",
          "height": 112
        }
      },
      "execution_count": 228,
      "outputs": [
        {
          "output_type": "execute_result",
          "data": {
            "text/plain": [
              "      sex  count\n",
              "0  female  23520\n",
              "1    male  16991"
            ],
            "text/html": [
              "\n",
              "  <div id=\"df-c3d588c8-910f-4c1c-83b7-2aefec3368fb\" class=\"colab-df-container\">\n",
              "    <div>\n",
              "<style scoped>\n",
              "    .dataframe tbody tr th:only-of-type {\n",
              "        vertical-align: middle;\n",
              "    }\n",
              "\n",
              "    .dataframe tbody tr th {\n",
              "        vertical-align: top;\n",
              "    }\n",
              "\n",
              "    .dataframe thead th {\n",
              "        text-align: right;\n",
              "    }\n",
              "</style>\n",
              "<table border=\"1\" class=\"dataframe\">\n",
              "  <thead>\n",
              "    <tr style=\"text-align: right;\">\n",
              "      <th></th>\n",
              "      <th>sex</th>\n",
              "      <th>count</th>\n",
              "    </tr>\n",
              "  </thead>\n",
              "  <tbody>\n",
              "    <tr>\n",
              "      <th>0</th>\n",
              "      <td>female</td>\n",
              "      <td>23520</td>\n",
              "    </tr>\n",
              "    <tr>\n",
              "      <th>1</th>\n",
              "      <td>male</td>\n",
              "      <td>16991</td>\n",
              "    </tr>\n",
              "  </tbody>\n",
              "</table>\n",
              "</div>\n",
              "    <div class=\"colab-df-buttons\">\n",
              "\n",
              "  <div class=\"colab-df-container\">\n",
              "    <button class=\"colab-df-convert\" onclick=\"convertToInteractive('df-c3d588c8-910f-4c1c-83b7-2aefec3368fb')\"\n",
              "            title=\"Convert this dataframe to an interactive table.\"\n",
              "            style=\"display:none;\">\n",
              "\n",
              "  <svg xmlns=\"http://www.w3.org/2000/svg\" height=\"24px\" viewBox=\"0 -960 960 960\">\n",
              "    <path d=\"M120-120v-720h720v720H120Zm60-500h600v-160H180v160Zm220 220h160v-160H400v160Zm0 220h160v-160H400v160ZM180-400h160v-160H180v160Zm440 0h160v-160H620v160ZM180-180h160v-160H180v160Zm440 0h160v-160H620v160Z\"/>\n",
              "  </svg>\n",
              "    </button>\n",
              "\n",
              "  <style>\n",
              "    .colab-df-container {\n",
              "      display:flex;\n",
              "      gap: 12px;\n",
              "    }\n",
              "\n",
              "    .colab-df-convert {\n",
              "      background-color: #E8F0FE;\n",
              "      border: none;\n",
              "      border-radius: 50%;\n",
              "      cursor: pointer;\n",
              "      display: none;\n",
              "      fill: #1967D2;\n",
              "      height: 32px;\n",
              "      padding: 0 0 0 0;\n",
              "      width: 32px;\n",
              "    }\n",
              "\n",
              "    .colab-df-convert:hover {\n",
              "      background-color: #E2EBFA;\n",
              "      box-shadow: 0px 1px 2px rgba(60, 64, 67, 0.3), 0px 1px 3px 1px rgba(60, 64, 67, 0.15);\n",
              "      fill: #174EA6;\n",
              "    }\n",
              "\n",
              "    .colab-df-buttons div {\n",
              "      margin-bottom: 4px;\n",
              "    }\n",
              "\n",
              "    [theme=dark] .colab-df-convert {\n",
              "      background-color: #3B4455;\n",
              "      fill: #D2E3FC;\n",
              "    }\n",
              "\n",
              "    [theme=dark] .colab-df-convert:hover {\n",
              "      background-color: #434B5C;\n",
              "      box-shadow: 0px 1px 3px 1px rgba(0, 0, 0, 0.15);\n",
              "      filter: drop-shadow(0px 1px 2px rgba(0, 0, 0, 0.3));\n",
              "      fill: #FFFFFF;\n",
              "    }\n",
              "  </style>\n",
              "\n",
              "    <script>\n",
              "      const buttonEl =\n",
              "        document.querySelector('#df-c3d588c8-910f-4c1c-83b7-2aefec3368fb button.colab-df-convert');\n",
              "      buttonEl.style.display =\n",
              "        google.colab.kernel.accessAllowed ? 'block' : 'none';\n",
              "\n",
              "      async function convertToInteractive(key) {\n",
              "        const element = document.querySelector('#df-c3d588c8-910f-4c1c-83b7-2aefec3368fb');\n",
              "        const dataTable =\n",
              "          await google.colab.kernel.invokeFunction('convertToInteractive',\n",
              "                                                    [key], {});\n",
              "        if (!dataTable) return;\n",
              "\n",
              "        const docLinkHtml = 'Like what you see? Visit the ' +\n",
              "          '<a target=\"_blank\" href=https://colab.research.google.com/notebooks/data_table.ipynb>data table notebook</a>'\n",
              "          + ' to learn more about interactive tables.';\n",
              "        element.innerHTML = '';\n",
              "        dataTable['output_type'] = 'display_data';\n",
              "        await google.colab.output.renderOutput(dataTable, element);\n",
              "        const docLink = document.createElement('div');\n",
              "        docLink.innerHTML = docLinkHtml;\n",
              "        element.appendChild(docLink);\n",
              "      }\n",
              "    </script>\n",
              "  </div>\n",
              "\n",
              "\n",
              "<div id=\"df-6d8cda2f-6bb2-469d-9611-a596ff61fc91\">\n",
              "  <button class=\"colab-df-quickchart\" onclick=\"quickchart('df-6d8cda2f-6bb2-469d-9611-a596ff61fc91')\"\n",
              "            title=\"Suggest charts\"\n",
              "            style=\"display:none;\">\n",
              "\n",
              "<svg xmlns=\"http://www.w3.org/2000/svg\" height=\"24px\"viewBox=\"0 0 24 24\"\n",
              "     width=\"24px\">\n",
              "    <g>\n",
              "        <path d=\"M19 3H5c-1.1 0-2 .9-2 2v14c0 1.1.9 2 2 2h14c1.1 0 2-.9 2-2V5c0-1.1-.9-2-2-2zM9 17H7v-7h2v7zm4 0h-2V7h2v10zm4 0h-2v-4h2v4z\"/>\n",
              "    </g>\n",
              "</svg>\n",
              "  </button>\n",
              "\n",
              "<style>\n",
              "  .colab-df-quickchart {\n",
              "      --bg-color: #E8F0FE;\n",
              "      --fill-color: #1967D2;\n",
              "      --hover-bg-color: #E2EBFA;\n",
              "      --hover-fill-color: #174EA6;\n",
              "      --disabled-fill-color: #AAA;\n",
              "      --disabled-bg-color: #DDD;\n",
              "  }\n",
              "\n",
              "  [theme=dark] .colab-df-quickchart {\n",
              "      --bg-color: #3B4455;\n",
              "      --fill-color: #D2E3FC;\n",
              "      --hover-bg-color: #434B5C;\n",
              "      --hover-fill-color: #FFFFFF;\n",
              "      --disabled-bg-color: #3B4455;\n",
              "      --disabled-fill-color: #666;\n",
              "  }\n",
              "\n",
              "  .colab-df-quickchart {\n",
              "    background-color: var(--bg-color);\n",
              "    border: none;\n",
              "    border-radius: 50%;\n",
              "    cursor: pointer;\n",
              "    display: none;\n",
              "    fill: var(--fill-color);\n",
              "    height: 32px;\n",
              "    padding: 0;\n",
              "    width: 32px;\n",
              "  }\n",
              "\n",
              "  .colab-df-quickchart:hover {\n",
              "    background-color: var(--hover-bg-color);\n",
              "    box-shadow: 0 1px 2px rgba(60, 64, 67, 0.3), 0 1px 3px 1px rgba(60, 64, 67, 0.15);\n",
              "    fill: var(--button-hover-fill-color);\n",
              "  }\n",
              "\n",
              "  .colab-df-quickchart-complete:disabled,\n",
              "  .colab-df-quickchart-complete:disabled:hover {\n",
              "    background-color: var(--disabled-bg-color);\n",
              "    fill: var(--disabled-fill-color);\n",
              "    box-shadow: none;\n",
              "  }\n",
              "\n",
              "  .colab-df-spinner {\n",
              "    border: 2px solid var(--fill-color);\n",
              "    border-color: transparent;\n",
              "    border-bottom-color: var(--fill-color);\n",
              "    animation:\n",
              "      spin 1s steps(1) infinite;\n",
              "  }\n",
              "\n",
              "  @keyframes spin {\n",
              "    0% {\n",
              "      border-color: transparent;\n",
              "      border-bottom-color: var(--fill-color);\n",
              "      border-left-color: var(--fill-color);\n",
              "    }\n",
              "    20% {\n",
              "      border-color: transparent;\n",
              "      border-left-color: var(--fill-color);\n",
              "      border-top-color: var(--fill-color);\n",
              "    }\n",
              "    30% {\n",
              "      border-color: transparent;\n",
              "      border-left-color: var(--fill-color);\n",
              "      border-top-color: var(--fill-color);\n",
              "      border-right-color: var(--fill-color);\n",
              "    }\n",
              "    40% {\n",
              "      border-color: transparent;\n",
              "      border-right-color: var(--fill-color);\n",
              "      border-top-color: var(--fill-color);\n",
              "    }\n",
              "    60% {\n",
              "      border-color: transparent;\n",
              "      border-right-color: var(--fill-color);\n",
              "    }\n",
              "    80% {\n",
              "      border-color: transparent;\n",
              "      border-right-color: var(--fill-color);\n",
              "      border-bottom-color: var(--fill-color);\n",
              "    }\n",
              "    90% {\n",
              "      border-color: transparent;\n",
              "      border-bottom-color: var(--fill-color);\n",
              "    }\n",
              "  }\n",
              "</style>\n",
              "\n",
              "  <script>\n",
              "    async function quickchart(key) {\n",
              "      const quickchartButtonEl =\n",
              "        document.querySelector('#' + key + ' button');\n",
              "      quickchartButtonEl.disabled = true;  // To prevent multiple clicks.\n",
              "      quickchartButtonEl.classList.add('colab-df-spinner');\n",
              "      try {\n",
              "        const charts = await google.colab.kernel.invokeFunction(\n",
              "            'suggestCharts', [key], {});\n",
              "      } catch (error) {\n",
              "        console.error('Error during call to suggestCharts:', error);\n",
              "      }\n",
              "      quickchartButtonEl.classList.remove('colab-df-spinner');\n",
              "      quickchartButtonEl.classList.add('colab-df-quickchart-complete');\n",
              "    }\n",
              "    (() => {\n",
              "      let quickchartButtonEl =\n",
              "        document.querySelector('#df-6d8cda2f-6bb2-469d-9611-a596ff61fc91 button');\n",
              "      quickchartButtonEl.style.display =\n",
              "        google.colab.kernel.accessAllowed ? 'block' : 'none';\n",
              "    })();\n",
              "  </script>\n",
              "</div>\n",
              "    </div>\n",
              "  </div>\n"
            ]
          },
          "metadata": {},
          "execution_count": 228
        }
      ]
    },
    {
      "cell_type": "code",
      "source": [
        "bar_colors = ['lightpink', 'lightblue']"
      ],
      "metadata": {
        "id": "5sWov0Gwbp13"
      },
      "execution_count": 229,
      "outputs": []
    },
    {
      "cell_type": "code",
      "source": [
        "plt.figure(figsize=(6, 6))\n",
        "sex_labels = ['Feminino', 'Masculino']\n",
        "plt.bar(sex_labels, covid_per_sex_pd['count'], color=bar_colors)\n",
        "plt.xlabel('Sexo')\n",
        "plt.ylabel('Número de Casos Prováveis de COVID')\n",
        "plt.title('Numero de Casos Possiveis de COVID por Sexo', )\n",
        "plt.xticks(rotation=45)\n",
        "plt.tight_layout()\n",
        "plt.show()"
      ],
      "metadata": {
        "id": "ljm8pVGRbBrG",
        "outputId": "62800115-c3d7-4021-bbba-71128af18851",
        "colab": {
          "base_uri": "https://localhost:8080/",
          "height": 607
        }
      },
      "execution_count": 230,
      "outputs": [
        {
          "output_type": "display_data",
          "data": {
            "text/plain": [
              "<Figure size 600x600 with 1 Axes>"
            ],
            "image/png": "[encoded data removed]"
          },
          "metadata": {}
        }
      ]
    },
    {
      "cell_type": "code",
      "source": [
        "healthcare_rentability = to_healthcare.groupBy('income_range').count()\n",
        "healthcare_rentability = healthcare_rentability.toPandas()"
      ],
      "metadata": {
        "id": "b2c5exBgcxoj"
      },
      "execution_count": 258,
      "outputs": []
    },
    {
      "cell_type": "code",
      "source": [
        "healthcare_rentability['income_range'] = healthcare_rentability['income_range'].replace({\n",
        "    None: 'Não respondido',\n",
        "    'not_applicable': 'Não aplicável',\n",
        "    '101-300': 'F 101-300',\n",
        "    '301-600': 'F 301-600',\n",
        "    '601-800': 'F 601-800',\n",
        "    '801-1,600': 'E 801-1,600',\n",
        "    '1,601-3,000': 'C 1,601-3,000' ,\n",
        "    '3,001-10,000': 'B 3,001-10,000',\n",
        "    '10,001-50,000': 'A 10,001-50,000',\n",
        "    '50,001-100,000': 'A 50,001-100,000'\n",
        "})"
      ],
      "metadata": {
        "id": "b3V90qs4emdz"
      },
      "execution_count": 274,
      "outputs": []
    },
    {
      "cell_type": "code",
      "source": [
        "healthcare_rentability.sort_values(by='income_range', ascending=False, inplace=True)"
      ],
      "metadata": {
        "id": "s0P_1HAVdBxi"
      },
      "execution_count": 278,
      "outputs": []
    },
    {
      "cell_type": "code",
      "source": [
        "healthcare_rentability.head()"
      ],
      "metadata": {
        "id": "o-gsDQ5kfl6V",
        "outputId": "d2e76a82-82c2-489a-a69f-8f535d964396",
        "colab": {
          "base_uri": "https://localhost:8080/",
          "height": 206
        }
      },
      "execution_count": 279,
      "outputs": [
        {
          "output_type": "execute_result",
          "data": {
            "text/plain": [
              "     income_range  count\n",
              "0  Não respondido   5951\n",
              "4   Não aplicável     29\n",
              "1       F 601-800    153\n",
              "5       F 301-600    281\n",
              "7       F 101-300    129"
            ],
            "text/html": [
              "\n",
              "  <div id=\"df-b2322a44-88bd-4b34-bad3-f57c04aa5d18\" class=\"colab-df-container\">\n",
              "    <div>\n",
              "<style scoped>\n",
              "    .dataframe tbody tr th:only-of-type {\n",
              "        vertical-align: middle;\n",
              "    }\n",
              "\n",
              "    .dataframe tbody tr th {\n",
              "        vertical-align: top;\n",
              "    }\n",
              "\n",
              "    .dataframe thead th {\n",
              "        text-align: right;\n",
              "    }\n",
              "</style>\n",
              "<table border=\"1\" class=\"dataframe\">\n",
              "  <thead>\n",
              "    <tr style=\"text-align: right;\">\n",
              "      <th></th>\n",
              "      <th>income_range</th>\n",
              "      <th>count</th>\n",
              "    </tr>\n",
              "  </thead>\n",
              "  <tbody>\n",
              "    <tr>\n",
              "      <th>0</th>\n",
              "      <td>Não respondido</td>\n",
              "      <td>5951</td>\n",
              "    </tr>\n",
              "    <tr>\n",
              "      <th>4</th>\n",
              "      <td>Não aplicável</td>\n",
              "      <td>29</td>\n",
              "    </tr>\n",
              "    <tr>\n",
              "      <th>1</th>\n",
              "      <td>F 601-800</td>\n",
              "      <td>153</td>\n",
              "    </tr>\n",
              "    <tr>\n",
              "      <th>5</th>\n",
              "      <td>F 301-600</td>\n",
              "      <td>281</td>\n",
              "    </tr>\n",
              "    <tr>\n",
              "      <th>7</th>\n",
              "      <td>F 101-300</td>\n",
              "      <td>129</td>\n",
              "    </tr>\n",
              "  </tbody>\n",
              "</table>\n",
              "</div>\n",
              "    <div class=\"colab-df-buttons\">\n",
              "\n",
              "  <div class=\"colab-df-container\">\n",
              "    <button class=\"colab-df-convert\" onclick=\"convertToInteractive('df-b2322a44-88bd-4b34-bad3-f57c04aa5d18')\"\n",
              "            title=\"Convert this dataframe to an interactive table.\"\n",
              "            style=\"display:none;\">\n",
              "\n",
              "  <svg xmlns=\"http://www.w3.org/2000/svg\" height=\"24px\" viewBox=\"0 -960 960 960\">\n",
              "    <path d=\"M120-120v-720h720v720H120Zm60-500h600v-160H180v160Zm220 220h160v-160H400v160Zm0 220h160v-160H400v160ZM180-400h160v-160H180v160Zm440 0h160v-160H620v160ZM180-180h160v-160H180v160Zm440 0h160v-160H620v160Z\"/>\n",
              "  </svg>\n",
              "    </button>\n",
              "\n",
              "  <style>\n",
              "    .colab-df-container {\n",
              "      display:flex;\n",
              "      gap: 12px;\n",
              "    }\n",
              "\n",
              "    .colab-df-convert {\n",
              "      background-color: #E8F0FE;\n",
              "      border: none;\n",
              "      border-radius: 50%;\n",
              "      cursor: pointer;\n",
              "      display: none;\n",
              "      fill: #1967D2;\n",
              "      height: 32px;\n",
              "      padding: 0 0 0 0;\n",
              "      width: 32px;\n",
              "    }\n",
              "\n",
              "    .colab-df-convert:hover {\n",
              "      background-color: #E2EBFA;\n",
              "      box-shadow: 0px 1px 2px rgba(60, 64, 67, 0.3), 0px 1px 3px 1px rgba(60, 64, 67, 0.15);\n",
              "      fill: #174EA6;\n",
              "    }\n",
              "\n",
              "    .colab-df-buttons div {\n",
              "      margin-bottom: 4px;\n",
              "    }\n",
              "\n",
              "    [theme=dark] .colab-df-convert {\n",
              "      background-color: #3B4455;\n",
              "      fill: #D2E3FC;\n",
              "    }\n",
              "\n",
              "    [theme=dark] .colab-df-convert:hover {\n",
              "      background-color: #434B5C;\n",
              "      box-shadow: 0px 1px 3px 1px rgba(0, 0, 0, 0.15);\n",
              "      filter: drop-shadow(0px 1px 2px rgba(0, 0, 0, 0.3));\n",
              "      fill: #FFFFFF;\n",
              "    }\n",
              "  </style>\n",
              "\n",
              "    <script>\n",
              "      const buttonEl =\n",
              "        document.querySelector('#df-b2322a44-88bd-4b34-bad3-f57c04aa5d18 button.colab-df-convert');\n",
              "      buttonEl.style.display =\n",
              "        google.colab.kernel.accessAllowed ? 'block' : 'none';\n",
              "\n",
              "      async function convertToInteractive(key) {\n",
              "        const element = document.querySelector('#df-b2322a44-88bd-4b34-bad3-f57c04aa5d18');\n",
              "        const dataTable =\n",
              "          await google.colab.kernel.invokeFunction('convertToInteractive',\n",
              "                                                    [key], {});\n",
              "        if (!dataTable) return;\n",
              "\n",
              "        const docLinkHtml = 'Like what you see? Visit the ' +\n",
              "          '<a target=\"_blank\" href=https://colab.research.google.com/notebooks/data_table.ipynb>data table notebook</a>'\n",
              "          + ' to learn more about interactive tables.';\n",
              "        element.innerHTML = '';\n",
              "        dataTable['output_type'] = 'display_data';\n",
              "        await google.colab.output.renderOutput(dataTable, element);\n",
              "        const docLink = document.createElement('div');\n",
              "        docLink.innerHTML = docLinkHtml;\n",
              "        element.appendChild(docLink);\n",
              "      }\n",
              "    </script>\n",
              "  </div>\n",
              "\n",
              "\n",
              "<div id=\"df-a0490e29-040a-4dc3-8307-ed86512ce8e3\">\n",
              "  <button class=\"colab-df-quickchart\" onclick=\"quickchart('df-a0490e29-040a-4dc3-8307-ed86512ce8e3')\"\n",
              "            title=\"Suggest charts\"\n",
              "            style=\"display:none;\">\n",
              "\n",
              "<svg xmlns=\"http://www.w3.org/2000/svg\" height=\"24px\"viewBox=\"0 0 24 24\"\n",
              "     width=\"24px\">\n",
              "    <g>\n",
              "        <path d=\"M19 3H5c-1.1 0-2 .9-2 2v14c0 1.1.9 2 2 2h14c1.1 0 2-.9 2-2V5c0-1.1-.9-2-2-2zM9 17H7v-7h2v7zm4 0h-2V7h2v10zm4 0h-2v-4h2v4z\"/>\n",
              "    </g>\n",
              "</svg>\n",
              "  </button>\n",
              "\n",
              "<style>\n",
              "  .colab-df-quickchart {\n",
              "      --bg-color: #E8F0FE;\n",
              "      --fill-color: #1967D2;\n",
              "      --hover-bg-color: #E2EBFA;\n",
              "      --hover-fill-color: #174EA6;\n",
              "      --disabled-fill-color: #AAA;\n",
              "      --disabled-bg-color: #DDD;\n",
              "  }\n",
              "\n",
              "  [theme=dark] .colab-df-quickchart {\n",
              "      --bg-color: #3B4455;\n",
              "      --fill-color: #D2E3FC;\n",
              "      --hover-bg-color: #434B5C;\n",
              "      --hover-fill-color: #FFFFFF;\n",
              "      --disabled-bg-color: #3B4455;\n",
              "      --disabled-fill-color: #666;\n",
              "  }\n",
              "\n",
              "  .colab-df-quickchart {\n",
              "    background-color: var(--bg-color);\n",
              "    border: none;\n",
              "    border-radius: 50%;\n",
              "    cursor: pointer;\n",
              "    display: none;\n",
              "    fill: var(--fill-color);\n",
              "    height: 32px;\n",
              "    padding: 0;\n",
              "    width: 32px;\n",
              "  }\n",
              "\n",
              "  .colab-df-quickchart:hover {\n",
              "    background-color: var(--hover-bg-color);\n",
              "    box-shadow: 0 1px 2px rgba(60, 64, 67, 0.3), 0 1px 3px 1px rgba(60, 64, 67, 0.15);\n",
              "    fill: var(--button-hover-fill-color);\n",
              "  }\n",
              "\n",
              "  .colab-df-quickchart-complete:disabled,\n",
              "  .colab-df-quickchart-complete:disabled:hover {\n",
              "    background-color: var(--disabled-bg-color);\n",
              "    fill: var(--disabled-fill-color);\n",
              "    box-shadow: none;\n",
              "  }\n",
              "\n",
              "  .colab-df-spinner {\n",
              "    border: 2px solid var(--fill-color);\n",
              "    border-color: transparent;\n",
              "    border-bottom-color: var(--fill-color);\n",
              "    animation:\n",
              "      spin 1s steps(1) infinite;\n",
              "  }\n",
              "\n",
              "  @keyframes spin {\n",
              "    0% {\n",
              "      border-color: transparent;\n",
              "      border-bottom-color: var(--fill-color);\n",
              "      border-left-color: var(--fill-color);\n",
              "    }\n",
              "    20% {\n",
              "      border-color: transparent;\n",
              "      border-left-color: var(--fill-color);\n",
              "      border-top-color: var(--fill-color);\n",
              "    }\n",
              "    30% {\n",
              "      border-color: transparent;\n",
              "      border-left-color: var(--fill-color);\n",
              "      border-top-color: var(--fill-color);\n",
              "      border-right-color: var(--fill-color);\n",
              "    }\n",
              "    40% {\n",
              "      border-color: transparent;\n",
              "      border-right-color: var(--fill-color);\n",
              "      border-top-color: var(--fill-color);\n",
              "    }\n",
              "    60% {\n",
              "      border-color: transparent;\n",
              "      border-right-color: var(--fill-color);\n",
              "    }\n",
              "    80% {\n",
              "      border-color: transparent;\n",
              "      border-right-color: var(--fill-color);\n",
              "      border-bottom-color: var(--fill-color);\n",
              "    }\n",
              "    90% {\n",
              "      border-color: transparent;\n",
              "      border-bottom-color: var(--fill-color);\n",
              "    }\n",
              "  }\n",
              "</style>\n",
              "\n",
              "  <script>\n",
              "    async function quickchart(key) {\n",
              "      const quickchartButtonEl =\n",
              "        document.querySelector('#' + key + ' button');\n",
              "      quickchartButtonEl.disabled = true;  // To prevent multiple clicks.\n",
              "      quickchartButtonEl.classList.add('colab-df-spinner');\n",
              "      try {\n",
              "        const charts = await google.colab.kernel.invokeFunction(\n",
              "            'suggestCharts', [key], {});\n",
              "      } catch (error) {\n",
              "        console.error('Error during call to suggestCharts:', error);\n",
              "      }\n",
              "      quickchartButtonEl.classList.remove('colab-df-spinner');\n",
              "      quickchartButtonEl.classList.add('colab-df-quickchart-complete');\n",
              "    }\n",
              "    (() => {\n",
              "      let quickchartButtonEl =\n",
              "        document.querySelector('#df-a0490e29-040a-4dc3-8307-ed86512ce8e3 button');\n",
              "      quickchartButtonEl.style.display =\n",
              "        google.colab.kernel.accessAllowed ? 'block' : 'none';\n",
              "    })();\n",
              "  </script>\n",
              "</div>\n",
              "    </div>\n",
              "  </div>\n"
            ]
          },
          "metadata": {},
          "execution_count": 279
        }
      ]
    },
    {
      "cell_type": "markdown",
      "source": [
        "3.3 | Mapa do brasil -> Relacionar estados (uf) com o número de sintomas (2 ou mais sintomas, até 5 no máximo)\n"
      ],
      "metadata": {
        "id": "7L8eFHEXeJsP"
      }
    },
    {
      "cell_type": "code",
      "source": [
        "plt.figure(figsize=(6, 6))\n",
        "plt.bar(healthcare_rentability['income_range'], healthcare_rentability['count'], color='skyblue')\n",
        "plt.xlabel('Rentabilidade Média')\n",
        "plt.ylabel('Foi a algum estabelecimento de saúde?')\n",
        "plt.title('Rentabilidade Média de quem procurou cuidados médicos', )\n",
        "plt.xticks(rotation=45)\n",
        "plt.tight_layout()\n",
        "plt.show()"
      ],
      "metadata": {
        "id": "9o3jfpajeLDi",
        "outputId": "2e9426b6-c0a9-430d-f36c-581ae5cbf32b",
        "colab": {
          "base_uri": "https://localhost:8080/",
          "height": 607
        }
      },
      "execution_count": 290,
      "outputs": [
        {
          "output_type": "display_data",
          "data": {
            "text/plain": [
              "<Figure size 600x600 with 1 Axes>"
            ],
            "image/png": "[encoded data removed]"
          },
          "metadata": {}
        }
      ]
    },
    {
      "cell_type": "code",
      "source": [
        "home_office = df.groupBy('has_worked_remote').count()\n",
        "home_office = home_office.toPandas()"
      ],
      "metadata": {
        "id": "Ozv1LKSLj3R6"
      },
      "execution_count": 294,
      "outputs": []
    },
    {
      "cell_type": "code",
      "source": [
        "home_office.head()"
      ],
      "metadata": {
        "id": "wFga9GiNeLBY",
        "outputId": "d6041f97-a91d-42c4-c159-97df8fb572c8",
        "colab": {
          "base_uri": "https://localhost:8080/",
          "height": 143
        }
      },
      "execution_count": 295,
      "outputs": [
        {
          "output_type": "execute_result",
          "data": {
            "text/plain": [
              "  has_worked_remote    count\n",
              "0              None  1100419\n",
              "1                no    14757\n",
              "2               yes    34021"
            ],
            "text/html": [
              "\n",
              "  <div id=\"df-2b7bee48-ca55-4c73-9260-55c3631ca5ae\" class=\"colab-df-container\">\n",
              "    <div>\n",
              "<style scoped>\n",
              "    .dataframe tbody tr th:only-of-type {\n",
              "        vertical-align: middle;\n",
              "    }\n",
              "\n",
              "    .dataframe tbody tr th {\n",
              "        vertical-align: top;\n",
              "    }\n",
              "\n",
              "    .dataframe thead th {\n",
              "        text-align: right;\n",
              "    }\n",
              "</style>\n",
              "<table border=\"1\" class=\"dataframe\">\n",
              "  <thead>\n",
              "    <tr style=\"text-align: right;\">\n",
              "      <th></th>\n",
              "      <th>has_worked_remote</th>\n",
              "      <th>count</th>\n",
              "    </tr>\n",
              "  </thead>\n",
              "  <tbody>\n",
              "    <tr>\n",
              "      <th>0</th>\n",
              "      <td>None</td>\n",
              "      <td>1100419</td>\n",
              "    </tr>\n",
              "    <tr>\n",
              "      <th>1</th>\n",
              "      <td>no</td>\n",
              "      <td>14757</td>\n",
              "    </tr>\n",
              "    <tr>\n",
              "      <th>2</th>\n",
              "      <td>yes</td>\n",
              "      <td>34021</td>\n",
              "    </tr>\n",
              "  </tbody>\n",
              "</table>\n",
              "</div>\n",
              "    <div class=\"colab-df-buttons\">\n",
              "\n",
              "  <div class=\"colab-df-container\">\n",
              "    <button class=\"colab-df-convert\" onclick=\"convertToInteractive('df-2b7bee48-ca55-4c73-9260-55c3631ca5ae')\"\n",
              "            title=\"Convert this dataframe to an interactive table.\"\n",
              "            style=\"display:none;\">\n",
              "\n",
              "  <svg xmlns=\"http://www.w3.org/2000/svg\" height=\"24px\" viewBox=\"0 -960 960 960\">\n",
              "    <path d=\"M120-120v-720h720v720H120Zm60-500h600v-160H180v160Zm220 220h160v-160H400v160Zm0 220h160v-160H400v160ZM180-400h160v-160H180v160Zm440 0h160v-160H620v160ZM180-180h160v-160H180v160Zm440 0h160v-160H620v160Z\"/>\n",
              "  </svg>\n",
              "    </button>\n",
              "\n",
              "  <style>\n",
              "    .colab-df-container {\n",
              "      display:flex;\n",
              "      gap: 12px;\n",
              "    }\n",
              "\n",
              "    .colab-df-convert {\n",
              "      background-color: #E8F0FE;\n",
              "      border: none;\n",
              "      border-radius: 50%;\n",
              "      cursor: pointer;\n",
              "      display: none;\n",
              "      fill: #1967D2;\n",
              "      height: 32px;\n",
              "      padding: 0 0 0 0;\n",
              "      width: 32px;\n",
              "    }\n",
              "\n",
              "    .colab-df-convert:hover {\n",
              "      background-color: #E2EBFA;\n",
              "      box-shadow: 0px 1px 2px rgba(60, 64, 67, 0.3), 0px 1px 3px 1px rgba(60, 64, 67, 0.15);\n",
              "      fill: #174EA6;\n",
              "    }\n",
              "\n",
              "    .colab-df-buttons div {\n",
              "      margin-bottom: 4px;\n",
              "    }\n",
              "\n",
              "    [theme=dark] .colab-df-convert {\n",
              "      background-color: #3B4455;\n",
              "      fill: #D2E3FC;\n",
              "    }\n",
              "\n",
              "    [theme=dark] .colab-df-convert:hover {\n",
              "      background-color: #434B5C;\n",
              "      box-shadow: 0px 1px 3px 1px rgba(0, 0, 0, 0.15);\n",
              "      filter: drop-shadow(0px 1px 2px rgba(0, 0, 0, 0.3));\n",
              "      fill: #FFFFFF;\n",
              "    }\n",
              "  </style>\n",
              "\n",
              "    <script>\n",
              "      const buttonEl =\n",
              "        document.querySelector('#df-2b7bee48-ca55-4c73-9260-55c3631ca5ae button.colab-df-convert');\n",
              "      buttonEl.style.display =\n",
              "        google.colab.kernel.accessAllowed ? 'block' : 'none';\n",
              "\n",
              "      async function convertToInteractive(key) {\n",
              "        const element = document.querySelector('#df-2b7bee48-ca55-4c73-9260-55c3631ca5ae');\n",
              "        const dataTable =\n",
              "          await google.colab.kernel.invokeFunction('convertToInteractive',\n",
              "                                                    [key], {});\n",
              "        if (!dataTable) return;\n",
              "\n",
              "        const docLinkHtml = 'Like what you see? Visit the ' +\n",
              "          '<a target=\"_blank\" href=https://colab.research.google.com/notebooks/data_table.ipynb>data table notebook</a>'\n",
              "          + ' to learn more about interactive tables.';\n",
              "        element.innerHTML = '';\n",
              "        dataTable['output_type'] = 'display_data';\n",
              "        await google.colab.output.renderOutput(dataTable, element);\n",
              "        const docLink = document.createElement('div');\n",
              "        docLink.innerHTML = docLinkHtml;\n",
              "        element.appendChild(docLink);\n",
              "      }\n",
              "    </script>\n",
              "  </div>\n",
              "\n",
              "\n",
              "<div id=\"df-53194a59-4c06-4e3a-8136-6108da0935f3\">\n",
              "  <button class=\"colab-df-quickchart\" onclick=\"quickchart('df-53194a59-4c06-4e3a-8136-6108da0935f3')\"\n",
              "            title=\"Suggest charts\"\n",
              "            style=\"display:none;\">\n",
              "\n",
              "<svg xmlns=\"http://www.w3.org/2000/svg\" height=\"24px\"viewBox=\"0 0 24 24\"\n",
              "     width=\"24px\">\n",
              "    <g>\n",
              "        <path d=\"M19 3H5c-1.1 0-2 .9-2 2v14c0 1.1.9 2 2 2h14c1.1 0 2-.9 2-2V5c0-1.1-.9-2-2-2zM9 17H7v-7h2v7zm4 0h-2V7h2v10zm4 0h-2v-4h2v4z\"/>\n",
              "    </g>\n",
              "</svg>\n",
              "  </button>\n",
              "\n",
              "<style>\n",
              "  .colab-df-quickchart {\n",
              "      --bg-color: #E8F0FE;\n",
              "      --fill-color: #1967D2;\n",
              "      --hover-bg-color: #E2EBFA;\n",
              "      --hover-fill-color: #174EA6;\n",
              "      --disabled-fill-color: #AAA;\n",
              "      --disabled-bg-color: #DDD;\n",
              "  }\n",
              "\n",
              "  [theme=dark] .colab-df-quickchart {\n",
              "      --bg-color: #3B4455;\n",
              "      --fill-color: #D2E3FC;\n",
              "      --hover-bg-color: #434B5C;\n",
              "      --hover-fill-color: #FFFFFF;\n",
              "      --disabled-bg-color: #3B4455;\n",
              "      --disabled-fill-color: #666;\n",
              "  }\n",
              "\n",
              "  .colab-df-quickchart {\n",
              "    background-color: var(--bg-color);\n",
              "    border: none;\n",
              "    border-radius: 50%;\n",
              "    cursor: pointer;\n",
              "    display: none;\n",
              "    fill: var(--fill-color);\n",
              "    height: 32px;\n",
              "    padding: 0;\n",
              "    width: 32px;\n",
              "  }\n",
              "\n",
              "  .colab-df-quickchart:hover {\n",
              "    background-color: var(--hover-bg-color);\n",
              "    box-shadow: 0 1px 2px rgba(60, 64, 67, 0.3), 0 1px 3px 1px rgba(60, 64, 67, 0.15);\n",
              "    fill: var(--button-hover-fill-color);\n",
              "  }\n",
              "\n",
              "  .colab-df-quickchart-complete:disabled,\n",
              "  .colab-df-quickchart-complete:disabled:hover {\n",
              "    background-color: var(--disabled-bg-color);\n",
              "    fill: var(--disabled-fill-color);\n",
              "    box-shadow: none;\n",
              "  }\n",
              "\n",
              "  .colab-df-spinner {\n",
              "    border: 2px solid var(--fill-color);\n",
              "    border-color: transparent;\n",
              "    border-bottom-color: var(--fill-color);\n",
              "    animation:\n",
              "      spin 1s steps(1) infinite;\n",
              "  }\n",
              "\n",
              "  @keyframes spin {\n",
              "    0% {\n",
              "      border-color: transparent;\n",
              "      border-bottom-color: var(--fill-color);\n",
              "      border-left-color: var(--fill-color);\n",
              "    }\n",
              "    20% {\n",
              "      border-color: transparent;\n",
              "      border-left-color: var(--fill-color);\n",
              "      border-top-color: var(--fill-color);\n",
              "    }\n",
              "    30% {\n",
              "      border-color: transparent;\n",
              "      border-left-color: var(--fill-color);\n",
              "      border-top-color: var(--fill-color);\n",
              "      border-right-color: var(--fill-color);\n",
              "    }\n",
              "    40% {\n",
              "      border-color: transparent;\n",
              "      border-right-color: var(--fill-color);\n",
              "      border-top-color: var(--fill-color);\n",
              "    }\n",
              "    60% {\n",
              "      border-color: transparent;\n",
              "      border-right-color: var(--fill-color);\n",
              "    }\n",
              "    80% {\n",
              "      border-color: transparent;\n",
              "      border-right-color: var(--fill-color);\n",
              "      border-bottom-color: var(--fill-color);\n",
              "    }\n",
              "    90% {\n",
              "      border-color: transparent;\n",
              "      border-bottom-color: var(--fill-color);\n",
              "    }\n",
              "  }\n",
              "</style>\n",
              "\n",
              "  <script>\n",
              "    async function quickchart(key) {\n",
              "      const quickchartButtonEl =\n",
              "        document.querySelector('#' + key + ' button');\n",
              "      quickchartButtonEl.disabled = true;  // To prevent multiple clicks.\n",
              "      quickchartButtonEl.classList.add('colab-df-spinner');\n",
              "      try {\n",
              "        const charts = await google.colab.kernel.invokeFunction(\n",
              "            'suggestCharts', [key], {});\n",
              "      } catch (error) {\n",
              "        console.error('Error during call to suggestCharts:', error);\n",
              "      }\n",
              "      quickchartButtonEl.classList.remove('colab-df-spinner');\n",
              "      quickchartButtonEl.classList.add('colab-df-quickchart-complete');\n",
              "    }\n",
              "    (() => {\n",
              "      let quickchartButtonEl =\n",
              "        document.querySelector('#df-53194a59-4c06-4e3a-8136-6108da0935f3 button');\n",
              "      quickchartButtonEl.style.display =\n",
              "        google.colab.kernel.accessAllowed ? 'block' : 'none';\n",
              "    })();\n",
              "  </script>\n",
              "</div>\n",
              "    </div>\n",
              "  </div>\n"
            ]
          },
          "metadata": {},
          "execution_count": 295
        }
      ]
    },
    {
      "cell_type": "code",
      "source": [
        "home_office = home_office.dropna()"
      ],
      "metadata": {
        "id": "oZqnibPskKFK"
      },
      "execution_count": 301,
      "outputs": []
    },
    {
      "cell_type": "code",
      "source": [
        "sizes = home_office['count']"
      ],
      "metadata": {
        "id": "BnaYdAEUoCTZ"
      },
      "execution_count": 315,
      "outputs": []
    },
    {
      "cell_type": "code",
      "source": [
        "# Plotar o gráfico donut\n",
        "fig, ax = plt.subplots(figsize=(8, 8), dpi=100)\n",
        "home_label= ['Presencial', 'Remoto']\n",
        "ax.pie(home_office['count'], labels=home_label, autopct='%1.1f%%', startangle=90, colors = ['lightblue', '#084d6e'])\n",
        "ax.add_artist(plt.Circle((0,0),0.70,fc='white'))  # Cria o buraco do donut\n",
        "legend_labels = ['Presencial: {0}'.format(sizes.iloc[0]),\n",
        "                 'Remoto: {0}'.format(sizes.iloc[1])]\n",
        "ax.legend(wedges, legend_labels, loc=\"center left\", bbox_to_anchor=(1, 0, 0.5, 1))\n",
        "\n",
        "# Adicionar um título\n",
        "plt.title('Trabalho Remoto Durante a COVID-19')\n",
        "plt.show()"
      ],
      "metadata": {
        "id": "LTT8YMgfeK-t",
        "outputId": "086671e3-bb6c-442c-8cda-bba13f71a1f7",
        "colab": {
          "base_uri": "https://localhost:8080/",
          "height": 675
        }
      },
      "execution_count": 330,
      "outputs": [
        {
          "output_type": "display_data",
          "data": {
            "text/plain": [
              "<Figure size 800x800 with 1 Axes>"
            ],
            "image/png": "[encoded data removed]"
          },
          "metadata": {}
        }
      ]
    },
    {
      "cell_type": "code",
      "source": [
        "activity_job_covid = probably_covid.groupBy('main_job_activity').count()"
      ],
      "metadata": {
        "id": "03-G0vugpll5"
      },
      "execution_count": 362,
      "outputs": []
    },
    {
      "cell_type": "code",
      "source": [
        "activity_job_covid = activity_job_covid.toPandas()"
      ],
      "metadata": {
        "id": "1KRiaJ0neK74"
      },
      "execution_count": 363,
      "outputs": []
    },
    {
      "cell_type": "code",
      "source": [
        "activity_job_covid = activity_job_covid.dropna()"
      ],
      "metadata": {
        "id": "mqeuSPvZqaec"
      },
      "execution_count": 364,
      "outputs": []
    },
    {
      "cell_type": "code",
      "source": [
        "activity_job_covid.head(30)"
      ],
      "metadata": {
        "id": "riqB38rup7Rm",
        "outputId": "42aa90a7-5caf-466c-c518-d13af979aab6",
        "colab": {
          "base_uri": "https://localhost:8080/",
          "height": 833
        }
      },
      "execution_count": 365,
      "outputs": [
        {
          "output_type": "execute_result",
          "data": {
            "text/plain": [
              "                                    main_job_activity  count\n",
              "0                              real_estate_activities     92\n",
              "1            banks_financial_and_insurance_activities    273\n",
              "2            repair_of_motor_vehicles_and_motorcycles    298\n",
              "3   law_firms_engineering_advertising_and_veterina...    574\n",
              "4                                           education   1479\n",
              "5          food_service_bars_restaurants_food_vendors    856\n",
              "7                       accommodation_hotels_inns_etc     77\n",
              "8   supply_of_electricity_and_gas_water_sewerage_a...    144\n",
              "9                  human_health_and_social_assistance   1339\n",
              "10                                              other    906\n",
              "11        artistic_sports_and_recreational_activities    149\n",
              "12  information_and_communication_newspapers_radio...    334\n",
              "13                                passenger_transport    299\n",
              "14  extraction_of_petroleum_coal_metallic_minerals...     75\n",
              "15    religious_organizations_unions_and_associations     79\n",
              "16  paid_domestic_service_to_be_reported_under_occ...   1099\n",
              "17                         wholesale_and_retail_trade   2235\n",
              "18                                       construction    957\n",
              "19         agriculture_livestock_forestry_and_fishing   1866\n",
              "20                 storage_post_and_delivery_services     70\n",
              "21  manufacturing_industry_including_clothing_and_...   1343\n",
              "22  public_administration_federal_state_and_munici...   1138\n",
              "23  hairdressing_beauty_treatment_and_personal_ser...    403\n",
              "24  labor_leasing_security_cleaning_landscaping_an...    488\n",
              "25                                  freight_transport    272"
            ],
            "text/html": [
              "\n",
              "  <div id=\"df-90c406a3-c69a-4d17-abd2-8154a1689503\" class=\"colab-df-container\">\n",
              "    <div>\n",
              "<style scoped>\n",
              "    .dataframe tbody tr th:only-of-type {\n",
              "        vertical-align: middle;\n",
              "    }\n",
              "\n",
              "    .dataframe tbody tr th {\n",
              "        vertical-align: top;\n",
              "    }\n",
              "\n",
              "    .dataframe thead th {\n",
              "        text-align: right;\n",
              "    }\n",
              "</style>\n",
              "<table border=\"1\" class=\"dataframe\">\n",
              "  <thead>\n",
              "    <tr style=\"text-align: right;\">\n",
              "      <th></th>\n",
              "      <th>main_job_activity</th>\n",
              "      <th>count</th>\n",
              "    </tr>\n",
              "  </thead>\n",
              "  <tbody>\n",
              "    <tr>\n",
              "      <th>0</th>\n",
              "      <td>real_estate_activities</td>\n",
              "      <td>92</td>\n",
              "    </tr>\n",
              "    <tr>\n",
              "      <th>1</th>\n",
              "      <td>banks_financial_and_insurance_activities</td>\n",
              "      <td>273</td>\n",
              "    </tr>\n",
              "    <tr>\n",
              "      <th>2</th>\n",
              "      <td>repair_of_motor_vehicles_and_motorcycles</td>\n",
              "      <td>298</td>\n",
              "    </tr>\n",
              "    <tr>\n",
              "      <th>3</th>\n",
              "      <td>law_firms_engineering_advertising_and_veterina...</td>\n",
              "      <td>574</td>\n",
              "    </tr>\n",
              "    <tr>\n",
              "      <th>4</th>\n",
              "      <td>education</td>\n",
              "      <td>1479</td>\n",
              "    </tr>\n",
              "    <tr>\n",
              "      <th>5</th>\n",
              "      <td>food_service_bars_restaurants_food_vendors</td>\n",
              "      <td>856</td>\n",
              "    </tr>\n",
              "    <tr>\n",
              "      <th>7</th>\n",
              "      <td>accommodation_hotels_inns_etc</td>\n",
              "      <td>77</td>\n",
              "    </tr>\n",
              "    <tr>\n",
              "      <th>8</th>\n",
              "      <td>supply_of_electricity_and_gas_water_sewerage_a...</td>\n",
              "      <td>144</td>\n",
              "    </tr>\n",
              "    <tr>\n",
              "      <th>9</th>\n",
              "      <td>human_health_and_social_assistance</td>\n",
              "      <td>1339</td>\n",
              "    </tr>\n",
              "    <tr>\n",
              "      <th>10</th>\n",
              "      <td>other</td>\n",
              "      <td>906</td>\n",
              "    </tr>\n",
              "    <tr>\n",
              "      <th>11</th>\n",
              "      <td>artistic_sports_and_recreational_activities</td>\n",
              "      <td>149</td>\n",
              "    </tr>\n",
              "    <tr>\n",
              "      <th>12</th>\n",
              "      <td>information_and_communication_newspapers_radio...</td>\n",
              "      <td>334</td>\n",
              "    </tr>\n",
              "    <tr>\n",
              "      <th>13</th>\n",
              "      <td>passenger_transport</td>\n",
              "      <td>299</td>\n",
              "    </tr>\n",
              "    <tr>\n",
              "      <th>14</th>\n",
              "      <td>extraction_of_petroleum_coal_metallic_minerals...</td>\n",
              "      <td>75</td>\n",
              "    </tr>\n",
              "    <tr>\n",
              "      <th>15</th>\n",
              "      <td>religious_organizations_unions_and_associations</td>\n",
              "      <td>79</td>\n",
              "    </tr>\n",
              "    <tr>\n",
              "      <th>16</th>\n",
              "      <td>paid_domestic_service_to_be_reported_under_occ...</td>\n",
              "      <td>1099</td>\n",
              "    </tr>\n",
              "    <tr>\n",
              "      <th>17</th>\n",
              "      <td>wholesale_and_retail_trade</td>\n",
              "      <td>2235</td>\n",
              "    </tr>\n",
              "    <tr>\n",
              "      <th>18</th>\n",
              "      <td>construction</td>\n",
              "      <td>957</td>\n",
              "    </tr>\n",
              "    <tr>\n",
              "      <th>19</th>\n",
              "      <td>agriculture_livestock_forestry_and_fishing</td>\n",
              "      <td>1866</td>\n",
              "    </tr>\n",
              "    <tr>\n",
              "      <th>20</th>\n",
              "      <td>storage_post_and_delivery_services</td>\n",
              "      <td>70</td>\n",
              "    </tr>\n",
              "    <tr>\n",
              "      <th>21</th>\n",
              "      <td>manufacturing_industry_including_clothing_and_...</td>\n",
              "      <td>1343</td>\n",
              "    </tr>\n",
              "    <tr>\n",
              "      <th>22</th>\n",
              "      <td>public_administration_federal_state_and_munici...</td>\n",
              "      <td>1138</td>\n",
              "    </tr>\n",
              "    <tr>\n",
              "      <th>23</th>\n",
              "      <td>hairdressing_beauty_treatment_and_personal_ser...</td>\n",
              "      <td>403</td>\n",
              "    </tr>\n",
              "    <tr>\n",
              "      <th>24</th>\n",
              "      <td>labor_leasing_security_cleaning_landscaping_an...</td>\n",
              "      <td>488</td>\n",
              "    </tr>\n",
              "    <tr>\n",
              "      <th>25</th>\n",
              "      <td>freight_transport</td>\n",
              "      <td>272</td>\n",
              "    </tr>\n",
              "  </tbody>\n",
              "</table>\n",
              "</div>\n",
              "    <div class=\"colab-df-buttons\">\n",
              "\n",
              "  <div class=\"colab-df-container\">\n",
              "    <button class=\"colab-df-convert\" onclick=\"convertToInteractive('df-90c406a3-c69a-4d17-abd2-8154a1689503')\"\n",
              "            title=\"Convert this dataframe to an interactive table.\"\n",
              "            style=\"display:none;\">\n",
              "\n",
              "  <svg xmlns=\"http://www.w3.org/2000/svg\" height=\"24px\" viewBox=\"0 -960 960 960\">\n",
              "    <path d=\"M120-120v-720h720v720H120Zm60-500h600v-160H180v160Zm220 220h160v-160H400v160Zm0 220h160v-160H400v160ZM180-400h160v-160H180v160Zm440 0h160v-160H620v160ZM180-180h160v-160H180v160Zm440 0h160v-160H620v160Z\"/>\n",
              "  </svg>\n",
              "    </button>\n",
              "\n",
              "  <style>\n",
              "    .colab-df-container {\n",
              "      display:flex;\n",
              "      gap: 12px;\n",
              "    }\n",
              "\n",
              "    .colab-df-convert {\n",
              "      background-color: #E8F0FE;\n",
              "      border: none;\n",
              "      border-radius: 50%;\n",
              "      cursor: pointer;\n",
              "      display: none;\n",
              "      fill: #1967D2;\n",
              "      height: 32px;\n",
              "      padding: 0 0 0 0;\n",
              "      width: 32px;\n",
              "    }\n",
              "\n",
              "    .colab-df-convert:hover {\n",
              "      background-color: #E2EBFA;\n",
              "      box-shadow: 0px 1px 2px rgba(60, 64, 67, 0.3), 0px 1px 3px 1px rgba(60, 64, 67, 0.15);\n",
              "      fill: #174EA6;\n",
              "    }\n",
              "\n",
              "    .colab-df-buttons div {\n",
              "      margin-bottom: 4px;\n",
              "    }\n",
              "\n",
              "    [theme=dark] .colab-df-convert {\n",
              "      background-color: #3B4455;\n",
              "      fill: #D2E3FC;\n",
              "    }\n",
              "\n",
              "    [theme=dark] .colab-df-convert:hover {\n",
              "      background-color: #434B5C;\n",
              "      box-shadow: 0px 1px 3px 1px rgba(0, 0, 0, 0.15);\n",
              "      filter: drop-shadow(0px 1px 2px rgba(0, 0, 0, 0.3));\n",
              "      fill: #FFFFFF;\n",
              "    }\n",
              "  </style>\n",
              "\n",
              "    <script>\n",
              "      const buttonEl =\n",
              "        document.querySelector('#df-90c406a3-c69a-4d17-abd2-8154a1689503 button.colab-df-convert');\n",
              "      buttonEl.style.display =\n",
              "        google.colab.kernel.accessAllowed ? 'block' : 'none';\n",
              "\n",
              "      async function convertToInteractive(key) {\n",
              "        const element = document.querySelector('#df-90c406a3-c69a-4d17-abd2-8154a1689503');\n",
              "        const dataTable =\n",
              "          await google.colab.kernel.invokeFunction('convertToInteractive',\n",
              "                                                    [key], {});\n",
              "        if (!dataTable) return;\n",
              "\n",
              "        const docLinkHtml = 'Like what you see? Visit the ' +\n",
              "          '<a target=\"_blank\" href=https://colab.research.google.com/notebooks/data_table.ipynb>data table notebook</a>'\n",
              "          + ' to learn more about interactive tables.';\n",
              "        element.innerHTML = '';\n",
              "        dataTable['output_type'] = 'display_data';\n",
              "        await google.colab.output.renderOutput(dataTable, element);\n",
              "        const docLink = document.createElement('div');\n",
              "        docLink.innerHTML = docLinkHtml;\n",
              "        element.appendChild(docLink);\n",
              "      }\n",
              "    </script>\n",
              "  </div>\n",
              "\n",
              "\n",
              "<div id=\"df-dadf1dd4-c58e-4444-abf1-d453efe5c0c5\">\n",
              "  <button class=\"colab-df-quickchart\" onclick=\"quickchart('df-dadf1dd4-c58e-4444-abf1-d453efe5c0c5')\"\n",
              "            title=\"Suggest charts\"\n",
              "            style=\"display:none;\">\n",
              "\n",
              "<svg xmlns=\"http://www.w3.org/2000/svg\" height=\"24px\"viewBox=\"0 0 24 24\"\n",
              "     width=\"24px\">\n",
              "    <g>\n",
              "        <path d=\"M19 3H5c-1.1 0-2 .9-2 2v14c0 1.1.9 2 2 2h14c1.1 0 2-.9 2-2V5c0-1.1-.9-2-2-2zM9 17H7v-7h2v7zm4 0h-2V7h2v10zm4 0h-2v-4h2v4z\"/>\n",
              "    </g>\n",
              "</svg>\n",
              "  </button>\n",
              "\n",
              "<style>\n",
              "  .colab-df-quickchart {\n",
              "      --bg-color: #E8F0FE;\n",
              "      --fill-color: #1967D2;\n",
              "      --hover-bg-color: #E2EBFA;\n",
              "      --hover-fill-color: #174EA6;\n",
              "      --disabled-fill-color: #AAA;\n",
              "      --disabled-bg-color: #DDD;\n",
              "  }\n",
              "\n",
              "  [theme=dark] .colab-df-quickchart {\n",
              "      --bg-color: #3B4455;\n",
              "      --fill-color: #D2E3FC;\n",
              "      --hover-bg-color: #434B5C;\n",
              "      --hover-fill-color: #FFFFFF;\n",
              "      --disabled-bg-color: #3B4455;\n",
              "      --disabled-fill-color: #666;\n",
              "  }\n",
              "\n",
              "  .colab-df-quickchart {\n",
              "    background-color: var(--bg-color);\n",
              "    border: none;\n",
              "    border-radius: 50%;\n",
              "    cursor: pointer;\n",
              "    display: none;\n",
              "    fill: var(--fill-color);\n",
              "    height: 32px;\n",
              "    padding: 0;\n",
              "    width: 32px;\n",
              "  }\n",
              "\n",
              "  .colab-df-quickchart:hover {\n",
              "    background-color: var(--hover-bg-color);\n",
              "    box-shadow: 0 1px 2px rgba(60, 64, 67, 0.3), 0 1px 3px 1px rgba(60, 64, 67, 0.15);\n",
              "    fill: var(--button-hover-fill-color);\n",
              "  }\n",
              "\n",
              "  .colab-df-quickchart-complete:disabled,\n",
              "  .colab-df-quickchart-complete:disabled:hover {\n",
              "    background-color: var(--disabled-bg-color);\n",
              "    fill: var(--disabled-fill-color);\n",
              "    box-shadow: none;\n",
              "  }\n",
              "\n",
              "  .colab-df-spinner {\n",
              "    border: 2px solid var(--fill-color);\n",
              "    border-color: transparent;\n",
              "    border-bottom-color: var(--fill-color);\n",
              "    animation:\n",
              "      spin 1s steps(1) infinite;\n",
              "  }\n",
              "\n",
              "  @keyframes spin {\n",
              "    0% {\n",
              "      border-color: transparent;\n",
              "      border-bottom-color: var(--fill-color);\n",
              "      border-left-color: var(--fill-color);\n",
              "    }\n",
              "    20% {\n",
              "      border-color: transparent;\n",
              "      border-left-color: var(--fill-color);\n",
              "      border-top-color: var(--fill-color);\n",
              "    }\n",
              "    30% {\n",
              "      border-color: transparent;\n",
              "      border-left-color: var(--fill-color);\n",
              "      border-top-color: var(--fill-color);\n",
              "      border-right-color: var(--fill-color);\n",
              "    }\n",
              "    40% {\n",
              "      border-color: transparent;\n",
              "      border-right-color: var(--fill-color);\n",
              "      border-top-color: var(--fill-color);\n",
              "    }\n",
              "    60% {\n",
              "      border-color: transparent;\n",
              "      border-right-color: var(--fill-color);\n",
              "    }\n",
              "    80% {\n",
              "      border-color: transparent;\n",
              "      border-right-color: var(--fill-color);\n",
              "      border-bottom-color: var(--fill-color);\n",
              "    }\n",
              "    90% {\n",
              "      border-color: transparent;\n",
              "      border-bottom-color: var(--fill-color);\n",
              "    }\n",
              "  }\n",
              "</style>\n",
              "\n",
              "  <script>\n",
              "    async function quickchart(key) {\n",
              "      const quickchartButtonEl =\n",
              "        document.querySelector('#' + key + ' button');\n",
              "      quickchartButtonEl.disabled = true;  // To prevent multiple clicks.\n",
              "      quickchartButtonEl.classList.add('colab-df-spinner');\n",
              "      try {\n",
              "        const charts = await google.colab.kernel.invokeFunction(\n",
              "            'suggestCharts', [key], {});\n",
              "      } catch (error) {\n",
              "        console.error('Error during call to suggestCharts:', error);\n",
              "      }\n",
              "      quickchartButtonEl.classList.remove('colab-df-spinner');\n",
              "      quickchartButtonEl.classList.add('colab-df-quickchart-complete');\n",
              "    }\n",
              "    (() => {\n",
              "      let quickchartButtonEl =\n",
              "        document.querySelector('#df-dadf1dd4-c58e-4444-abf1-d453efe5c0c5 button');\n",
              "      quickchartButtonEl.style.display =\n",
              "        google.colab.kernel.accessAllowed ? 'block' : 'none';\n",
              "    })();\n",
              "  </script>\n",
              "</div>\n",
              "    </div>\n",
              "  </div>\n"
            ]
          },
          "metadata": {},
          "execution_count": 365
        }
      ]
    },
    {
      "cell_type": "code",
      "source": [
        "# Agora plotar um gráfico de barras \"elegante\"\n",
        "plt.figure(figsize=(10, 6))\n",
        "pastel_palette = [\n",
        "    '#fbb4ae',  # Rosa pastel\n",
        "    '#b3cde3',  # Azul pastel\n",
        "    '#ccebc5',  # Verde pastel\n",
        "    '#decbe4',  # Roxo pastel\n",
        "    '#fed9a6',  # Laranja pastel\n",
        "    '#ffffcc',  # Amarelo pastel\n",
        "    '#e5d8bd',  # Bege pastel\n",
        "    '#fddaec',  # Lilás pastel\n",
        "    '#f2f2f2'   # Cinza claro pastel\n",
        "]\n",
        "activity_label =['Atividades Imobiliárias',\n",
        "'Bancos, Atividades Financeiras e Seguros',\n",
        "'Reparação de Veículos Motorizados e Motocicletas',\n",
        "'Escritórios de Advocacia, Engenharia, Publicidade e Veterinária',\n",
        "'Educação',\n",
        "'Serviço de Alimentação, Bares, Restaurantes e Vendedores de Alimentos',\n",
        "'Alojamento, Hotéis, Pousadas, etc.',\n",
        "'Fornecimento de Eletricidade e Gás, Água, Esgoto e Resíduos',\n",
        "'Saúde Humana e Assistência Social',\n",
        "'Outros',\n",
        "'Atividades Artísticas, Esportivas e Recreativas',\n",
        "'Informação e Comunicação, Jornais, Rádio, TV, Internet',\n",
        "'Transporte de Passageiros',\n",
        "'Extração de Petróleo, Carvão e Minerais Metálicos',\n",
        "'Organizações Religiosas, Sindicatos e Associações',\n",
        "'Serviço Doméstico Remunerado',\n",
        "'Comércio Atacadista e Varejista',\n",
        "'Construção',\n",
        "'Agricultura, Pecuária, Silvicultura e Pesca',\n",
        "'Armazenamento, Correios e Serviços de Entrega',\n",
        "'Indústria Manufatureira, Incluindo Vestuário e Mobiliário',\n",
        "'Administração Pública Federal, Estadual e Municipal',\n",
        "'Cabeleireiros, Tratamentos de Beleza e Serviços Pessoais',\n",
        "'Locação de Mão-de-Obra, Segurança, Limpeza, Paisagismo e Outros',\n",
        "'Transporte de Carga']\n",
        "bars = plt.barh(activity_label, activity_job_covid['count'], color=pastel_palette)\n",
        "\n",
        "# Adicionar rótulos individuais em cada barra\n",
        "for bar in bars:\n",
        "    plt.text(bar.get_width(), bar.get_y() + bar.get_height() / 2,\n",
        "             f' {int(bar.get_width())}',  # Adiciona espaço para o rótulo não colar na barra\n",
        "             va='center', ha='right')\n",
        "\n",
        "# Adicionar título e rótulos aos eixos\n",
        "plt.title('Probabilidade de Covid por Atividades de Trabalho')\n",
        "plt.xlabel('Atividade Principal de Trabalho')\n",
        "plt.ylabel('Contagem')\n",
        "\n",
        "# Rotacionar os rótulos do eixo x para melhorar a legibilidade\n",
        "plt.xticks(rotation=45, ha='right')\n",
        "\n",
        "# Remover as bordas do gráfico para um look mais \"clean\"\n",
        "plt.box(False)\n",
        "\n",
        "# Mostrar o gráfico\n",
        "plt.tight_layout()\n",
        "plt.show()"
      ],
      "metadata": {
        "id": "qgPYp4EQqEHl",
        "outputId": "ce10fdee-dbfa-4fd7-e3e5-31d0b18b1c0c",
        "colab": {
          "base_uri": "https://localhost:8080/",
          "height": 598
        }
      },
      "execution_count": 380,
      "outputs": [
        {
          "output_type": "display_data",
          "data": {
            "text/plain": [
              "<Figure size 1000x600 with 1 Axes>"
            ],
            "image/png": "[encoded data removed]"
          },
          "metadata": {}
        }
      ]
    },
    {
      "cell_type": "markdown",
      "source": [
        "## Covid cases per state"
      ],
      "metadata": {
        "id": "9H6zG5RIb1Xf"
      }
    },
    {
      "cell_type": "code",
      "source": [
        "import seaborn as sns\n",
        "import matplotlib.pyplot as plt"
      ],
      "metadata": {
        "id": "LH0VPtm8f0CG"
      },
      "execution_count": null,
      "outputs": []
    },
    {
      "cell_type": "code",
      "source": [
        "filtered_df = df_pd_state_covid.query('has_covid==True')\n",
        "filtered_df"
      ],
      "metadata": {
        "id": "GxdVHP0mgt3t"
      },
      "execution_count": null,
      "outputs": []
    },
    {
      "cell_type": "code",
      "source": [
        "# setting plot size\n",
        "plt.figure(figsize=(10, 6))\n",
        "\n",
        "# creating sns barchart\n",
        "ax = sns.barplot(x=filtered_df['state_code'].value_counts().index,\n",
        "                 y=filtered_df['state_code'].value_counts().values,\n",
        "                 palette='rocket')\n",
        "\n",
        "# Title and label\n",
        "plt.xlabel('State Code')\n",
        "plt.ylabel('Count')\n",
        "plt.title('COVID-19 Cases by State, PNAD Contínua Sep/20 to Nov/20')\n",
        "\n",
        "#adding data label\n",
        "for p in ax.patches:\n",
        "    ax.annotate(format(p.get_height(), '.0f'),\n",
        "                (p.get_x() + p.get_width() / 2., p.get_height()),\n",
        "                ha = 'center', va = 'center',\n",
        "                size=10,\n",
        "                xytext = (0, 9),\n",
        "                textcoords = 'offset points')\n",
        "\n",
        "plt.xticks(rotation=45)\n",
        "plt.tight_layout()\n",
        "plt.show()"
      ],
      "metadata": {
        "id": "noGKVW8TfauI"
      },
      "execution_count": null,
      "outputs": []
    },
    {
      "cell_type": "code",
      "source": [
        "# setting plot size\n",
        "plt.figure(figsize=(15, 6))\n",
        "\n",
        "# creating sns barchart\n",
        "ax = sns.countplot(data=filtered_df.query('was_hospitalized == \"yes\" | was_hospitalized==\"no\"'),\n",
        "                 x= 'state_code',\n",
        "                 hue='was_hospitalized',\n",
        "                 palette='rocket')\n",
        "\n",
        "# Title and label\n",
        "plt.xlabel('State Code')\n",
        "plt.ylabel('Count')\n",
        "plt.title('Hospitalized COVID-19 Cases by State, PNAD Contínua Sep/20 to Nov/20')\n",
        "\n",
        "#adding data label\n",
        "for p in ax.patches:\n",
        "    ax.annotate(format(p.get_height(), '.0f'),\n",
        "                (p.get_x() + p.get_width() / 2., p.get_height()),\n",
        "                ha = 'center', va = 'center',\n",
        "                size=10,\n",
        "                xytext = (0, 9),\n",
        "                textcoords = 'offset points')\n",
        "\n",
        "plt.xticks(rotation=45)\n",
        "plt.tight_layout()\n",
        "plt.show"
      ],
      "metadata": {
        "id": "3jsGIRpzgeEM"
      },
      "execution_count": null,
      "outputs": []
    },
    {
      "cell_type": "code",
      "source": [
        "# setting plot size\n",
        "plt.figure(figsize=(15, 6))\n",
        "\n",
        "# creating sns barchart\n",
        "ax = sns.countplot(data=filtered_df.query('was_hospitalized== \"yes\" & (used_ventilator == \"yes\" | used_ventilator==\"no\")'),\n",
        "                 x= 'state_code',\n",
        "                 hue='used_ventilator',\n",
        "                 palette='rocket')\n",
        "\n",
        "# Title and label\n",
        "plt.xlabel('State Code')\n",
        "plt.ylabel('Count')\n",
        "plt.title('Subject used ventilator Cases by State, PNAD Contínua Sep/20 to Nov/20')\n",
        "\n",
        "#adding data label\n",
        "for p in ax.patches:\n",
        "    ax.annotate(format(p.get_height(), '.0f'),\n",
        "                (p.get_x() + p.get_width() / 2., p.get_height()),\n",
        "                ha = 'center', va = 'center',\n",
        "                size=10,\n",
        "                xytext = (0, 9),\n",
        "                textcoords = 'offset points')\n",
        "\n",
        "plt.xticks(rotation=45)\n",
        "plt.tight_layout()\n",
        "plt.show"
      ],
      "metadata": {
        "id": "HXhXsbIDjk8x"
      },
      "execution_count": null,
      "outputs": []
    },
    {
      "cell_type": "code",
      "source": [
        "# @title\n",
        "# setting plot size\n",
        "plt.figure(figsize=(15, 6))\n",
        "\n",
        "# creating sns barchart\n",
        "ax = sns.countplot(data=filtered_df.query('went_to_healthcare_facility == \"yes\" & has_health_insurance != \"not_applicable\"'),\n",
        "                 x= 'state_code',\n",
        "                 hue='has_health_insurance',\n",
        "                 orient = 'h',\n",
        "                 palette='rocket')\n",
        "\n",
        "# Title and label\n",
        "plt.xlabel('State Code')\n",
        "plt.ylabel('Count')\n",
        "plt.title('Subject sought healthcare facility, has_health_insurance breakdown, PNAD Contínua Sep/20 to Nov/20')\n",
        "\n",
        "#adding data label\n",
        "for p in ax.patches:\n",
        "    ax.annotate(format(p.get_height(), '.0f'),\n",
        "                (p.get_x() + p.get_width() / 2., p.get_height()),\n",
        "                ha = 'center', va = 'center', rotation = 45,\n",
        "                size=8,\n",
        "                xytext = (0, 9),\n",
        "                textcoords = 'offset points')\n",
        "\n",
        "plt.xticks(rotation=45)\n",
        "plt.tight_layout()\n",
        "plt.show"
      ],
      "metadata": {
        "id": "H43dwc2fkTwB",
        "cellView": "form"
      },
      "execution_count": null,
      "outputs": []
    }
  ]
}